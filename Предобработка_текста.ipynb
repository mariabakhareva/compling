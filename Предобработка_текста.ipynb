{
  "nbformat": 4,
  "nbformat_minor": 0,
  "metadata": {
    "colab": {
      "provenance": [],
      "include_colab_link": true
    },
    "kernelspec": {
      "name": "python3",
      "display_name": "Python 3"
    },
    "language_info": {
      "name": "python"
    }
  },
  "cells": [
    {
      "cell_type": "markdown",
      "metadata": {
        "id": "view-in-github",
        "colab_type": "text"
      },
      "source": [
        "<a href=\"https://colab.research.google.com/github/mariabakhareva/compling/blob/lab3/%D0%9F%D1%80%D0%B5%D0%B4%D0%BE%D0%B1%D1%80%D0%B0%D0%B1%D0%BE%D1%82%D0%BA%D0%B0_%D1%82%D0%B5%D0%BA%D1%81%D1%82%D0%B0.ipynb\" target=\"_parent\"><img src=\"https://colab.research.google.com/assets/colab-badge.svg\" alt=\"Open In Colab\"/></a>"
      ]
    },
    {
      "cell_type": "markdown",
      "source": [
        "❗ Небольшая оговорка, которую необходимо сделать в самом начале: в зависимости от используемого вами алгоритма нужна разная предобработка. Так, например, если вы используете предобученную модель, изучите информацию о том, на каких данных её обучали. Если скормить предобработанные тексты модели, обучавшейся на сырых данных, или сырые данные модели, обучавшейся на предобработанных, результат будет значительно хуже.\n",
        "\n",
        "Мы рассмотрим полный цикл классической предобработки, которая обычно используется в задачах статистического анализа текстовых данных и при обучении с нуля простых моделей (SVM, LogReg, NaiveBayes)."
      ],
      "metadata": {
        "id": "8SxcNsMIJMvx"
      }
    },
    {
      "cell_type": "markdown",
      "source": [
        "Итак, что же такое предобработка и зачем она нужна?"
      ],
      "metadata": {
        "id": "zWZNS-SDxD4z"
      }
    },
    {
      "cell_type": "markdown",
      "source": [
        "Сырые данные, собранные с просторов интернета, редко бывают в идеальном виде. Например, возьмем страничку с отзывом на ИТМО с сайта Табитуриент. Сырой html выглядит как множество тэгов, ссылок и текста.\n",
        "\n",
        "Если мы хотим работать с данными, то сначала для удобства восприятия нам нужно привести их в желаемый формат."
      ],
      "metadata": {
        "id": "ahzA6HnfxjMD"
      }
    },
    {
      "cell_type": "code",
      "execution_count": null,
      "metadata": {
        "id": "wQ9uWdOjy9v5",
        "colab": {
          "base_uri": "https://localhost:8080/"
        },
        "outputId": "e1248bda-00a4-4090-cd7a-d7d9cf61db4a"
      },
      "outputs": [
        {
          "output_type": "stream",
          "name": "stdout",
          "text": [
            "<html>\n",
            "<head>\n",
            "<title>Отзыв о Санкт-Петербургский национальный исследовательский университет информационных технологий, механики и оптики - Мегафакультет компьютерных технологий и управления</title>\n",
            "<meta name=\"description\" content=\"Табитуриент: Типичный абитуриент\">\n",
            "<meta name=\"keywords\" content=\"Табитуриент: Типичный абитуриент\">\n",
            "<meta name=\"copyright\" lang=\"ru\" content=\"Табитуриент: Типичный абитуриент\">\n",
            "<meta name=\"document-state\" content=\"Dynamic\">\n",
            "<link rel=\"shortcut icon\" href=\"https://tabiturient.ru/favicon.ico\" type=\"image/x-icon\">\n",
            "<link rel=\"icon\" href=\"https://tabiturient.ru/favicon.ico\" type=\"image/x-icon\">\n",
            "<meta http-equiv=\"content-type\" content=\"text/html; charset=utf-8\">\n",
            "<meta name=\"robots\" content=\"index, follow\">\n",
            "<meta property=\"og:image\" content=\"https://tabiturient.ru/logovuz/itmo.png\"/><link href=\"https://tabiturient.ru/css/style.css?v-1-163\" rel=\"stylesheet\" type=\"text/css\">\n",
            "<script type=\"text/javascript\" src=\"https://code.jquery.com/jquery-1.11.1.min.js\"></script>\n",
            "<meta name=\"viewport\" content=\"width=1000, user-scalable=no\">\n",
            "</head>\n",
            "\n",
            "\n",
            "\n",
            "\n",
            "<body>\n",
            "\n",
            "\n",
            "\n",
            "<style>\n",
            ".obram{\n",
            " background:url('https://tabiturient.ru/img/p3.png');  \n",
            "background-position-x: right; \n",
            "background-position-y: bottom; \n",
            "background-repeat: no-repeat; \n",
            "}\n",
            "\n",
            "\n",
            "\n",
            "@media all and (max-width: 1000px) {\n",
            ".obram{\n",
            "background-size: 62%;\n",
            "}\n",
            "\n",
            ".img3sliv{\n",
            "\twidth:120px;\n",
            "\tmargin-left:20px;\n",
            "\tmargin-right:40px;\n",
            "}\n",
            "\t\n",
            "}\n",
            "</style>\n",
            "\n",
            "<div style=\" box-shadow: 0 0 20px rgba(0,0,0,0.5); position:absolute; width:100%;\">\n",
            "\n",
            "\r\n",
            "\r\n",
            "\r\n",
            "\r\n",
            "<div class=\"header\">\r\n",
            "\r\n",
            "<table cellpadding=\"0\" cellspacing=\"0\" class=\"header-in\">\r\n",
            "<tr>\r\n",
            "<td valign=\"bottom\" style=\"padding-right:2px;\">\r\n",
            "\r\n",
            "\r\n",
            "<table cellpadding=\"0\" cellspacing=\"0\" style=\"width:100%;\">\r\n",
            "<tr>\r\n",
            "<td><a href=\"https://tabiturient.ru\"><img src=\"https://tabiturient.ru/img/ezgif-7-bbe7039c8a20.gif\" class=\"logo\"></a></td>\r\n",
            "\r\n",
            "<td class=\"nonmobile\">\r\n",
            "\r\n",
            "<style>\r\n",
            ".userlab{\r\n",
            "\tborder:solid 1px #ccc; \r\n",
            "\tborder-radius:5px; \r\n",
            "\tfloat:right; \r\n",
            "\tmargin-right:-3px;\r\n",
            "\tbackground:#ffffff;\r\n",
            "}\r\n",
            "\r\n",
            ".userlab:hover{\r\n",
            "\tbackground:#f1f1f1;\r\n",
            "}\r\n",
            "\r\n",
            ".userlabimg{\r\n",
            "\twidth:30px;\r\n",
            "  -webkit-transform: rotate(0deg);\r\n",
            "  -moz-transform: rotate(0deg);\r\n",
            "  -ms-transform: rotate(0deg);\r\n",
            "  -o-transform: rotate(0deg);\r\n",
            "  transform: rotate(0deg);  \r\n",
            "    -webkit-transition: all .2s;\r\n",
            "    -moz-transition: all .2s;\r\n",
            "    -o-transition: all .2s;\r\n",
            "    transition: all .2s; \r\n",
            "}\r\n",
            "\r\n",
            ".userlab:hover .userlabimg{\r\n",
            "\t -webkit-transform: rotate(180deg);\r\n",
            "  -moz-transform: rotate(180deg);\r\n",
            "  -ms-transform: rotate(180deg);\r\n",
            "  -o-transform: rotate(180deg);\r\n",
            "  transform: rotate(180deg);  \r\n",
            "}\r\n",
            "\r\n",
            ".userlabdopcont{\r\n",
            "\tposition:absolute; \r\n",
            "\tright:0; \r\n",
            "\tz-index:99999; \r\n",
            "\tmin-width:300px;\r\n",
            "\tdisplay:none;\r\n",
            "}\r\n",
            "\r\n",
            ".userlab:hover .userlabdopcont{\r\n",
            "\tdisplay:block;  \r\n",
            "}\r\n",
            "</style>\r\n",
            "\r\n",
            "\r\n",
            "\r\n",
            "<table cellpadding=\"0\" cellspacing=\"0\" class=\"cirfloat2\" onclick=\"$('#popup4').fadeIn(0); \">\r\n",
            "<tr>\r\n",
            "<td><table cellpadding=\"0\" cellspacing=\"0\" class=\"circ3\" style=\"border-radius:5px; box-shadow: 0 0 10px rgba(0,0,0,0.3); border:none; margin-left:10px;\"><tr>\r\n",
            "<td><span class=\"font2\" style=\"padding-right:10px;\"><b>Вход</b></span></td>\r\n",
            "<td><img src=\"https://tabiturient.ru/img/login.png\" /></td></tr></table></td>\r\n",
            "</tr>\r\n",
            "</table>\r\n",
            "\r\n",
            "\r\n",
            "<table cellpadding=\"0\" cellspacing=\"0\" class=\"cirfloat2\" onclick=\"registr('https://tabiturient.ru','/sliv/n/?2242')\">\r\n",
            "<tr>\r\n",
            "<td><table cellpadding=\"0\" cellspacing=\"0\" class=\"circ3\" style=\"border-radius:5px; box-shadow: 0 0 10px rgba(0,0,0,0.3); border:none;\"><tr>\r\n",
            "<td><span class=\"font2\" style=\"padding-right:10px;\"><b>Регистрация</b></span></td>\r\n",
            "<td><img src=\"https://tabiturient.ru/img/user.png\" /></td></tr></table></td>\r\n",
            "</tr>\r\n",
            "</table>\r\n",
            "\r\n",
            "\r\n",
            "\r\n",
            "\r\n",
            "<!--\r\n",
            "<a href=\"https://vk.com/tipichnuy_abiturient\">\r\n",
            "<table cellpadding=\"0\" cellspacing=\"0\" class=\"cirfloat2\">\r\n",
            "<tr>\r\n",
            "<td><table cellpadding=\"0\" cellspacing=\"0\" class=\"circ3\"><tr><td><img src=\"https://tabiturient.ru/img/vk.png\" /></td></tr></table></td>\r\n",
            "</tr>\r\n",
            "\r\n",
            "</table>\r\n",
            "</a>\r\n",
            "-->\r\n",
            "\r\n",
            "\r\n",
            "</td>\r\n",
            "\r\n",
            "<td class=\"yesmobile3\" >\r\n",
            "<table cellpadding=\"0\" cellspacing=\"0\" onclick=\"openmenu2('https://tabiturient.ru');\">\r\n",
            "<tr>\r\n",
            "<td>\r\n",
            "<table cellpadding=\"0\" cellspacing=\"0\" style=\"background:#ffffff; border:solid 6px #000; border-radius:100%; height:120px; width:120px;\" class=\"cardimg2\" >\r\n",
            "<tr>\r\n",
            "<td>\r\n",
            "<center>\r\n",
            "<img src=\"https://tabiturient.ru/img/login.png\" style=\"width:60px;\" class=\"imginavatar\">\r\n",
            "</center>\r\n",
            "<span id=\"listopen2\" style=\"display:none;\">0</span>\r\n",
            "</td>\r\n",
            "</tr>\r\n",
            "</table>\r\n",
            "</td>\r\n",
            "<td style=\"width:1px;\"><img src=\"https://tabiturient.ru/img/arrowdown.png\" class=\"userlabimg2\"></td>\r\n",
            "</tr>\r\n",
            "</table>\r\n",
            "</td>\r\n",
            "\r\n",
            "\r\n",
            "\r\n",
            "\r\n",
            "<td><img src=\"https://tabiturient.ru/img/list.png\" class=\"list\" onclick=\"openmenu('https://tabiturient.ru');\" style=\"width:70px;\">\r\n",
            "<span id=\"listopen\" style=\"display:none;\">0</span>\r\n",
            "</td>\r\n",
            "</tr>\r\n",
            "</table>\r\n",
            "\r\n",
            "\r\n",
            "<style>\r\n",
            "\r\n",
            ".dopmenuinheader{\r\n",
            "\tdisplay:none;\r\n",
            "\twidth:300px; \r\n",
            "\tposition:absolute; \r\n",
            "\tz-index:999; \r\n",
            "\tleft:50%;\r\n",
            "transform:translate(-50%, 0%);\r\n",
            "}\r\n",
            "\r\n",
            ".menubuttondopmenu:hover .dopmenuinheader{\r\n",
            "\tdisplay:block;\r\n",
            "}\r\n",
            "\r\n",
            ".menubuttondopmenu:hover .arrow4{\r\n",
            "\tdisplay:none;\r\n",
            "}\r\n",
            "\r\n",
            "\r\n",
            ".arrow8{\r\n",
            "\tcontent: '';\r\n",
            "  border-left: 20px solid transparent;\r\n",
            "  border-bottom: 20px solid #f1f1f1;\r\n",
            "  border-right: 20px solid transparent;\r\n",
            "  margin: 0 auto;\r\n",
            "}\r\n",
            "\r\n",
            ".dopmenuinheaderin{\r\n",
            "\tbackground:#ffffff; \r\n",
            "\tborder-radius:5px; \r\n",
            "\tbox-shadow: 0 0 20px rgba(0,0,0,0.5);\r\n",
            "\tborder-radius:10px; \r\n",
            "\toverflow:hidden;\r\n",
            "}\r\n",
            "\r\n",
            ".menubuttonin3{\r\n",
            "\tborder:solid 1px #ccc; \r\n",
            "\tborder-bottom:solid 0px #ccc; \r\n",
            "\twidth:100%;\r\n",
            "}\r\n",
            "\r\n",
            ".menubuttonin3:hover{\r\n",
            "\tbackground:#f1f1f1;\r\n",
            "}\r\n",
            "\r\n",
            ".menubuttonin3active{\r\n",
            "\tbackground:#404040;\r\n",
            "\tcolor:white;\r\n",
            "\tborder:solid 1px #404040; \r\n",
            "\tborder-bottom:solid 0px #ccc; \r\n",
            "}\r\n",
            "\r\n",
            ".menubuttonin3active:hover{\r\n",
            "\tbackground:#404040;\r\n",
            "\tcolor:white;\r\n",
            "}\r\n",
            "\r\n",
            ".menuuser{\r\n",
            "\tdisplay:none;\r\n",
            "}\r\n",
            "\r\n",
            "\t\r\n",
            "\r\n",
            ".userlabimg2{\r\n",
            "\tbackground:#fff;\r\n",
            "\tborder-radius:100%;\r\n",
            "\twidth:60px;\r\n",
            "\tmargin-left:-30px;\r\n",
            "  -webkit-transform: rotate(0deg);\r\n",
            "  -moz-transform: rotate(0deg);\r\n",
            "  -ms-transform: rotate(0deg);\r\n",
            "  -o-transform: rotate(0deg);\r\n",
            "  transform: rotate(0deg);  \r\n",
            "    -webkit-transition: all .2s;\r\n",
            "    -moz-transition: all .2s;\r\n",
            "    -o-transition: all .2s;\r\n",
            "    transition: all .2s; \r\n",
            "}\r\n",
            "\r\n",
            ".userlabimg2active{\r\n",
            "-webkit-transform: rotate(180deg);\r\n",
            "  -moz-transform: rotate(180deg);\r\n",
            "  -ms-transform: rotate(180deg);\r\n",
            "  -o-transform: rotate(180deg);\r\n",
            "  transform: rotate(180deg);  \r\n",
            "}\r\n",
            "\r\n",
            "\r\n",
            "@media all and (max-width: 1000px) {\r\n",
            ".menubuttondopmenu{\r\n",
            "display:none;\r\n",
            "}\r\n",
            ".menutrinmob{\r\n",
            "\tpadding:40px;\r\n",
            "\tpadding-top:0;\r\n",
            "}\t\r\n",
            "\r\n",
            ".menutrinmob2{\r\n",
            "\tborder:solid 1px #ccc;\r\n",
            "\tborder-radius:10px;\r\n",
            "\toverflow:hidden;\r\n",
            "\tbox-shadow: 0 0 10px rgba(0,0,0,0.3);\r\n",
            "}\r\n",
            ".menu{\r\n",
            "\tborder:none;\r\n",
            "}\r\n",
            "\r\n",
            "}\r\n",
            "\r\n",
            "</style>\r\n",
            "\r\n",
            "\r\n",
            "\r\n",
            "\r\n",
            "\r\n",
            "<div class=\"menuobram\" style=\"padding-top:0;\">\r\n",
            "\r\n",
            "<div class=\"menuuser\">\r\n",
            "<div class=\"menutr\" >\r\n",
            "<div class=\"menutrinmob\" >\r\n",
            "<div class=\"menutrinmob2\" >\r\n",
            "\r\n",
            "<div class=\"yesmobile1\">\r\n",
            "\r\n",
            "\r\n",
            "<div class=\"menubutton\" onclick=\"$('#popup4').fadeIn(0); \">\r\n",
            "<table cellpadding=\"0\" cellspacing=\"0\" class=\"menubuttonin\">\r\n",
            "<tr>\r\n",
            "<td class=\"p20 menubuttoninmob\" style=\"padding-right:0; \"><img src=\"https://tabiturient.ru/img/login.png\" class=\"img2\" style=\"margin-left:0;\"/></td>\r\n",
            "<td class=\"p20\"><span class=\"font11\"><b>Вход в личный кабинет</b></span>\r\n",
            "</td>\r\n",
            "<td class=\"p20 menubuttoninmob\"><img src=\"https://tabiturient.ru/img/arrowright.png\" class=\"img2\"/></td>\r\n",
            "</tr>\r\n",
            "</table>\r\n",
            "</div>\r\n",
            "\r\n",
            "\r\n",
            "<div class=\"menubutton\" onclick=\"registr('https://tabiturient.ru','/sliv/n/?2242')\">\r\n",
            "<table cellpadding=\"0\" cellspacing=\"0\" class=\"menubuttonin\">\r\n",
            "<tr>\r\n",
            "<td class=\"p20 menubuttoninmob\" style=\"padding-right:0;\"><img src=\"https://tabiturient.ru/img/user.png\" class=\"img2\" style=\"margin-left:0;\"/></td>\r\n",
            "<td class=\"p20\"><span class=\"font11\"><b>Регистрация</b></span>\r\n",
            "</td>\r\n",
            "<td class=\"p20 menubuttoninmob\"><img src=\"https://tabiturient.ru/img/arrowright.png\" class=\"img2\"/></td>\r\n",
            "</tr>\r\n",
            "</table>\r\n",
            "</div>\r\n",
            "\r\n",
            "\r\n",
            "</div>\r\n",
            "\r\n",
            "\r\n",
            "\r\n",
            "\r\n",
            "</div>\r\n",
            "</div>\r\n",
            "</div>\r\n",
            "</div>\r\n",
            "\r\n",
            "\r\n",
            "\r\n",
            "<div class=\"menu\">\r\n",
            "<div class=\"menutr\" >\r\n",
            "<div class=\"menutrinmob\" >\r\n",
            "<div class=\"menutrinmob2\" >\r\n",
            "\r\n",
            "\r\n",
            "<div class=\"yesmobile1\">\r\n",
            "\r\n",
            "\r\n",
            "\r\n",
            "\r\n",
            "\r\n",
            "\r\n",
            "\r\n",
            "\r\n",
            "</div>\r\n",
            "\r\n",
            "<div class=\"menubutton  menubuttonleft\">\r\n",
            "<a href=\"https://tabiturient.ru\">\r\n",
            "<table cellpadding=\"0\" cellspacing=\"0\" class=\"menubuttonin\">\r\n",
            "<tr>\r\n",
            "<td class=\"p20menu2\" ><span class=\"font11\"><b>Поиск вуза</b></span>\r\n",
            "</td>\r\n",
            "<td class=\"p20 menubuttoninmob\"><img src=\"https://tabiturient.ru/img/arrowright.png\" class=\"img2\"/></td>\r\n",
            "</tr>\r\n",
            "</table>\r\n",
            "</a>\r\n",
            "</div>\r\n",
            "\r\n",
            "\r\n",
            "\r\n",
            "<div class=\"menubutton \">\r\n",
            "<a href=\"https://tabiturient.ru/np\">\r\n",
            "<table cellpadding=\"0\" cellspacing=\"0\" class=\"menubuttonin\">\r\n",
            "<tr>\r\n",
            "<td class=\"p20menu2\"><span class=\"font11\" style=\"white-space:nowrap\"><b>Поиск специальности</b></span>\r\n",
            "</td>\r\n",
            "<td class=\"p20 menubuttoninmob\"><img src=\"https://tabiturient.ru/img/arrowright.png\" class=\"img2\"/></td>\r\n",
            "</tr>\r\n",
            "</table>\r\n",
            "</a>\r\n",
            "</div>\r\n",
            "\r\n",
            "\r\n",
            "\r\n",
            "\r\n",
            "\r\n",
            "<div class=\"menubuttondopmenu menubutton \" >\r\n",
            "<a href=\"https://tabiturient.ru/calculator\" >\r\n",
            "<table cellpadding=\"0\" cellspacing=\"0\" class=\"menubuttonin\">\r\n",
            "<tr>\r\n",
            "<td class=\"p20menu2\"><span class=\"font11\"><b>Калькулятор</b></span>\r\n",
            "</td>\r\n",
            "<td class=\"p20 menubuttoninmob\"><img src=\"https://tabiturient.ru/img/arrowright.png\" class=\"img2\"/></td>\r\n",
            "</tr>\r\n",
            "</table>\r\n",
            "</a>\r\n",
            "\r\n",
            "\r\n",
            "<div class=\"dopmenuinheader\">\r\n",
            "<table cellpadding=\"0\" cellspacing=\"0\" class=\"arrow8\"><tr><td></td></tr></table>\r\n",
            "<div class=\"dopmenuinheaderin\">\r\n",
            "\r\n",
            "<a href=\"https://tabiturient.ru/calculator\">\r\n",
            "<table cellpadding=\"0\" cellspacing=\"0\" class=\"menubuttonin3 \">\r\n",
            "<tr>\r\n",
            "<td class=\"p20\"><span class=\"font1\"><b>Калькулятор ЕГЭ</b></span>\r\n",
            "</td>\r\n",
            "</tr>\r\n",
            "</table>\r\n",
            "</a>\r\n",
            "\r\n",
            "\r\n",
            "<a href=\"https://tabiturient.ru/calculator/pay\">\r\n",
            "<table cellpadding=\"0\" cellspacing=\"0\" class=\"menubuttonin3 \">\r\n",
            "<tr>\r\n",
            "<td class=\"p20\"><span class=\"font1\"><b>Калькулятор платного обучения</b></span>\r\n",
            "</td>\r\n",
            "</tr>\r\n",
            "</table>\r\n",
            "</a>\r\n",
            "\r\n",
            "</div>\r\n",
            "</div>\r\n",
            "\r\n",
            "</div>\r\n",
            "\r\n",
            "\r\n",
            "<div class=\"menubutton \">\r\n",
            "<a href=\"https://tabiturient.ru/slivlist\">\r\n",
            "<table cellpadding=\"0\" cellspacing=\"0\" class=\"menubuttonin\">\r\n",
            "<tr>\r\n",
            "<td class=\"p20menu2\"><span class=\"font11\"><b>Отзывы</b></span>\r\n",
            "</td>\r\n",
            "<td class=\"p20 menubuttoninmob\"><img src=\"https://tabiturient.ru/img/arrowright.png\" class=\"img2\"/></td>\r\n",
            "</tr>\r\n",
            "</table>\r\n",
            "</a>\r\n",
            "</div>\r\n",
            "\r\n",
            "\r\n",
            "\r\n",
            "\r\n",
            "\r\n",
            "<div class=\"menubuttondopmenu menubutton \" >\r\n",
            "<a href=\"https://tabiturient.ru/rating\" >\r\n",
            "<table cellpadding=\"0\" cellspacing=\"0\" class=\"menubuttonin\">\r\n",
            "<tr>\r\n",
            "<td class=\"p20menu2\"><span class=\"font11\"><b>Рейтинги</b></span>\r\n",
            "</td>\r\n",
            "<td class=\"p20 menubuttoninmob\"><img src=\"https://tabiturient.ru/img/arrowright.png\" class=\"img2\"/></td>\r\n",
            "</tr>\r\n",
            "</table>\r\n",
            "</a>\r\n",
            "\r\n",
            "\r\n",
            "<div class=\"dopmenuinheader\">\r\n",
            "<table cellpadding=\"0\" cellspacing=\"0\" class=\"arrow8\"><tr><td></td></tr></table>\r\n",
            "<div class=\"dopmenuinheaderin\">\r\n",
            "\r\n",
            "<a href=\"https://tabiturient.ru/globalrating\">\r\n",
            "<table cellpadding=\"0\" cellspacing=\"0\" class=\"menubuttonin3 \">\r\n",
            "<tr>\r\n",
            "<td class=\"p20\"><span class=\"font1\"><b>Общий рейтинг вузов</b></span>\r\n",
            "</td>\r\n",
            "</tr>\r\n",
            "</table>\r\n",
            "</a>\r\n",
            "\r\n",
            "<a href=\"https://tabiturient.ru/rating\">\r\n",
            "<table cellpadding=\"0\" cellspacing=\"0\" class=\"menubuttonin3 \">\r\n",
            "<tr>\r\n",
            "<td class=\"p20\"><span class=\"font1\"><b>Рейтинг вузов по отзывам</b></span>\r\n",
            "</td>\r\n",
            "</tr>\r\n",
            "</table>\r\n",
            "</a>\r\n",
            "\r\n",
            "<a href=\"https://tabiturient.ru/100program\">\r\n",
            "<table cellpadding=\"0\" cellspacing=\"0\" class=\"menubuttonin3 \">\r\n",
            "<tr>\r\n",
            "<td class=\"p20\"><span class=\"font1\"><b>Топ-100 популярных образовательных программ</b></span>\r\n",
            "</td>\r\n",
            "</tr>\r\n",
            "</table>\r\n",
            "</a>\r\n",
            "\r\n",
            "<a href=\"https://tabiturient.ru/topspec\">\r\n",
            "<table cellpadding=\"0\" cellspacing=\"0\" class=\"menubuttonin3 \">\r\n",
            "<tr>\r\n",
            "<td class=\"p20\"><span class=\"font1\"><b>Топ популярных направлений подготовки</b></span>\r\n",
            "</td>\r\n",
            "</tr>\r\n",
            "</table>\r\n",
            "</a>\r\n",
            "\r\n",
            "<a href=\"https://tabiturient.ru/vuzcost\">\r\n",
            "<table cellpadding=\"0\" cellspacing=\"0\" class=\"menubuttonin3 \">\r\n",
            "<tr>\r\n",
            "<td class=\"p20\"><span class=\"font1\"><b>Рейтинг вузов по стоимости обучения</b></span>\r\n",
            "</td>\r\n",
            "</tr>\r\n",
            "</table>\r\n",
            "</a>\r\n",
            "\r\n",
            "\r\n",
            "<a href=\"https://tabiturient.ru/vuzege\">\r\n",
            "<table cellpadding=\"0\" cellspacing=\"0\" class=\"menubuttonin3 \">\r\n",
            "<tr>\r\n",
            "<td class=\"p20\"><span class=\"font1\"><b>Рейтинг вузов по проходному баллу</b></span>\r\n",
            "</td>\r\n",
            "</tr>\r\n",
            "</table>\r\n",
            "</a>\r\n",
            "\r\n",
            "</div>\r\n",
            "</div>\r\n",
            "\r\n",
            "</div>\r\n",
            "\r\n",
            "\r\n",
            "<div class=\"menubuttondopmenu menubutton menubuttonright menubuttonactive\" style=\"border-right:0;\">\r\n",
            "\r\n",
            "<table cellpadding=\"0\" cellspacing=\"0\" class=\"menubuttonin\">\r\n",
            "<tr>\r\n",
            "<td style=\"padding:20px; padding-left:5px; padding-right:5px;\"><img src=\"https://tabiturient.ru/img/more3.png\" style=\"width:20px;\"></span>\r\n",
            "</td>\r\n",
            "<td class=\"p20 menubuttoninmob\"><img src=\"https://tabiturient.ru/img/arrowright.png\" class=\"img2\"/></td>\r\n",
            "</tr>\r\n",
            "</table>\r\n",
            "\r\n",
            "\r\n",
            "\r\n",
            "\r\n",
            "\r\n",
            "<div class=\"dopmenuinheader\">\r\n",
            "<table cellpadding=\"0\" cellspacing=\"0\" class=\"arrow8\"><tr><td></td></tr></table>\r\n",
            "<div class=\"dopmenuinheaderin\">\r\n",
            "\r\n",
            "<a href=\"https://tabiturient.ru/dod\">\r\n",
            "<table cellpadding=\"0\" cellspacing=\"0\" class=\"menubuttonin3 \">\r\n",
            "<tr>\r\n",
            "<td class=\"p20\"><span class=\"font1\"><b>Дни открытых дверей</b></span>\r\n",
            "</td>\r\n",
            "</tr>\r\n",
            "</table>\r\n",
            "</a>\r\n",
            "\r\n",
            "\r\n",
            "<a href=\"https://tabiturient.ru/sravni\">\r\n",
            "<table cellpadding=\"0\" cellspacing=\"0\" class=\"menubuttonin3 \">\r\n",
            "<tr>\r\n",
            "<td class=\"p20\"><span class=\"font1\"><b>Сравнить вузы</b></span>\r\n",
            "</td>\r\n",
            "</tr>\r\n",
            "</table>\r\n",
            "</a>\r\n",
            "\r\n",
            "<a href=\"https://tabiturient.ru/article\">\r\n",
            "<table cellpadding=\"0\" cellspacing=\"0\" class=\"menubuttonin3 \">\r\n",
            "<tr>\r\n",
            "<td class=\"p20\"><span class=\"font1\"><b>Статьи и советы</b></span>\r\n",
            "</td>\r\n",
            "</tr>\r\n",
            "</table>\r\n",
            "</a>\r\n",
            "\r\n",
            "<a href=\"https://tabiturient.ru/question\">\r\n",
            "<table cellpadding=\"0\" cellspacing=\"0\" class=\"menubuttonin3 \">\r\n",
            "<tr>\r\n",
            "<td class=\"p20\"><span class=\"font1\"><b>Вопросы о поступлении</b></span>\r\n",
            "</td>\r\n",
            "</tr>\r\n",
            "</table>\r\n",
            "</a>\r\n",
            "\r\n",
            "\r\n",
            "<a href=\"https://tabiturient.ru/zaklad\">\r\n",
            "<table cellpadding=\"0\" cellspacing=\"0\" class=\"menubuttonin3 \">\r\n",
            "<tr>\r\n",
            "<td class=\"p20\"><span class=\"font1\"><b>Сохраненные программы</b></span>\r\n",
            "</td>\r\n",
            "</tr>\r\n",
            "</table>\r\n",
            "</a>\r\n",
            "\r\n",
            "<a href=\"https://tabiturient.ru/premium\">\r\n",
            "<table cellpadding=\"0\" cellspacing=\"0\" class=\"menubuttonin3 \">\r\n",
            "<tr>\r\n",
            "<td class=\"p20\"><span class=\"font1\"><b>Премиум-доступ</b></span>\r\n",
            "</td>\r\n",
            "</tr>\r\n",
            "</table>\r\n",
            "</a>\r\n",
            "\r\n",
            "\r\n",
            "\r\n",
            "\r\n",
            "</div>\r\n",
            "</div>\r\n",
            "\r\n",
            "</div>\r\n",
            "\r\n",
            "\r\n",
            "\r\n",
            "<div class=\"yesmobile1\">\r\n",
            "\r\n",
            "<div class=\"menubutton menubuttonright \" style=\"border-right:0;\">\r\n",
            "<a href=\"https://tabiturient.ru/calculator\">\r\n",
            "<table cellpadding=\"0\" cellspacing=\"0\" class=\"menubuttonin\">\r\n",
            "<tr>\r\n",
            "<td class=\"p20\"><span class=\"font11\"><b>Калькулятор ЕГЭ</b></span>\r\n",
            "</td>\r\n",
            "<td class=\"p20 menubuttoninmob\"><img src=\"https://tabiturient.ru/img/arrowright.png\" class=\"img2\"/></td>\r\n",
            "</tr>\r\n",
            "</table>\r\n",
            "</a>\r\n",
            "</div>\r\n",
            "\r\n",
            "<div class=\"menubutton menubuttonright \" style=\"border-right:0;\">\r\n",
            "<a href=\"https://tabiturient.ru/calculator/pay\">\r\n",
            "<table cellpadding=\"0\" cellspacing=\"0\" class=\"menubuttonin\">\r\n",
            "<tr>\r\n",
            "<td class=\"p20\"><span class=\"font11\"><b>Калькулятор платного обучения</b></span>\r\n",
            "</td>\r\n",
            "<td class=\"p20 menubuttoninmob\"><img src=\"https://tabiturient.ru/img/arrowright.png\" class=\"img2\"/></td>\r\n",
            "</tr>\r\n",
            "</table>\r\n",
            "</a>\r\n",
            "</div>\r\n",
            "\r\n",
            "<div class=\"menubutton menubuttonright \" style=\"border-right:0;\">\r\n",
            "<a href=\"https://tabiturient.ru/dod\">\r\n",
            "<table cellpadding=\"0\" cellspacing=\"0\" class=\"menubuttonin\">\r\n",
            "<tr>\r\n",
            "<td class=\"p20\"><span class=\"font11\"><b>Дни открытых дверей</b></span>\r\n",
            "</td>\r\n",
            "<td class=\"p20 menubuttoninmob\"><img src=\"https://tabiturient.ru/img/arrowright.png\" class=\"img2\"/></td>\r\n",
            "</tr>\r\n",
            "</table>\r\n",
            "</a>\r\n",
            "</div>\r\n",
            "\r\n",
            "\r\n",
            "\r\n",
            "\r\n",
            "<div class=\"menubutton menubuttonright \" style=\"border-right:0;\">\r\n",
            "<a href=\"https://tabiturient.ru/sravni\">\r\n",
            "<table cellpadding=\"0\" cellspacing=\"0\" class=\"menubuttonin\">\r\n",
            "<tr>\r\n",
            "<td class=\"p20\"><span class=\"font11\"><b>Сравнить вузы</b></span>\r\n",
            "</td>\r\n",
            "<td class=\"p20 menubuttoninmob\"><img src=\"https://tabiturient.ru/img/arrowright.png\" class=\"img2\"/></td>\r\n",
            "</tr>\r\n",
            "</table>\r\n",
            "</a>\r\n",
            "</div>\r\n",
            "\r\n",
            "<div class=\"menubutton menubuttonright \" style=\"border-right:0;\">\r\n",
            "<a href=\"https://tabiturient.ru/article\">\r\n",
            "<table cellpadding=\"0\" cellspacing=\"0\" class=\"menubuttonin\">\r\n",
            "<tr>\r\n",
            "<td class=\"p20\"><span class=\"font11\"><b>Статьи и советы</b></span>\r\n",
            "</td>\r\n",
            "<td class=\"p20 menubuttoninmob\"><img src=\"https://tabiturient.ru/img/arrowright.png\" class=\"img2\"/></td>\r\n",
            "</tr>\r\n",
            "</table>\r\n",
            "</a>\r\n",
            "</div>\r\n",
            "\r\n",
            "<div class=\"menubutton menubuttonright \" style=\"border-right:0;\">\r\n",
            "<a href=\"https://tabiturient.ru/question\">\r\n",
            "<table cellpadding=\"0\" cellspacing=\"0\" class=\"menubuttonin\">\r\n",
            "<tr>\r\n",
            "<td class=\"p20\"><span class=\"font11\"><b>Вопросы о поступлении</b></span>\r\n",
            "</td>\r\n",
            "<td class=\"p20 menubuttoninmob\"><img src=\"https://tabiturient.ru/img/arrowright.png\" class=\"img2\"/></td>\r\n",
            "</tr>\r\n",
            "</table>\r\n",
            "</a>\r\n",
            "</div>\r\n",
            "\r\n",
            "<div class=\"menubutton menubuttonright \" style=\"border-right:0;\">\r\n",
            "<a href=\"https://tabiturient.ru/zaklad\">\r\n",
            "<table cellpadding=\"0\" cellspacing=\"0\" class=\"menubuttonin\">\r\n",
            "<tr>\r\n",
            "<td class=\"p20\"><span class=\"font11\"><b>Сохраненные программы</b></span>\r\n",
            "</td>\r\n",
            "<td class=\"p20 menubuttoninmob\"><img src=\"https://tabiturient.ru/img/arrowright.png\" class=\"img2\"/></td>\r\n",
            "</tr>\r\n",
            "</table>\r\n",
            "</a>\r\n",
            "</div>\r\n",
            "\r\n",
            "\r\n",
            "<div class=\"menubutton menubuttonright \" style=\"border-right:0;\">\r\n",
            "<a href=\"https://tabiturient.ru/premium\">\r\n",
            "<table cellpadding=\"0\" cellspacing=\"0\" class=\"menubuttonin\">\r\n",
            "<tr>\r\n",
            "<td class=\"p20\"><span class=\"font11\"><b>Премиум-доступ</b></span>\r\n",
            "</td>\r\n",
            "<td class=\"p20 menubuttoninmob\"><img src=\"https://tabiturient.ru/img/arrowright.png\" class=\"img2\"/></td>\r\n",
            "</tr>\r\n",
            "</table>\r\n",
            "</a>\r\n",
            "</div>\r\n",
            "\r\n",
            "\r\n",
            "<div class=\"menubutton menubuttonright\" onclick=\"openf('11');\">\r\n",
            "<table cellpadding=\"0\" cellspacing=\"0\" class=\"menubuttonin\">\r\n",
            "<tr>\r\n",
            "<td class=\"p20\"><span class=\"font11\"><b>Рейтинги</b></span></td>\r\n",
            "<td class=\"p20 menubuttoninmob\"><img src=\"https://tabiturient.ru/img/arrowdown.png\" class=\"openimg img2\" id=\"openimg11\"/>\r\n",
            "<span id=\"openstatus11\" style=\"display:none;\">0</span>\r\n",
            "</td>\r\n",
            "</tr>\r\n",
            "</table>\r\n",
            "</div>\r\n",
            "\r\n",
            "<div class=\"open\" id=\"open11\">\r\n",
            "<div class=\"menubutton menubuttonright \" style=\"border-right:0;\">\r\n",
            "<a href=\"https://tabiturient.ru/globalrating\">\r\n",
            "<table cellpadding=\"0\" cellspacing=\"0\" class=\"menubuttonin\">\r\n",
            "<tr>\r\n",
            "<td class=\"p20\"><span class=\"font11\"><b>Общий рейтинг вузов</b></span>\r\n",
            "</td>\r\n",
            "<td class=\"p20 menubuttoninmob\"><img src=\"https://tabiturient.ru/img/arrowright.png\" class=\"img2\"/></td>\r\n",
            "</tr>\r\n",
            "</table>\r\n",
            "</a>\r\n",
            "</div>\r\n",
            "\r\n",
            "<div class=\"menubutton menubuttonright \" style=\"border-right:0;\">\r\n",
            "<a href=\"https://tabiturient.ru/rating\">\r\n",
            "<table cellpadding=\"0\" cellspacing=\"0\" class=\"menubuttonin\">\r\n",
            "<tr>\r\n",
            "<td class=\"p20\"><span class=\"font11\"><b>Рейтинг вузов Рейтинг вузов по отзывам</b></span>\r\n",
            "</td>\r\n",
            "<td class=\"p20 menubuttoninmob\"><img src=\"https://tabiturient.ru/img/arrowright.png\" class=\"img2\"/></td>\r\n",
            "</tr>\r\n",
            "</table>\r\n",
            "</a>\r\n",
            "</div>\r\n",
            "\r\n",
            "<div class=\"menubutton menubuttonright \" style=\"border-right:0;\">\r\n",
            "<a href=\"https://tabiturient.ru/100program\">\r\n",
            "<table cellpadding=\"0\" cellspacing=\"0\" class=\"menubuttonin\">\r\n",
            "<tr>\r\n",
            "<td class=\"p20\"><span class=\"font11\"><b>Топ-100 популярных образовательных программ</b></span>\r\n",
            "</td>\r\n",
            "<td class=\"p20 menubuttoninmob\"><img src=\"https://tabiturient.ru/img/arrowright.png\" class=\"img2\"/></td>\r\n",
            "</tr>\r\n",
            "</table>\r\n",
            "</a>\r\n",
            "</div>\r\n",
            "\r\n",
            "<div class=\"menubutton menubuttonright \" style=\"border-right:0;\">\r\n",
            "<a href=\"https://tabiturient.ru/topspec\">\r\n",
            "<table cellpadding=\"0\" cellspacing=\"0\" class=\"menubuttonin\">\r\n",
            "<tr>\r\n",
            "<td class=\"p20\"><span class=\"font11\"><b>Топ популярных направлений подготовки</b></span>\r\n",
            "</td>\r\n",
            "<td class=\"p20 menubuttoninmob\"><img src=\"https://tabiturient.ru/img/arrowright.png\" class=\"img2\"/></td>\r\n",
            "</tr>\r\n",
            "</table>\r\n",
            "</a>\r\n",
            "</div>\r\n",
            "\r\n",
            "<div class=\"menubutton menubuttonright \" style=\"border-right:0;\">\r\n",
            "<a href=\"https://tabiturient.ru/vuzcost\">\r\n",
            "<table cellpadding=\"0\" cellspacing=\"0\" class=\"menubuttonin\">\r\n",
            "<tr>\r\n",
            "<td class=\"p20\"><span class=\"font11\"><b>Рейтинг вузов по стоимости обучения</b></span>\r\n",
            "</td>\r\n",
            "<td class=\"p20 menubuttoninmob\"><img src=\"https://tabiturient.ru/img/arrowright.png\" class=\"img2\"/></td>\r\n",
            "</tr>\r\n",
            "</table>\r\n",
            "</a>\r\n",
            "</div>\r\n",
            "\r\n",
            "\r\n",
            "<div class=\"menubutton menubuttonright \" style=\"border-right:0;\">\r\n",
            "<a href=\"https://tabiturient.ru/vuzege\">\r\n",
            "<table cellpadding=\"0\" cellspacing=\"0\" class=\"menubuttonin\">\r\n",
            "<tr>\r\n",
            "<td class=\"p20\"><span class=\"font11\"><b>Рейтинг вузов по проходному баллу</b></span>\r\n",
            "</td>\r\n",
            "<td class=\"p20 menubuttoninmob\"><img src=\"https://tabiturient.ru/img/arrowright.png\" class=\"img2\"/></td>\r\n",
            "</tr>\r\n",
            "</table>\r\n",
            "</a>\r\n",
            "</div>\r\n",
            "</div>\r\n",
            "\r\n",
            "\r\n",
            "<div class=\"menubutton menubuttonright\" onclick=\"openf('0');\">\r\n",
            "<table cellpadding=\"0\" cellspacing=\"0\" class=\"menubuttonin\">\r\n",
            "<tr>\r\n",
            "<td class=\"p20\"><span class=\"font11\"><b>Еще</b></span></td>\r\n",
            "<td class=\"p20 menubuttoninmob\"><img src=\"https://tabiturient.ru/img/arrowdown.png\" class=\"openimg img2\" id=\"openimg0\"/>\r\n",
            "<span id=\"openstatus0\" style=\"display:none;\">0</span>\r\n",
            "</td>\r\n",
            "</tr>\r\n",
            "</table>\r\n",
            "</div>\r\n",
            "\r\n",
            "<div class=\"open\" id=\"open0\">\r\n",
            "\r\n",
            "\r\n",
            "<div class=\"menubutton menubuttonright\">\r\n",
            "<a href=\"https://tabiturient.ru/sliv\">\r\n",
            "<table cellpadding=\"0\" cellspacing=\"0\" class=\"menubuttonin\">\r\n",
            "<tr>\r\n",
            "<td class=\"p20\"><span class=\"font11\"><b>Прислать слив</b></span></td>\r\n",
            "<td class=\"p20 menubuttoninmob\"><img src=\"https://tabiturient.ru/img/arrowright.png\" class=\"img2\"/></td>\r\n",
            "</tr>\r\n",
            "</table>\r\n",
            "</a>\r\n",
            "</div>\r\n",
            "\r\n",
            "\r\n",
            "\r\n",
            "\r\n",
            "\r\n",
            "\r\n",
            "<div class=\"menubutton menubuttonright\">\r\n",
            "<a href=\"https://tabiturient.ru/vuzam\">\r\n",
            "<table cellpadding=\"0\" cellspacing=\"0\" class=\"menubuttonin\">\r\n",
            "<tr>\r\n",
            "<td class=\"p20\"><span class=\"font11\"><b>Представителям вузов</b></span></td>\r\n",
            "<td class=\"p20 menubuttoninmob\"><img src=\"https://tabiturient.ru/img/arrowright.png\" class=\"img2\"/></td>\r\n",
            "</tr>\r\n",
            "</table>\r\n",
            "</a>\r\n",
            "</div>\r\n",
            "\r\n",
            "\r\n",
            "<div class=\"menubutton menubuttonright\">\r\n",
            "<a href=\"https://tabiturient.ru/adv\">\r\n",
            "<table cellpadding=\"0\" cellspacing=\"0\" class=\"menubuttonin\">\r\n",
            "<tr>\r\n",
            "<td class=\"p20\"><span class=\"font11\"><b>Реклама</b></span></td>\r\n",
            "<td class=\"p20 menubuttoninmob\"><img src=\"https://tabiturient.ru/img/arrowright.png\" class=\"img2\"/></td>\r\n",
            "</tr>\r\n",
            "</table>\r\n",
            "</a>\r\n",
            "</div>\r\n",
            "\r\n",
            "<div class=\"menubutton menubuttonright\">\r\n",
            "<a href=\"https://tabiturient.ru/feedback\">\r\n",
            "<table cellpadding=\"0\" cellspacing=\"0\" class=\"menubuttonin\">\r\n",
            "<tr>\r\n",
            "<td class=\"p20\"><span class=\"font11\"><b>Обратная связь</b></span></td>\r\n",
            "<td class=\"p20 menubuttoninmob\"><img src=\"https://tabiturient.ru/img/arrowright.png\" class=\"img2\"/></td>\r\n",
            "</tr>\r\n",
            "</table>\r\n",
            "</a>\r\n",
            "</div>\r\n",
            "\r\n",
            "\r\n",
            "\r\n",
            "\r\n",
            "\r\n",
            "</div>\r\n",
            "\r\n",
            "\r\n",
            "\r\n",
            "</div>\r\n",
            "\r\n",
            "</div>\r\n",
            "</div>\r\n",
            "</div>\r\n",
            "</div>\r\n",
            "</div>\r\n",
            "\r\n",
            "\r\n",
            "\r\n",
            "</td>\r\n",
            "<td class=\"dopheaderin\" valign=\"bottom\">\r\n",
            "<div class=\"p10\">\r\n",
            "\r\n",
            "<!--\r\n",
            "<table cellpadding=\"0\" cellspacing=\"0\" style=\"padding:10px; padding-bottom:0; \">\r\n",
            "<tr>\r\n",
            "<td>\r\n",
            "<center>\r\n",
            "<b class=\"font3\">6.34</b><br><span class=\"font1\" style=\"color:#ccc;\">из 10 баллов</span>\r\n",
            "</center></td>\r\n",
            "</tr>\r\n",
            "\r\n",
            "<tr>\r\n",
            "<td ><center>\r\n",
            "<span class=\"font11\">Качество работы административного аппарата в вузах России</span><br>\r\n",
            "<span class=\"font1\" style=\"color:#ccc;\">по результатам опроса студентов</span></center>\r\n",
            "</td>\r\n",
            "</tr>\r\n",
            "\r\n",
            "\r\n",
            "\r\n",
            "</table>\r\n",
            "-->\r\n",
            "\r\n",
            "\r\n",
            "\r\n",
            "\r\n",
            "</div>\r\n",
            "</td>\r\n",
            "</tr>\r\n",
            "</table>\r\n",
            "\r\n",
            "\r\n",
            "</div>\r\n",
            "\r\n",
            "\r\n",
            "<!-- Yandex.Metrika counter -->\r\n",
            "<script type=\"text/javascript\" >\r\n",
            "   (function(m,e,t,r,i,k,a){m[i]=m[i]||function(){(m[i].a=m[i].a||[]).push(arguments)};\r\n",
            "   m[i].l=1*new Date();k=e.createElement(t),a=e.getElementsByTagName(t)[0],k.async=1,k.src=r,a.parentNode.insertBefore(k,a)})\r\n",
            "   (window, document, \"script\", \"https://mc.yandex.ru/metrika/tag.js\", \"ym\");\r\n",
            "\r\n",
            "   ym(19292788, \"init\", {\r\n",
            "        clickmap:true,\r\n",
            "        trackLinks:true,\r\n",
            "        accurateTrackBounce:true,\r\n",
            "        webvisor:true\r\n",
            "   });\r\n",
            "</script>\r\n",
            "<noscript><div><img src=\"https://mc.yandex.ru/watch/19292788\" style=\"position:absolute; left:-9999px;\" alt=\"\" /></div></noscript>\r\n",
            "<!-- /Yandex.Metrika counter -->\r\n",
            "\r\n",
            "\r\n",
            "<script type=\"text/javascript\">\r\n",
            "\r\n",
            "  var _gaq = _gaq || [];\r\n",
            "  _gaq.push(['_setAccount', 'UA-37574464-1']);\r\n",
            "  _gaq.push(['_trackPageview']);\r\n",
            "\r\n",
            "  (function() {\r\n",
            "    var ga = document.createElement('script'); ga.type = 'text/javascript'; ga.async = true;\r\n",
            "    ga.src = ('https:' == document.location.protocol ? 'https://ssl' : 'http://www') + '.google-analytics.com/ga.js';\r\n",
            "    var s = document.getElementsByTagName('script')[0]; s.parentNode.insertBefore(ga, s);\r\n",
            "  })();\r\n",
            "\r\n",
            "</script>\t\r\n",
            "\n",
            "\n",
            "\n",
            "<div class=\"maincontent\" style=\"padding-top:0px;\">\n",
            "\n",
            "<div class=\"m270\">\n",
            "<div class=\"content\">\n",
            "\n",
            "\n",
            "<div class=\"headercontent bg1\">\n",
            "<div class=\"p40 pm40 obram\" >\n",
            "\n",
            "<h1 class=\"font4 fontshadow1\">Отзыв №2242 </h1>\n",
            "\n",
            "\n",
            "<a href=\"https://tabiturient.ru/vuzu/itmo\">\n",
            "<table cellpadding=\"0\" cellspacing=\"0\" class=\"button1 w100mobile\" style=\"float:none;\">\n",
            "<tbody><tr>\n",
            "<td>\n",
            "<img src=\"https://tabiturient.ru/img/arrowleft.png\" class=\"img3\">\n",
            "</td>\n",
            "<td>\n",
            "<img src=\"https://tabiturient.ru/logovuz/itmo.png\" class=\"img3 img3sliv\">\n",
            "</td>\n",
            "<td class=\"w100mobile\">\n",
            "<span class=\"font2\">\n",
            "Все отзывы о<br>\n",
            "<b>ИТМО</b>\n",
            "</span>\n",
            "</td>\n",
            "\n",
            "</tr>\n",
            "</tbody></table>\n",
            "</a>\n",
            "\n",
            "</div>\n",
            "</div>\n",
            "\n",
            "\n",
            "\n",
            "\n",
            "\n",
            "<div class=\"p20 request1\">\n",
            "\n",
            "\n",
            "<div class=\"table-4\" style=\"border-bottom:solid 1px #ccc; padding-bottom:20px; margin-bottom:20px; width:100%;\">\n",
            "<div class=\"table-row-4\">\n",
            "<div class=\"table-cell-4\">\n",
            "<table cellpadding=\"0\" cellspacing=\"0\">\n",
            "<tr>\n",
            "<td>\n",
            "<table cellpadding=\"0\" cellspacing=\"0\" class=\"avatarask2\">\n",
            "<tbody><tr>\n",
            "<td>\n",
            "<center>\n",
            "<img src=\"https://tabiturient.ru/img/smile1.png\">\n",
            "</center>\n",
            "</td>\n",
            "</tr>\n",
            "</tbody></table>\n",
            "\n",
            "</td>\n",
            "<td class=\"p20\" style=\"padding-right:0px; padding-top:0; padding-bottom:0;\">\n",
            "<span class=\"font2\">\n",
            "<b>\n",
            "Выпускник этого вуза:</b>\n",
            "</span>\n",
            "\n",
            "<table cellspacing=\"0\" cellpadding=\"0\" style=\"margin-top:10px;\">\n",
            "<tbody><tr>\n",
            "<td><img src=\"https://tabiturient.ru/img/eye.png\" class=\"likeimg\" style=\"margin-left:0;  margin-right:10px;\"></td>\n",
            "<td><span class=\"font2\">157 964</span></td>\n",
            "<td class=\"p10\"></td>\n",
            "\n",
            "<td class=\"dateinrat\"><img src=\"https://tabiturient.ru/img/calen.png\" class=\"likeimg\" style=\"margin-left:0; margin-right:10px;\"></td>\n",
            "<td>\n",
            "<span></span>\n",
            "<span class=\"font2\">\n",
            "07 июля 2019</span>\n",
            "</td>\n",
            "</tr>\n",
            "\n",
            "</tbody></table>\n",
            "\n",
            "</td>\n",
            "</tr>\n",
            "</table>\n",
            "</div>\n",
            "<div class=\"table-cell-4\">\n",
            "<div>\n",
            "<table cellpadding=\"0\" cellspacing=\"0\" class=\"tag\"><tr><td><b class=\"font11\">Мегафакультет компьютерных технологий и управления</b></td></tr></table>\n",
            "<div style=\"clear:both;\"></div>\n",
            "</div>\n",
            "</div>\n",
            "</div>\n",
            "</div>\n",
            "\n",
            "\n",
            "\n",
            "\n",
            "\n",
            "<div style=\"text-align:justify;\" class=\"font2\">\n",
            "\n",
            "\n",
            "\tПроучился в вузе 6 лет, закончил бакалавриат и магистратуру. Был сильно удивлён, когда знакомый абитуриент рассказывал, как в вузе все плохо, прислав в подтверждение ссылку на эту страницу.<br />\n",
            "\tУчился на ПИиКТ (бывшее КТиУ). На первом и втором курсе, как и во многих вузах, была куча общеобразовательных предметов а ля матан, физика и тд. Сразу были курсы по программированию на шарпах, джавке и тд. Негодование вызывало преподавание гуманитарных предметов типа истории, риторики и тд. Нужно было строчить бесполезные рефераты и записывать лекции, хотя и по информатике встречались околобесполезные лабы в виде написать макросы для экселя. На третьем и четвертом было достаточно сильное углубление в специальность. Удалось потыкать множество языков программирования: Asm, C/C++, Java, Python. Была даже экзотика в виде Haskell (но это по желанию) и написания мини игры на языке программирования OpenGL для видеокарт. преподавались на неплохом уровне БД, были даже NoSQL решения. После того, как на собеседовании сказал, что поднимал кластер оракла, больше про БД вопросы не задавали))<br />\n",
            "\tТеперь немного про преподавание. В основном есть набор лаб, которые надо было сделать. На лекции можно особо не ходить, если сдавать лабы в срок, то вопросов не будет. (Опять таки зависит от препода. Встречаются экземпляры, которые отмечали посещение лекций в магистратуре, что приносило дикое полыхание пятой точки). Для сдачи лабы на отлично приходилось дико копать в гугле различную инфу, как это сделать. На лекциях тупо все не успеют рассказать за определенное время. Чтоб учиться на тройки, вообще особо парится не надо, сдал в конце семестра лабы, ответив на половину вопросов, и получил свой зачет/трояк за семестр. (чем и успешно пользовался мой сосед по общаге, проиграв весь универ в дотан).<br />\n",
            "\tЕстественно, есть и негатив. Главная общага вуза – вязьма, которая расположена рядом с универом, имеет весьма ограниченное количество мест. Другие общаги либо дорогие (селят в общагу от лесопилки, где плата в месяц 5300), либо далеко от универа, либо и то и то вместе взятое.<br />\n",
            "\tЛично я своим образованием доволен. После четвертого курса успешно устроился на неплохую работу, в маге спокойно совмещал ее с учебой, получив по итогу красный диплом. Большинство преподов относятся с пониманием, зная, что размер повышенной стипухи (за отличную учебу – 3200 (!)). Ясен фиг, что на такую никак не прожить. Если не валять баклуши, можно получить неплохой набор скиллов. Если сдавать лабы на отвали - естественно выйдешь с нулевыми знаниями или вообще отчислят нафиг. Так что если есть настоящее желание получить знания – поступать стоит, если нет, то вероятно стоит выбрать вуз полегче, т.к. ничего не делать вообще – не получится.<br />\n",
            "</div>\n",
            "\n",
            "\n",
            "\n",
            "\n",
            "<table cellpadding=\"0\" cellspacing=\"0\" class=\"doverieline\" id=\"doverieform2242\">\n",
            "<tr>\n",
            "<td style=\"width:100%;\">\n",
            "<!--\n",
            "<div style=\"text-align:right;\" class=\"font1\">Голосов: 382</div>\n",
            "-->\n",
            "\n",
            "<table cellpadding=\"0\" cellspacing=\"0\" class=\"doverie\">\n",
            "<tr>\n",
            "<td valign=\"center\" style=\"width:33%; background: rgba(243,248,231); \" class=\"doverietd1 p10like\" onclick=\"vera('https://tabiturient.ru','2242','1')\">\n",
            "<span class=\"font2\"><center>Верю</center></span>\n",
            "</td>\n",
            "<td valign=\"center\" style=\"width:33%; background: #F8EBEB; \" class=\"doverietd1 p10like\" onclick=\"vera('https://tabiturient.ru','2242','2')\">\n",
            "<span class=\"font2\"><center>Не верю</center></span>\n",
            "</td>\n",
            "<td valign=\"center\" style=\"width:33%; background: #f1f1f1; border-right:0;\" class=\"doverietd1 p10like\" onclick=\"vera('https://tabiturient.ru','2242','0')\">\n",
            "<span class=\"font2\"><center>Тык</center></span>\n",
            "</td>\n",
            "</tr>\n",
            "</table>\n",
            "\n",
            "\n",
            "</td>\n",
            "</tr>\n",
            "</table>\n",
            "\n",
            "<div id=\"vera2242\"></div>\n",
            "\n",
            "\n",
            "\n",
            "\n",
            "\n",
            "\n",
            "\n",
            "\n",
            "<table cellpadding=\"0\" cellspacing=\"0\" class=\"like p10like \" id=\"likediv2242\" onclick=\"like('https://tabiturient.ru','2242')\">\n",
            "<tr>\n",
            "<td><span class=\"font2\">Полезно</span></td>\n",
            "<td><img src=\"https://tabiturient.ru/img/h1.png\" class=\"likeimg\" id=\"likeimg2242\"></td>\n",
            "<td><span class=\"font2\"><b id=\"likeval2242\">50</b></span></td>\n",
            "</tr>\n",
            "</table>\n",
            "\n",
            "\n",
            "\n",
            "\n",
            "\n",
            "\n",
            "\n",
            "\n",
            "<div style=\"clear:both;\"></div>\n",
            "<span class=\"font1\"><br>Отзыв является личным мнением автора и может не совпадать с действительностью.</span>\n",
            "\n",
            "</div>\n",
            "\n",
            "\n",
            "\n",
            "<div >\n",
            "<div id=\"resultdivcomment\">\r\n",
            "\r\n",
            "\r\n",
            "<div class=\"answ1\" id=\"commentpad456\" itemprop=\"suggestedAnswer acceptedAnswer\" itemscope itemtype=\"https://schema.org/Answer\">\r\n",
            "<div style=\"border-radius:10px; box-shadow: 0 0 10px rgba(0,0,0,0.3); background:#fff; overflow:hidden;\">\r\n",
            "<div class=\"p20 \">\r\n",
            "\r\n",
            "\r\n",
            "<div id=\"commentpadin456\">\r\n",
            "<table cellpadding=\"0\" cellspacing=\"0\" class=\"commentpad2\" >\r\n",
            "\r\n",
            "<tr>\r\n",
            "\r\n",
            "\r\n",
            "\r\n",
            "<td style=\"width:1px;\">\r\n",
            "<table cellpadding=\"0\" cellspacing=\"0\" class=\"avatarask\"  >\r\n",
            "<tbody><tr>\r\n",
            "<td>\r\n",
            "<center>\r\n",
            "<img src=\"https://tabiturient.ru/img/user.png\">\r\n",
            "</center>\r\n",
            "\r\n",
            " \r\n",
            "\r\n",
            "</td>\r\n",
            "</tr>\r\n",
            "</tbody></table>\r\n",
            "</td>\r\n",
            "<td class=\"p20\" style=\"padding-top:0; padding-bottom:0; padding-right:0;\">\r\n",
            "<span class=\"font2\">\r\n",
            "\r\n",
            "\r\n",
            "<span class=\"font2\" itemprop=\"author\" itemscope itemtype=\"https://schema.org/Person\">\r\n",
            "<b itemprop=\"name\">\r\n",
            "Гость</b><br>\r\n",
            "</span>\r\n",
            "</span>\r\n",
            "<table cellspacing=\"0\" cellpadding=\"0\" style=\"margin-top:10px;\">\r\n",
            "<tbody><tr>\r\n",
            "\r\n",
            "\r\n",
            "<td class=\"dateinrat\"><img src=\"https://tabiturient.ru/img/calen.png\" class=\"likeimg\" style=\"margin-left:0; margin-right:10px;\"></td>\r\n",
            "<td>\r\n",
            "<span itemprop=\"dateCreated\" datetime=\"2021-01-21T09:16Z\"></span>\r\n",
            "<span class=\"font2\">\r\n",
            "21 января 2021</span>\r\n",
            "</td>\r\n",
            "</tr>\r\n",
            "\r\n",
            "</tbody></table>\r\n",
            "</td>\r\n",
            "<td>\r\n",
            "</td>\r\n",
            "</tr>\r\n",
            "\r\n",
            "</table>\r\n",
            "\r\n",
            "\r\n",
            "\r\n",
            "\r\n",
            "\r\n",
            "<div class=\"font2\" itemprop=\"text\">\r\n",
            "\r\n",
            "\r\n",
            "Не понял, что за специальность, но судя по всему, очень связанная с программированием. Если так, то вызывает глубокое подозрение, что автор называет матан общеобразовательным предметом. Общеобразовательный предмет - это история, философия, русский язык. А матан, как и вся вышка, это чуть ли не основа основ. Так же, достаточно странно, что сразу давали &quot;джавку&quot;. В норме всё начинается с функционального программирования, а курить джавку положено уже после структур и алгоритмов, во времена обучения объектно-ориентированному программированию. Судя по описанию - или обучение в шараге, или автор будущий джун, или заказная статья.\r\n",
            "\r\n",
            "\r\n",
            "</div>\r\n",
            "\r\n",
            "\r\n",
            "<br>\r\n",
            "\r\n",
            "\r\n",
            "<table cellpadding=\"0\" cellspacing=\"0\" class=\"like p10like \" id=\"likediv456\" onclick=\"like4('https://tabiturient.ru','456')\">\r\n",
            "<tr>\r\n",
            "<td><span class=\"font2\">Полезно</span></td>\r\n",
            "<td><img src=\"https://tabiturient.ru/img/h1.png\" class=\"likeimg\" id=\"likeimg456\"></td>\r\n",
            "<td><span class=\"font2\"><b id=\"likeval456\" itemprop=\"upvoteCount\">4</b></span></td>\r\n",
            "</tr>\r\n",
            "</table>\r\n",
            "\r\n",
            "\r\n",
            "<a onclick=\"showdopcomment('https://tabiturient.ru','2242','456','2')\">\r\n",
            "<table cellpadding=\"0\" cellspacing=\"0\" class=\"like p10like\">\r\n",
            "<tr>\r\n",
            "<td><span class=\"font2\">Комментариев</span></td>\r\n",
            "<td><img src=\"https://tabiturient.ru/img/sliv.png\" class=\"likeimg\"></td>\r\n",
            "<td><span class=\"font2\"><b>0</b></span></td>\r\n",
            "</tr>\r\n",
            "</table>\r\n",
            "</a>\r\n",
            "\r\n",
            "\r\n",
            "\r\n",
            "\r\n",
            "\r\n",
            "\r\n",
            "<div style=\"clear:both;\"></div>\r\n",
            "</div>\r\n",
            "\r\n",
            "\r\n",
            "<div class=\"loader1 loader2-456 p20\">\r\n",
            "<center>\r\n",
            "<img src=\"https://tabiturient.ru/img/loader.gif\"><br>\r\n",
            "<b class=\"font11\">Пожалуйста, подождите. Идет загрузка...</b></center> \r\n",
            "</div>\r\n",
            "\r\n",
            "<div class=\"more error error2-456\">\r\n",
            "<div class=\"p20\">\r\n",
            "<center>\r\n",
            "<img src=\"https://tabiturient.ru/img/ghost2.png\"><br>\r\n",
            "<b class=\"font11\">Oops... Что-то пошло не так. Возможно, пропал Интеренет :(</b></center> \r\n",
            "\r\n",
            "<table class=\"link2\" cellpadding=\"0\" cellspacing=\"0\"  onclick=\"showdopcomment('https://tabiturient.ru','2242','456','2')\">\r\n",
            "<tr>\r\n",
            "<td><span class=\"font11\"><b>Отправить еще раз</b></span></td>\r\n",
            "</tr>\r\n",
            "</table>\r\n",
            "\r\n",
            "</div>\r\n",
            "</div>\r\n",
            "\r\n",
            "</div>\r\n",
            "\r\n",
            "<div id=\"resultdivdopcomment456\" style=\"background:linear-gradient(to bottom, #f1f1f1, #ffffff); \">\r\n",
            "\r\n",
            "\r\n",
            "\r\n",
            "\r\n",
            "</div>\r\n",
            "\r\n",
            "\r\n",
            "\r\n",
            "\r\n",
            "\r\n",
            "\r\n",
            "</div>\r\n",
            "</div>\r\n",
            "\r\n",
            "\r\n",
            "\r\n",
            "<div class=\"answ1\">\r\n",
            "<div class=\"p20 \" style=\"border-radius:10px; box-shadow: 0 0 10px rgba(0,0,0,0.3); background:#fff;\">\r\n",
            "\r\n",
            "<div>\r\n",
            "<span class=\"font2\">\r\n",
            "К сожалению, <b>только авторизированные пользователи могут оставлять комментарии</b>. Пожалуйста, войдите или зарегистрируйтесь\r\n",
            "</span>\r\n",
            "<br><br>\r\n",
            "\r\n",
            "<table cellpadding=\"0\" cellspacing=\"0\" style=\"width:100%;\">\r\n",
            "<tr>\r\n",
            "<td style=\"width:50%;\">\r\n",
            "<div class=\"p10\" style=\"padding-left:0; padding-top:0; padding-bottom:0;\">\r\n",
            "<a onclick=\"closepopup(); popup('4')\">\r\n",
            "<table class=\"link5\" cellpadding=\"0\" cellspacing=\"0\">\r\n",
            "<tbody><tr>\r\n",
            "<td><span class=\"font2\"><b>Вход</b></span></td>\r\n",
            "</tr>\r\n",
            "</tbody></table>\r\n",
            "</a>\r\n",
            "</div>\r\n",
            "</td>\r\n",
            "\r\n",
            "<td  style=\"width:50%;\" >\r\n",
            "<div class=\"p10\" style=\"padding-right:0; padding-top:0; padding-bottom:0;\">\r\n",
            "<a onclick=\"closepopup(); registr('https://tabiturient.ru','/sliv/n/?2242')\">\r\n",
            "<table class=\"link5\" cellpadding=\"0\" cellspacing=\"0\">\r\n",
            "<tbody><tr>\r\n",
            "<td><span class=\"font2\"><b>Регистрация</b></span></td>\r\n",
            "</tr>\r\n",
            "</tbody></table>\r\n",
            "</a>\r\n",
            "</div>\r\n",
            "</td>\r\n",
            "\r\n",
            "</tr>\r\n",
            "</table>\r\n",
            "</div>\r\n",
            "\r\n",
            "\r\n",
            "\r\n",
            "</div>\r\n",
            "</div>\r\n",
            "\r\n",
            "\r\n",
            "</div></div>\n",
            "\n",
            "\n",
            "\r\n",
            "<script type=\"text/javascript\" src=\"https://tabiturient.ru/js/artscript.js?v-1-163\"></script>\r\n",
            "\r\n",
            "<div id=\"articlediv\">\r\n",
            "<div class=\"loader1 p20\" style=\"display:block;\">\r\n",
            "<center>\r\n",
            "<img src=\"https://tabiturient.ru/img/loader.gif\" onload=\"articleshow('https://tabiturient.ru','sliv','n')\"><br>\r\n",
            "<b class=\"font11\">Пожалуйста, подождите. Идет загрузка...</b></center> \r\n",
            "</div>\r\n",
            "</div>\r\n",
            "\r\n",
            "\r\n",
            "<div style=\"clear:both; margin-bottom:1%;\"></div>\r\n",
            "\r\n",
            "\n",
            "</div>\n",
            "\n",
            "</div>\n",
            "\n",
            "\n",
            "\n",
            "\r\n",
            "\r\n",
            "\r\n",
            "<div class=\"advtd\" >\r\n",
            "<div class=\"adv adv1\">\r\n",
            "\r\n",
            "\r\n",
            "\r\n",
            "\r\n",
            "\r\n",
            "\r\n",
            "</div>\r\n",
            "\r\n",
            "<div class=\"adv adv2\" style=\"background:none; height:auto;\">\r\n",
            "\r\n",
            "\r\n",
            "<table class=\"dodlist\" cellpadding=\"0\" cellspacing=\"0\" style=\"width:100%; height:auto; margin:0; \">\r\n",
            "<tbody>\r\n",
            "<tr>\r\n",
            "<td class=\"p20\" style=\"height:100%; padding-bottom:10px;\" valign=\"top\">\r\n",
            "<div style=\"max-width:198px; overflow:hidden;\">\r\n",
            "<table cellpadding=\"0\" cellspacing=\"0\">\r\n",
            "<tbody><tr>\r\n",
            "<td style=\"width:1px;\">\r\n",
            "<table cellpadding=\"0\" cellspacing=\"0\" class=\"avatarask2\">\r\n",
            "<tbody><tr>\r\n",
            "<td>\r\n",
            "<center>\r\n",
            "<img src=\"https://tabiturient.ru/img/user.png\">\r\n",
            "</center>\r\n",
            "</td>\r\n",
            "</tr>\r\n",
            "</tbody></table>\r\n",
            "</td>\r\n",
            "<td class=\"p10\" style=\"padding-top:0; padding-bottom:0; padding-right:0;\">\r\n",
            "<span class=\"font2\">\r\n",
            "<b>\r\n",
            "Аноним</b><br>\r\n",
            "</span>\r\n",
            "<table cellspacing=\"0\" cellpadding=\"0\" style=\"margin-top:0px;\">\r\n",
            "<tbody><tr>\r\n",
            "<td><img src=\"https://tabiturient.ru/img/eye.png\" class=\"likeimg\" style=\"margin-left:0; width:20px; margin-right:10px;\"></td>\r\n",
            "<td><span class=\"font11\">18219</span></td>\r\n",
            "</tr>\r\n",
            "\r\n",
            "</tbody></table>\r\n",
            "</td>\r\n",
            "</tr>\r\n",
            "\r\n",
            "</tbody></table>\r\n",
            "\r\n",
            "<div style=\" margin-top:10px;\">\r\n",
            "<span class=\"font11\"><b>Вопрос</b>: Здравствуйте. Такой вопрос. Могу ли я поступить на льготных основаниях, так как мой отец погибший в ходе СВО? Я гражданин РФ, но учусь на данный момент в 11 классе в г.Цхинвал РЮО. И какие будут услов...</span>\r\n",
            "</div>\r\n",
            "</div>\r\n",
            "\r\n",
            "</td>\r\n",
            "</tr>\r\n",
            "\r\n",
            "\r\n",
            "<tr>\r\n",
            "<td class=\"p20\" style=\"padding-top:0px;\">\r\n",
            "<a href=\"https://tabiturient.ru/question/n/?2622\">\r\n",
            "<table class=\"link3 w100\" cellpadding=\"0\" cellspacing=\"0\" style=\"margin: 0;\">\r\n",
            "<tbody><tr>\r\n",
            "<td><center><span class=\"font11\">Ответить</span></center></td>\r\n",
            "</tr>\r\n",
            "</tbody></table>\r\n",
            "</a>\r\n",
            "</td>\r\n",
            "</tr>\r\n",
            "\r\n",
            "</tbody></table>\r\n",
            "\r\n",
            "\r\n",
            "\r\n",
            "\r\n",
            "<table class=\"dodlist\" cellpadding=\"0\" cellspacing=\"0\" style=\"width:100%; height:auto; margin:0; margin-top:10px;\">\r\n",
            "<tr>\r\n",
            "<td class=\"p10\" style=\"border-bottom:solid 1px #ccc; text-align:center; background:#212934; border-radius:5px 5px 0px 0px; color:white;\"><span class=\"font2\"><b>16  октября </b></span> <span class=\"font2\">в 18:00</span></td>\r\n",
            "</tr>\r\n",
            "<tr>\r\n",
            "<td class=\"p20\" style=\"height:100%; padding-bottom:10px; padding-top:10px;\" valign=\"top\">\r\n",
            "<table cellpadding=\"0\" cellspacing=\"0\">\r\n",
            "<tr>\r\n",
            "<td valign=\"top\" style=\"width:1px;\"><img src=\"https://tabiturient.ru/logovuz/ranepa.png\" class=\"dodlistimg1\"></td>\r\n",
            "<td ><b class=\"font2\">РАНХиГС</b>\r\n",
            "</td>\r\n",
            "</tr>\r\n",
            "\r\n",
            "\r\n",
            "<tr>\r\n",
            "<td colspan=\"2\" style=\"padding-top:10px\">\r\n",
            "<span class=\"font11\">День открытых дверей программы широкого бакалавриата «Стратегическое управление компанией»</span>\r\n",
            "</td>\r\n",
            "</tr>\r\n",
            "</table>\r\n",
            "</td>\r\n",
            "</tr>\r\n",
            "\r\n",
            "\r\n",
            "\r\n",
            "\r\n",
            "<tr>\r\n",
            "<td class=\"p20\" style=\"padding-top:0px;\">\r\n",
            "<a href=\"https://tabiturient.ru/relink.php?dod-6358\" target=\"_blank\">\r\n",
            "<table class=\"link3 w100\" cellpadding=\"0\" cellspacing=\"0\" style=\"margin: 0;\">\r\n",
            "<tbody><tr>\r\n",
            "<td><center><span class=\"font11\">Подробнее</span></center></td>\r\n",
            "</tr>\r\n",
            "</tbody></table>\r\n",
            "</a>\r\n",
            "</td>\r\n",
            "</tr>\r\n",
            "\r\n",
            "</table>\r\n",
            "\r\n",
            "<table class=\"dodlist\" cellpadding=\"0\" cellspacing=\"0\" style=\"width:100%; height:auto; margin:0; margin-top:10px;\">\r\n",
            "<tr>\r\n",
            "<td class=\"p10\" style=\"border-bottom:solid 1px #ccc; text-align:center; background:#212934; border-radius:5px 5px 0px 0px; color:white;\"><span class=\"font2\"><b>25  октября </b></span> <span class=\"font2\">в 18:00</span></td>\r\n",
            "</tr>\r\n",
            "<tr>\r\n",
            "<td class=\"p20\" style=\"height:100%; padding-bottom:10px; padding-top:10px;\" valign=\"top\">\r\n",
            "<table cellpadding=\"0\" cellspacing=\"0\">\r\n",
            "<tr>\r\n",
            "<td valign=\"top\" style=\"width:1px;\"><img src=\"https://tabiturient.ru/logovuz/ranepa.png\" class=\"dodlistimg1\"></td>\r\n",
            "<td ><b class=\"font2\">РАНХиГС</b>\r\n",
            "</td>\r\n",
            "</tr>\r\n",
            "\r\n",
            "\r\n",
            "<tr>\r\n",
            "<td colspan=\"2\" style=\"padding-top:10px\">\r\n",
            "<span class=\"font11\">День открытых дверей программ бакалавриата по направлению «Психология»</span>\r\n",
            "</td>\r\n",
            "</tr>\r\n",
            "</table>\r\n",
            "</td>\r\n",
            "</tr>\r\n",
            "\r\n",
            "\r\n",
            "\r\n",
            "\r\n",
            "<tr>\r\n",
            "<td class=\"p20\" style=\"padding-top:0px;\">\r\n",
            "<a href=\"https://tabiturient.ru/relink.php?dod-6363\" target=\"_blank\">\r\n",
            "<table class=\"link3 w100\" cellpadding=\"0\" cellspacing=\"0\" style=\"margin: 0;\">\r\n",
            "<tbody><tr>\r\n",
            "<td><center><span class=\"font11\">Подробнее</span></center></td>\r\n",
            "</tr>\r\n",
            "</tbody></table>\r\n",
            "</a>\r\n",
            "</td>\r\n",
            "</tr>\r\n",
            "\r\n",
            "</table>\r\n",
            "\r\n",
            "<div style=\"clear:both;\"></div>\r\n",
            "</div>\r\n",
            "</div>\r\n",
            "\r\n",
            "\r\n",
            "\r\n",
            "\r\n",
            "\r\n",
            "\r\n",
            "\r\n",
            "\n",
            "</div>\n",
            "\n",
            "\n",
            "\n",
            "\n",
            "<div class=\"p20 yesmobile1\">\r\n",
            "\r\n",
            "\r\n",
            "\r\n",
            "<div class=\"p20 \" style=\"border-radius:10px; margin-bottom:40px; box-shadow: 0 0 10px rgba(0,0,0,0.3);\">\r\n",
            "\r\n",
            "\r\n",
            "\r\n",
            "<div class=\"table-4\" style=\"border-bottom:solid 1px #ccc; padding-bottom:20px; margin-bottom:20px;\">\r\n",
            "<div class=\"table-row-4\">\r\n",
            "<div class=\"table-cell-4\" style=\"vertical-align:bottom;\">\r\n",
            "<table cellpadding=\"0\" cellspacing=\"0\">\r\n",
            "<tr>\r\n",
            "<td style=\"width:1px;\">\r\n",
            "<table cellpadding=\"0\" cellspacing=\"0\" class=\"avatarask\" >\r\n",
            "<tbody><tr>\r\n",
            "<td>\r\n",
            "<center>\r\n",
            "<img src=\"https://tabiturient.ru/img/user.png\">\r\n",
            "</center>\r\n",
            "</td>\r\n",
            "</tr>\r\n",
            "</tbody></table>\r\n",
            "</td>\r\n",
            "<td class=\"p20\" style=\"padding-top:0; padding-bottom:0; padding-right:0;\">\r\n",
            "<span class=\"font2\">\r\n",
            "<b>Аноним</b><br>\r\n",
            "</span>\r\n",
            "<table cellspacing=\"0\" cellpadding=\"0\" style=\"margin-top:10px;\">\r\n",
            "<tbody><tr>\r\n",
            "<td><img src=\"https://tabiturient.ru/img/eye.png\" class=\"likeimg\" style=\"margin-left:0;  margin-right:10px;\"></td>\r\n",
            "<td><span class=\"font2\">18 219</span></td>\r\n",
            "</tr>\r\n",
            "\r\n",
            "</tbody></table>\r\n",
            "</td>\r\n",
            "</tr>\r\n",
            "\r\n",
            "</table>\r\n",
            "</div>\r\n",
            "\r\n",
            "</div>\r\n",
            "</div>\r\n",
            "\r\n",
            "\r\n",
            "\r\n",
            "\r\n",
            "\r\n",
            "<div  class=\"font2\">\r\n",
            "<b>Вопрос</b>: Здравствуйте. Такой вопрос. Могу ли я поступить на льготных основаниях, так как мой отец погибший в ходе СВО? Я гражданин РФ, но учусь на данный момент в 11 классе в г.Цхинвал РЮО. И какие будут услов...</div>\r\n",
            "<a href=\"https://tabiturient.ru/question/n/?2622\">\r\n",
            "<table class=\"link3 w100\" cellpadding=\"0\" cellspacing=\"0\" style=\"margin: 0; margin-top:20px; float:none;\">\r\n",
            "<tbody><tr>\r\n",
            "<td><center><span class=\"font2\">Ответить</span></center></td>\r\n",
            "</tr>\r\n",
            "</tbody></table>\r\n",
            "</a>\r\n",
            "\r\n",
            "</div>\r\n",
            "\r\n",
            "\r\n",
            "<!--\r\n",
            "<table cellpadding=\"0\" cellspacing=\"0\" class=\"p20\" style=\"color: black; width:100%; margin:0; margin-bottom:30px; \">\r\n",
            "<tr>\r\n",
            "<td>\r\n",
            "<center>\r\n",
            "<b class=\"font3\">6.34</b><br><span class=\"font1\" style=\"color:#ccc;\">из 10 баллов</span>\r\n",
            "</center></td>\r\n",
            "</tr>\r\n",
            "\r\n",
            "<tr>\r\n",
            "<td ><center>\r\n",
            "<span class=\"font11\">Качество работы административного аппарата в вузах России</span><br>\r\n",
            "<span class=\"font1\" style=\"color:#ccc;\">по результатам опроса студентов</span></center>\r\n",
            "</td>\r\n",
            "</tr>\r\n",
            "\r\n",
            "\r\n",
            "\r\n",
            "</table>-->\r\n",
            "\r\n",
            "\r\n",
            "\r\n",
            "<table class=\"dodlist\" cellpadding=\"0\" cellspacing=\"0\" style=\"width:100%; height:auto; margin:0; margin-bottom:20px; float:none;\">\r\n",
            "<tr>\r\n",
            "<td class=\"p20\" style=\"border-bottom:solid 1px #ccc; text-align:center; background:#212934; border-radius:5px 5px 0px 0px; color:white;\"><span class=\"font2\"><b>16  октября </b></span> <span class=\"font2\">в 18:00</span></td>\r\n",
            "</tr>\r\n",
            "<tr>\r\n",
            "<td class=\"p20\" style=\"height:100%;\" valign=\"top\">\r\n",
            "\r\n",
            "<table cellpadding=\"0\" cellspacing=\"0\">\r\n",
            "<tr>\r\n",
            "<td valign=\"top\"><img src=\"https://tabiturient.ru/logovuz/ranepa.png\" class=\"dodlistimg1\"></td>\r\n",
            "<td><b class=\"font2\">РАНХиГС</b><br>\r\n",
            "<span class=\"font2\">День открытых дверей программы широкого бакалавриата «Стратегическое управление компанией»</span>\r\n",
            "</td>\r\n",
            "</tr>\r\n",
            "</table>\r\n",
            "\r\n",
            "\r\n",
            "\r\n",
            "</td>\r\n",
            "</tr>\r\n",
            "\r\n",
            "\r\n",
            "<tr>\r\n",
            "<td class=\"p20\" style=\"padding-top:0px;\">\r\n",
            "<a href=\"https://tabiturient.ru/relink.php?dod-6358\" target=\"_blank\">\r\n",
            "<table class=\"link3 w100\" cellpadding=\"0\" cellspacing=\"0\" style=\"margin: 0;\">\r\n",
            "<tbody><tr>\r\n",
            "<td><center><span class=\"font11\">Подробнее</span></center></td>\r\n",
            "</tr>\r\n",
            "</tbody></table>\r\n",
            "</a>\r\n",
            "</td>\r\n",
            "</tr>\r\n",
            "\r\n",
            "</table>\r\n",
            "<table class=\"dodlist\" cellpadding=\"0\" cellspacing=\"0\" style=\"width:100%; height:auto; margin:0; margin-bottom:20px; float:none;\">\r\n",
            "<tr>\r\n",
            "<td class=\"p20\" style=\"border-bottom:solid 1px #ccc; text-align:center; background:#212934; border-radius:5px 5px 0px 0px; color:white;\"><span class=\"font2\"><b>25  октября </b></span> <span class=\"font2\">в 18:00</span></td>\r\n",
            "</tr>\r\n",
            "<tr>\r\n",
            "<td class=\"p20\" style=\"height:100%;\" valign=\"top\">\r\n",
            "\r\n",
            "<table cellpadding=\"0\" cellspacing=\"0\">\r\n",
            "<tr>\r\n",
            "<td valign=\"top\"><img src=\"https://tabiturient.ru/logovuz/ranepa.png\" class=\"dodlistimg1\"></td>\r\n",
            "<td><b class=\"font2\">РАНХиГС</b><br>\r\n",
            "<span class=\"font2\">День открытых дверей программ бакалавриата по направлению «Психология»</span>\r\n",
            "</td>\r\n",
            "</tr>\r\n",
            "</table>\r\n",
            "\r\n",
            "\r\n",
            "\r\n",
            "</td>\r\n",
            "</tr>\r\n",
            "\r\n",
            "\r\n",
            "<tr>\r\n",
            "<td class=\"p20\" style=\"padding-top:0px;\">\r\n",
            "<a href=\"https://tabiturient.ru/relink.php?dod-6363\" target=\"_blank\">\r\n",
            "<table class=\"link3 w100\" cellpadding=\"0\" cellspacing=\"0\" style=\"margin: 0;\">\r\n",
            "<tbody><tr>\r\n",
            "<td><center><span class=\"font11\">Подробнее</span></center></td>\r\n",
            "</tr>\r\n",
            "</tbody></table>\r\n",
            "</a>\r\n",
            "</td>\r\n",
            "</tr>\r\n",
            "\r\n",
            "</table>\r\n",
            "\r\n",
            "\r\n",
            "</div>\r\n",
            "\r\n",
            "\r\n",
            "<div class=\"footer\" >\r\n",
            "\r\n",
            "\r\n",
            "\r\n",
            "\r\n",
            "\r\n",
            "<div class=\"p10 mobpadd0\" style=\"padding-top:0px; padding-bottom:0px;\">\r\n",
            "\r\n",
            "\r\n",
            "\r\n",
            "<div class=\"header-in2\">\r\n",
            "\r\n",
            "\r\n",
            "\r\n",
            "<div style=\"background:#404040; color:white; border-radius: 5px 5px 0px 0px;\">\r\n",
            "<div class=\"p40 pm40\">\r\n",
            "\r\n",
            "\r\n",
            "<a href=\"https://vk.com/tipichnuy_abiturient\">\r\n",
            "<table class=\"link1\" cellpadding=\"0\" cellspacing=\"0\" >\r\n",
            "<tr>\r\n",
            "<td><img src=\"https://tabiturient.ru/img/vk2.png\" class=\"img3\"></td>\r\n",
            "<td><span class=\"font11\">Паблик во Вконтакте</span></td>\r\n",
            "</tr>\r\n",
            "</table>\r\n",
            "</a>\r\n",
            "\r\n",
            "<a href=\"https://t.me/tabiturient\">\r\n",
            "<table class=\"link1\" cellpadding=\"0\" cellspacing=\"0\" >\r\n",
            "<tr>\r\n",
            "<td><img src=\"https://tabiturient.ru/img/telegram.png\" class=\"img3\"></td>\r\n",
            "<td><span class=\"font11\">Telegram канал</span></td>\r\n",
            "</tr>\r\n",
            "</table>\r\n",
            "</a>\r\n",
            "\r\n",
            "\r\n",
            "\r\n",
            "<table class=\"link1\" cellpadding=\"0\" cellspacing=\"0\" onclick=\"registr('https://tabiturient.ru','/sliv/n/?2242')\">\r\n",
            "<tr>\r\n",
            "<td><img src=\"https://tabiturient.ru/img/user3.png\" class=\"img3\"></td>\r\n",
            "<td><span class=\"font11\">Регистрация</span></td>\r\n",
            "</tr>\r\n",
            "</table>\r\n",
            "\r\n",
            "<table class=\"link1\" cellpadding=\"0\" cellspacing=\"0\" onclick=\"$('#popup4').fadeIn(0); \">\r\n",
            "<tr>\r\n",
            "<td><img src=\"https://tabiturient.ru/img/login3.png\" class=\"img3\"></td>\r\n",
            "<td><span class=\"font11\">Вход для пользователей</span></td>\r\n",
            "</tr>\r\n",
            "</table>\r\n",
            "\r\n",
            "\r\n",
            "<div style=\"clear:both;\"></div>\r\n",
            "\r\n",
            "\r\n",
            "<a href=\"https://tabiturient.ru\">\r\n",
            "<table class=\"link1\" cellpadding=\"0\" cellspacing=\"0\" >\r\n",
            "<tr>\r\n",
            "<td><span class=\"font11\">Список вузов</span></td>\r\n",
            "</tr>\r\n",
            "</table>\r\n",
            "</a>\r\n",
            "\r\n",
            "<a href=\"https://tabiturient.ru/np\">\r\n",
            "<table class=\"link1\" cellpadding=\"0\" cellspacing=\"0\" >\r\n",
            "<tr>\r\n",
            "<td><span class=\"font11\">Направления подготовки</span></td>\r\n",
            "</tr>\r\n",
            "</table>\r\n",
            "</a>\r\n",
            "\r\n",
            "<a href=\"https://tabiturient.ru/dod\">\r\n",
            "<table class=\"link1\" cellpadding=\"0\" cellspacing=\"0\" >\r\n",
            "<tr>\r\n",
            "<td><span class=\"font11\">Дни открытых дверей</span></td>\r\n",
            "</tr>\r\n",
            "</table>\r\n",
            "</a>\r\n",
            "\r\n",
            "<a href=\"https://tabiturient.ru/calculator\">\r\n",
            "<table class=\"link1\" cellpadding=\"0\" cellspacing=\"0\" >\r\n",
            "<tr>\r\n",
            "<td><span class=\"font11\">Калькулятор ЕГЭ</span></td>\r\n",
            "</tr>\r\n",
            "</table>\r\n",
            "</a>\r\n",
            "\r\n",
            "<a href=\"https://tabiturient.ru/rating\">\r\n",
            "<table class=\"link1\" cellpadding=\"0\" cellspacing=\"0\" >\r\n",
            "<tr>\r\n",
            "<td><span class=\"font11\">Рейтинг вузов</span></td>\r\n",
            "</tr>\r\n",
            "</table>\r\n",
            "</a>\r\n",
            "\r\n",
            "\r\n",
            "<a href=\"https://tabiturient.ru/zaklad\">\r\n",
            "<table class=\"link1\" cellpadding=\"0\" cellspacing=\"0\" >\r\n",
            "<tr>\r\n",
            "<td><span class=\"font11\">Сохраненные программы</span></td>\r\n",
            "</tr>\r\n",
            "</table>\r\n",
            "</a>\r\n",
            "\r\n",
            "<a href=\"https://tabiturient.ru/podbor\">\r\n",
            "<table class=\"link1\" cellpadding=\"0\" cellspacing=\"0\" >\r\n",
            "<tr>\r\n",
            "<td><span class=\"font11\">Подборка программ</span></td>\r\n",
            "</tr>\r\n",
            "</table>\r\n",
            "</a>\r\n",
            "\r\n",
            "<a href=\"https://tabiturient.ru/article\">\r\n",
            "<table class=\"link1\" cellpadding=\"0\" cellspacing=\"0\" >\r\n",
            "<tr>\r\n",
            "<td><span class=\"font11\">Статьи и советы</span></td>\r\n",
            "</tr>\r\n",
            "</table>\r\n",
            "</a>\r\n",
            "\r\n",
            "<a href=\"https://tabiturient.ru/question\">\r\n",
            "<table class=\"link1\" cellpadding=\"0\" cellspacing=\"0\" >\r\n",
            "<tr>\r\n",
            "<td><span class=\"font11\">Вопросы о поступлении</span></td>\r\n",
            "</tr>\r\n",
            "</table>\r\n",
            "</a>\r\n",
            "\r\n",
            "\r\n",
            "\r\n",
            "\r\n",
            "\r\n",
            "<div style=\"clear:both;\"></div>\r\n",
            "<div class=\"p20\" style=\"border-top:solid 1px #ccc; margin-top:10px; padding-left:0; padding-right:0;\">\r\n",
            "\r\n",
            "\r\n",
            "<a href=\"https://tabiturient.ru/policy\">\r\n",
            "<table class=\"link1\" cellpadding=\"0\" cellspacing=\"0\" >\r\n",
            "<tr>\r\n",
            "<td><span class=\"font11\">Политика конфиденциальности</span></td>\r\n",
            "</tr>\r\n",
            "</table>\r\n",
            "</a>\r\n",
            "\r\n",
            "<a href=\"https://tabiturient.ru/policy2\">\r\n",
            "<table class=\"link1\" cellpadding=\"0\" cellspacing=\"0\" >\r\n",
            "<tr>\r\n",
            "<td><span class=\"font11\">Пользовательское соглашение</span></td>\r\n",
            "</tr>\r\n",
            "</table>\r\n",
            "</a>\r\n",
            "\r\n",
            "<a href=\"https://tabiturient.ru/map\">\r\n",
            "<table class=\"link1\" cellpadding=\"0\" cellspacing=\"0\" >\r\n",
            "<tr>\r\n",
            "<td><span class=\"font11\">Карта сайта</span></td>\r\n",
            "</tr>\r\n",
            "</table>\r\n",
            "</a>\r\n",
            "\r\n",
            "<a href=\"https://tabiturient.ru/feedback\">\r\n",
            "<table class=\"link1\" cellpadding=\"0\" cellspacing=\"0\" >\r\n",
            "<tr>\r\n",
            "<td><span class=\"font11\">Обратная связь</span></td>\r\n",
            "</tr>\r\n",
            "</table>\r\n",
            "</a>\r\n",
            "\r\n",
            "\r\n",
            "<a href=\"https://tabiturient.ru/admin2/ca.php\" style=\"font-size:1px;\">h</a>\r\n",
            "<a onclick=\"cgggf('https://tabiturient.ru')\" style=\"font-size:1px;\">h</a>\r\n",
            "<div id=\"cggg\"></div>\r\n",
            "\r\n",
            "</div>\r\n",
            "\r\n",
            "<div style=\"clear:both;\"></div>\r\n",
            "\r\n",
            "<div class=\"p20\" style=\"border-top:solid 1px #ccc; margin-top:10px; padding-left:0; padding-right:0;\">\r\n",
            "\r\n",
            "<a href=\"https://tabiturient.ru/adv\">\r\n",
            "<table class=\"link1\" cellpadding=\"0\" cellspacing=\"0\" >\r\n",
            "<tr>\r\n",
            "<td><span class=\"font11\">Реклама на сайте</span></td>\r\n",
            "</tr>\r\n",
            "</table>\r\n",
            "</a>\r\n",
            "\r\n",
            "<a href=\"https://tabiturient.ru/vuzam2\">\r\n",
            "<table class=\"link1\" cellpadding=\"0\" cellspacing=\"0\" >\r\n",
            "<tr>\r\n",
            "<td><span class=\"font11\">Стать представителем вуза</span></td>\r\n",
            "</tr>\r\n",
            "</table>\r\n",
            "</a>\r\n",
            "\r\n",
            "<a href=\"https://tabiturient.ru/kp\">\r\n",
            "<table class=\"link1\" cellpadding=\"0\" cellspacing=\"0\" >\r\n",
            "<tr>\r\n",
            "<td><span class=\"font11\">Продвижение вуза</span></td>\r\n",
            "</tr>\r\n",
            "</table>\r\n",
            "</a>\r\n",
            "<div style=\"clear:both;\"></div>\r\n",
            "\r\n",
            "\r\n",
            "</div>\r\n",
            "\r\n",
            "\r\n",
            "\r\n",
            "\r\n",
            "<div style=\"clear:both;\"></div>\r\n",
            "<br>\r\n",
            "\r\n",
            "<span class=\"font11\">Информационный портал для поступающих в российские вузы на программы бакалавриата и специалитета\r\n",
            "<br><br>\r\n",
            "<b>Табитуриент: Типичный абитуриент</b><br>\r\n",
            "© 2012/2023 год.\r\n",
            "\r\n",
            "</span>\r\n",
            "\r\n",
            "\r\n",
            "\r\n",
            "</div>\r\n",
            "</div>\r\n",
            "</div>\r\n",
            "</div>\r\n",
            "</div>\r\n",
            "<div class=\"yesmobile1\" style=\"height:120px;\">\r\n",
            "</div>\r\n",
            "\n",
            "</div>\n",
            "\n",
            "<div class=\"popup\" id=\"popup3\"  cellpadding=\"0\" cellspacing=\"0\" >\r\n",
            "<div class=\"popupin\" >\r\n",
            "<div class=\"popupcontent\" style=\"background:none;\">\r\n",
            "<div class=\"popupinmobpadd\" style=\"padding-bottom:0; padding-top:0;\">\r\n",
            "\r\n",
            "<div class=\"yesmobile1\" style=\"width:100%; height:100px;\" onclick=\"closepopup();\">\r\n",
            "</div>\r\n",
            "<div class=\"popininside1\" style=\"background:#f1f1f1;\">\r\n",
            "<div id=\"popupregistr\">\r\n",
            "<table cellpadding=\"0\" cellspacing=\"0\" class=\"p40\">\r\n",
            "<tbody>\r\n",
            "<tr>\r\n",
            "<td><img src=\"https://tabiturient.ru/img/loader.gif\" class=\"img3\" style=\"margin-left:0px;\"></td>\r\n",
            "<td class=\"p10\" style=\"padding-left:0px;\" colspan=\"2\">\r\n",
            "<span class=\"font2\">\r\n",
            "<b>Пожалуйста, ожидайте...</b><br>\r\n",
            "</span>\r\n",
            "</td>\r\n",
            "</tr>\r\n",
            "</tbody></table>\r\n",
            "</div>\r\n",
            "\r\n",
            "\r\n",
            "</div>\r\n",
            "\r\n",
            "<div class=\"yesmobile1\" style=\"width:100%; height:100px;\" onclick=\"closepopup();\">\r\n",
            "</div>\r\n",
            "\r\n",
            "</div>\r\n",
            "</div>\r\n",
            "\r\n",
            "\r\n",
            "</div>\r\n",
            "</div>\n",
            "\r\n",
            "<div class=\"popup\" id=\"popup4\"  cellpadding=\"0\" cellspacing=\"0\">\r\n",
            "<div class=\"popupin\" >\r\n",
            "<div class=\"popupcontent\" id=\"popupcontent4\" style=\"background:none;\">\r\n",
            "<div class=\"popupinmobpadd\" style=\"padding-bottom:0; padding-top:0;\">\r\n",
            "\r\n",
            "<div class=\"yesmobile1\" style=\"width:100%; height:100px;\" onclick=\"closepopup();\">\r\n",
            "</div>\r\n",
            "\r\n",
            "<div class=\"popininside1\" style=\"background:#f1f1f1;\">\r\n",
            "<div class=\" bg1\">\r\n",
            "<div class=\"p40\">\r\n",
            "\r\n",
            "<table cellpadding=\"0\" cellspacing=\"0\">\r\n",
            "<tr>\r\n",
            "<td style=\"width:100%;\">\r\n",
            "<span class=\"font3 fontshadow1\" style=\"color:white;\">Вход в личный кабинет</span>\r\n",
            "\r\n",
            "</td>\r\n",
            "<td>\r\n",
            "<img src=\"https://tabiturient.ru/img/x2.png\" class=\"close1\" style=\"position:static;\" onclick=\"closepopup();\"/>\r\n",
            "</td>\r\n",
            "</tr>\r\n",
            "</table>\r\n",
            "\r\n",
            "\r\n",
            "\r\n",
            "</div>\r\n",
            "</div>\r\n",
            "\r\n",
            "\r\n",
            "\r\n",
            "\r\n",
            "\r\n",
            "\r\n",
            "<div class=\"p40\">\r\n",
            "\r\n",
            "<form method=\"post\">\r\n",
            "<table cellpadding=\"0\" cellspacing=\"0\">\r\n",
            "<tbody>\r\n",
            "<tr>\r\n",
            "<td colspan=\"3\"  class=\"font1\" style=\"color:#ccc;\"><b>Войти с помощью электронной почты</b></td>\r\n",
            "</tr>\r\n",
            "\r\n",
            "<tr>\r\n",
            "<td><img src=\"https://tabiturient.ru/img/envelope.png\" class=\"img3\" style=\"margin-left:0px;\"></td>\r\n",
            "<td class=\"p10\" style=\"padding-left:0px;\"><input required=\"\" type=\"text\" name=\"userlogin\" class=\"search userlogin\" placeholder=\"Логин\"></td>\r\n",
            "<td class=\"font2\"><b>Логин</b><br>(эл. почта)</td>\r\n",
            "</tr>\r\n",
            "<tr>\r\n",
            "<td><img src=\"https://tabiturient.ru/img/password.png\" class=\"img3\" style=\"margin-left:0px;\"></td>\r\n",
            "<td class=\"p10\" style=\"padding-left:0px;\"><input required=\"\" type=\"password\" name=\"userpass\" class=\"search userpass\" placeholder=\"Пароль\"></td>\r\n",
            "<td class=\"font2\"><b>Пароль</b></td>\r\n",
            "</tr>\r\n",
            "<tr class=\"submit submit3\">\r\n",
            "<td></td>\r\n",
            "<td class=\"p10\" style=\"padding-left:0px;\">\r\n",
            "<table class=\"link5\" cellpadding=\"0\" cellspacing=\"0\" onclick=\"logining('https://tabiturient.ru','/sliv/n/?2242')\" >\r\n",
            "<tbody><tr>\r\n",
            "<td><span class=\"font2\"><b>Войти<span class=\"nonmobile\"> в личный кабинет</span></b></span></td>\r\n",
            "</tr>\r\n",
            "</tbody></table>\r\n",
            "\r\n",
            "\r\n",
            "</td>\r\n",
            "<td></td>\r\n",
            "</tr>\r\n",
            "\r\n",
            "<tr class=\"loading loading3\">\r\n",
            "<td><img src=\"https://tabiturient.ru/img/loader.gif\" class=\"img3\" style=\"margin-left:0px;\"></td>\r\n",
            "<td class=\"p10\" style=\"padding-left:0px;\" colspan=\"2\">\r\n",
            "<span class=\"font2\">\r\n",
            "<b>Пожалуйста, ожидайте...</b><br>\r\n",
            "</span>\r\n",
            "</td>\r\n",
            "</tr>\r\n",
            "\r\n",
            "<tr>\r\n",
            "<td colspan=\"3\" class=\"p10\"></td>\r\n",
            "</tr>\r\n",
            "<tr>\r\n",
            "<td colspan=\"3\" class=\"p10\" style=\"border-top:solid 1px #ccc;\"></td>\r\n",
            "</tr>\r\n",
            "\r\n",
            "\r\n",
            "<tr>\r\n",
            "<td colspan=\"3\" class=\"font1\" style=\"color:#ccc;\"><b>Войти с помощью социальных сетей</b></td>\r\n",
            "</tr>\r\n",
            "\r\n",
            "\r\n",
            "<tr class=\"submit submit3\">\r\n",
            "\r\n",
            "<td class=\"p10\" style=\"padding-left:0px; padding-right:0px; padding-bottom:0;\" colspan=\"3\">\r\n",
            "<a href=\"http://oauth.vk.com/authorize?client_id=7742258&redirect_uri=https://tabiturient.ru/authvk&response_type=code&state=/sliv/n/?2242\">\r\n",
            "<table class=\"link5\" cellpadding=\"0\" cellspacing=\"0\" >\r\n",
            "<tbody><tr>\r\n",
            "<td style=\"width:1px;\"><img src=\"https://tabiturient.ru/img/vk2.png\" class=\"img3\"></td>\r\n",
            "<td style=\"text-align:left;\"><span class=\"font2\"><b>Войти с помощью Вконтакте</b></span></td>\r\n",
            "</tr>\r\n",
            "</tbody></table>\r\n",
            "</a>\r\n",
            "\r\n",
            "</td>\r\n",
            "\r\n",
            "</tr>\r\n",
            "\r\n",
            "</table>\r\n",
            "\r\n",
            "\r\n",
            "\r\n",
            "<div id=\"popuplogining\">\r\n",
            "\r\n",
            "</div>\r\n",
            "</form>\r\n",
            "\r\n",
            "\r\n",
            "\r\n",
            "</div>\r\n",
            "\r\n",
            "<div class=\" bg1\">\r\n",
            "<div class=\"p40\">\r\n",
            "\r\n",
            "\r\n",
            "<span class=\"font3 fontshadow1\" style=\"color:white;\">Проблемы со входом?</span>\r\n",
            "\r\n",
            "<br><br>\r\n",
            "\r\n",
            "<a onclick=\"closepopup(); popup('5')\">\r\n",
            "<table class=\"link1\" cellpadding=\"0\" cellspacing=\"0\">\r\n",
            "<tbody><tr>\r\n",
            "<td><span class=\"font11\">Не помню пароль</span></td>\r\n",
            "</tr>\r\n",
            "</tbody></table>\r\n",
            "</a>\r\n",
            "\r\n",
            "<a onclick=\"closepopup(); registr('https://tabiturient.ru','/sliv/n/?2242')\">\r\n",
            "<table class=\"link1\" cellpadding=\"0\" cellspacing=\"0\">\r\n",
            "<tbody><tr>\r\n",
            "<td><span class=\"font11\">Еще не зарегистрирован(а)</span></td>\r\n",
            "</tr>\r\n",
            "</tbody></table>\r\n",
            "</a>\r\n",
            "\r\n",
            "<div style=\"clear:both;\"></div>\r\n",
            "\r\n",
            "</div>\r\n",
            "</div>\r\n",
            "</div>\r\n",
            "\r\n",
            "<div class=\"yesmobile1\" style=\"width:100%; height:100px;\" onclick=\"closepopup();\">\r\n",
            "</div>\r\n",
            "\r\n",
            "</div>\r\n",
            "</div>\r\n",
            "\r\n",
            "\r\n",
            "\r\n",
            "</div>\r\n",
            "</div>\r\n",
            "\r\n",
            "\n",
            "\r\n",
            "<div class=\"popup\" id=\"popup5\"  cellpadding=\"0\" cellspacing=\"0\">\r\n",
            "<div class=\"popupin\" >\r\n",
            "<div class=\"popupcontent\" id=\"popupcontent5\" style=\"background:none;\">\r\n",
            "<div class=\"popupinmobpadd\" style=\"padding-bottom:0; padding-top:0;\">\r\n",
            "\r\n",
            "<div class=\"yesmobile1\" style=\"width:100%; height:100px;\" onclick=\"closepopup();\">\r\n",
            "</div>\r\n",
            "\r\n",
            "<div class=\"popininside1\" style=\"background:#f1f1f1;\">\r\n",
            "<div class=\" bg1\">\r\n",
            "<div class=\"p40\">\r\n",
            "\r\n",
            "<table cellpadding=\"0\" cellspacing=\"0\">\r\n",
            "<tr>\r\n",
            "<td style=\"width:100%;\">\r\n",
            "<span class=\"font3 fontshadow1\" style=\"color:white;\">Восстановление пароля</span>\r\n",
            "\r\n",
            "</td>\r\n",
            "<td>\r\n",
            "<img src=\"https://tabiturient.ru/img/x2.png\" class=\"close1\" style=\"position:static;\" onclick=\"closepopup();\"/>\r\n",
            "</td>\r\n",
            "</tr>\r\n",
            "</table>\r\n",
            "\r\n",
            "\r\n",
            "\r\n",
            "</div>\r\n",
            "</div>\r\n",
            "\r\n",
            "\r\n",
            "\r\n",
            "\r\n",
            "\r\n",
            "\r\n",
            "<div class=\"p40\">\r\n",
            "\r\n",
            "<form method=\"post\">\r\n",
            "<table cellpadding=\"0\" cellspacing=\"0\" id=\"prepopupremindpass\">\r\n",
            "<tbody><tr>\r\n",
            "<td><img src=\"https://tabiturient.ru/img/envelope.png\" class=\"img3\" style=\"margin-left:0px;\"></td>\r\n",
            "<td class=\"p10\" style=\"padding-left:0px;\"><input required=\"\" type=\"text\" name=\"userloginremind\" class=\"search userloginremind\" placeholder=\"Электронная почта\"></td>\r\n",
            "<td class=\"font2\"><b>Эл. почта</b></td>\r\n",
            "</tr>\r\n",
            "\r\n",
            "<tr class=\"submit submit4\">\r\n",
            "<td></td>\r\n",
            "<td class=\"p10\" style=\"padding-left:0px;\">\r\n",
            "<table class=\"link5\" cellpadding=\"0\" cellspacing=\"0\" onclick=\"remindpass('https://tabiturient.ru','/sliv/n/?2242')\" >\r\n",
            "<tbody><tr>\r\n",
            "<td><span class=\"font2\"><b>Прислать пароль</span></b></span></td>\r\n",
            "</tr>\r\n",
            "</tbody></table>\r\n",
            "\r\n",
            "\r\n",
            "</td>\r\n",
            "<td></td>\r\n",
            "</tr>\r\n",
            "\r\n",
            "<tr class=\"loading loading4\">\r\n",
            "<td><img src=\"https://tabiturient.ru/img/loader.gif\" class=\"img3\" style=\"margin-left:0px;\"></td>\r\n",
            "<td class=\"p10\" style=\"padding-left:0px;\" colspan=\"2\">\r\n",
            "<span class=\"font2\">\r\n",
            "<b>Пожалуйста, ожидайте...</b><br>\r\n",
            "</span>\r\n",
            "</td>\r\n",
            "</tr>\r\n",
            "\r\n",
            "\r\n",
            "\r\n",
            "</tbody></table>\r\n",
            "\r\n",
            "<div id=\"popupremindpass\">\r\n",
            "\r\n",
            "</div>\r\n",
            "</form>\r\n",
            "\r\n",
            "\r\n",
            "\r\n",
            "</div>\r\n",
            "\r\n",
            "<div class=\" bg1\">\r\n",
            "<div class=\"p40\">\r\n",
            "\r\n",
            "\r\n",
            "<span class=\"font3 fontshadow1\" style=\"color:white;\">Не получили пароль?</span><br>\r\n",
            "\r\n",
            "<ul class=\"font2\" style=\"color:white;\">\r\n",
            "<li>Подождите пару минут</li>\r\n",
            "<li>Проверьте папку \"спам\"</li>\r\n",
            "</ul>\r\n",
            "\r\n",
            "<br>\r\n",
            "\r\n",
            "<a onclick=\"closepopup(); popup('4')\">\r\n",
            "<table class=\"link1\" cellpadding=\"0\" cellspacing=\"0\">\r\n",
            "<tbody><tr>\r\n",
            "<td><span class=\"font11\">Вспомнил(а) пароль</span></td>\r\n",
            "</tr>\r\n",
            "</tbody></table>\r\n",
            "</a>\r\n",
            "\r\n",
            "<a onclick=\"closepopup(); registr('https://tabiturient.ru','/sliv/n/?2242')\">\r\n",
            "<table class=\"link1\" cellpadding=\"0\" cellspacing=\"0\">\r\n",
            "<tbody><tr>\r\n",
            "<td><span class=\"font11\">Еще не зарегистрирован(а)</span></td>\r\n",
            "</tr>\r\n",
            "</tbody></table>\r\n",
            "</a>\r\n",
            "\r\n",
            "\r\n",
            "\r\n",
            "<div style=\"clear:both;\"></div>\r\n",
            "\r\n",
            "</div>\r\n",
            "</div>\r\n",
            "</div>\r\n",
            "\r\n",
            "<div class=\"yesmobile1\" style=\"width:100%; height:100px;\" onclick=\"closepopup();\">\r\n",
            "</div>\r\n",
            "\r\n",
            "</div>\r\n",
            "</div>\r\n",
            "\r\n",
            "\r\n",
            "\r\n",
            "</div>\r\n",
            "</div>\r\n",
            "\r\n",
            "\n",
            "\n",
            "\n",
            "\n",
            "\n",
            "\n",
            "</body>\n",
            "\n",
            "\n",
            "<script type=\"text/javascript\" src=\"https://tabiturient.ru/js/script.js?v-1-163\"></script>\n",
            "</html>\n"
          ]
        }
      ],
      "source": [
        "import requests\n",
        "\n",
        "url = 'https://tabiturient.ru/sliv/n/?2242'\n",
        "response = requests.get(url)\n",
        "page = response.text\n",
        "print(page)"
      ]
    },
    {
      "cell_type": "markdown",
      "source": [
        "Первое, что можно сделать, чтобы облегчить себе жизнь - это использовать библиотеки для парсинга, например bs4. Beautiful Soup позволяет производить поиск по тэгам и доставать интересующую информацию."
      ],
      "metadata": {
        "id": "3Ir-TPOc0R1Q"
      }
    },
    {
      "cell_type": "code",
      "source": [
        "from bs4 import BeautifulSoup\n",
        "\n",
        "soup = BeautifulSoup(page)\n",
        "soup.find('div', {'class': 'font2'}).text"
      ],
      "metadata": {
        "colab": {
          "base_uri": "https://localhost:8080/",
          "height": 123
        },
        "id": "F5iJaGZM1OG7",
        "outputId": "aa420611-1e8a-4a17-c76d-00b8da6ea959"
      },
      "execution_count": null,
      "outputs": [
        {
          "output_type": "execute_result",
          "data": {
            "text/plain": [
              "'\\n\\n\\n\\tПроучился в вузе 6 лет, закончил бакалавриат и магистратуру. Был сильно удивлён, когда знакомый абитуриент рассказывал, как в вузе все плохо, прислав в подтверждение ссылку на эту страницу.\\n\\tУчился на ПИиКТ (бывшее КТиУ). На первом и втором курсе, как и во многих вузах, была куча общеобразовательных предметов а ля матан, физика и тд. Сразу были курсы по программированию на шарпах, джавке и тд. Негодование вызывало преподавание гуманитарных предметов типа истории, риторики и тд. Нужно было строчить бесполезные рефераты и записывать лекции, хотя и по информатике встречались околобесполезные лабы в виде написать макросы для экселя. На третьем и четвертом было достаточно сильное углубление в специальность. Удалось потыкать множество языков программирования: Asm, C/C++, Java, Python. Была даже экзотика в виде Haskell (но это по желанию) и написания мини игры на языке программирования OpenGL для видеокарт. преподавались на неплохом уровне БД, были даже NoSQL решения. После того, как на собеседовании сказал, что поднимал кластер оракла, больше про БД вопросы не задавали))\\n\\tТеперь немного про преподавание. В основном есть набор лаб, которые надо было сделать. На лекции можно особо не ходить, если сдавать лабы в срок, то вопросов не будет. (Опять таки зависит от препода. Встречаются экземпляры, которые отмечали посещение лекций в магистратуре, что приносило дикое полыхание пятой точки). Для сдачи лабы на отлично приходилось дико копать в гугле различную инфу, как это сделать. На лекциях тупо все не успеют рассказать за определенное время. Чтоб учиться на тройки, вообще особо парится не надо, сдал в конце семестра лабы, ответив на половину вопросов, и получил свой зачет/трояк за семестр. (чем и успешно пользовался мой сосед по общаге, проиграв весь универ в дотан).\\n\\tЕстественно, есть и негатив. Главная общага вуза – вязьма, которая расположена рядом с универом, имеет весьма ограниченное количество мест. Другие общаги либо дорогие (селят в общагу от лесопилки, где плата в месяц 5300), либо далеко от универа, либо и то и то вместе взятое.\\n\\tЛично я своим образованием доволен. После четвертого курса успешно устроился на неплохую работу, в маге спокойно совмещал ее с учебой, получив по итогу красный диплом. Большинство преподов относятся с пониманием, зная, что размер повышенной стипухи (за отличную учебу – 3200 (!)). Ясен фиг, что на такую никак не прожить. Если не валять баклуши, можно получить неплохой набор скиллов. Если сдавать лабы на отвали - естественно выйдешь с нулевыми знаниями или вообще отчислят нафиг. Так что если есть настоящее желание получить знания – поступать стоит, если нет, то вероятно стоит выбрать вуз полегче, т.к. ничего не делать вообще – не получится.\\n'"
            ],
            "application/vnd.google.colaboratory.intrinsic+json": {
              "type": "string"
            }
          },
          "metadata": {},
          "execution_count": 2
        }
      ]
    },
    {
      "cell_type": "markdown",
      "source": [
        "В данном случае мы достали один-единственный отзыв, потому что изначальная ссылка вела на страницу с одним отзывом. Хотелось бы получить побольше. Если присмотреться, то можно заметить, что все ссылки на страницы с отзывами выглядят как https://tabiturient.ru/sliv/n/?номер. Чтобы достать с главной страницы все ссылки, подходящие под шаблон, можно воспользоваться регулярными выражениями."
      ],
      "metadata": {
        "id": "_jnBcLuM2tEY"
      }
    },
    {
      "cell_type": "code",
      "source": [
        "import re\n",
        "\n",
        "url = 'https://tabiturient.ru/vuzu/itmo/'\n",
        "response = requests.get(url)\n",
        "page = response.text\n",
        "review_urls = set(re.findall(r'https://tabiturient.ru/sliv/n/\\?\\d+', page))\n",
        "print(review_urls)"
      ],
      "metadata": {
        "colab": {
          "base_uri": "https://localhost:8080/"
        },
        "id": "KJs-IsRQ1UKR",
        "outputId": "72b57751-8ba8-4852-f2a9-ce4a343537bc"
      },
      "execution_count": null,
      "outputs": [
        {
          "output_type": "stream",
          "name": "stdout",
          "text": [
            "{'https://tabiturient.ru/sliv/n/?4643', 'https://tabiturient.ru/sliv/n/?6346', 'https://tabiturient.ru/sliv/n/?3171', 'https://tabiturient.ru/sliv/n/?3998', 'https://tabiturient.ru/sliv/n/?2846', 'https://tabiturient.ru/sliv/n/?2938', 'https://tabiturient.ru/sliv/n/?2069', 'https://tabiturient.ru/sliv/n/?5453', 'https://tabiturient.ru/sliv/n/?4847', 'https://tabiturient.ru/sliv/n/?2242', 'https://tabiturient.ru/sliv/n/?2614', 'https://tabiturient.ru/sliv/n/?2508', 'https://tabiturient.ru/sliv/n/?3595', 'https://tabiturient.ru/sliv/n/?5222', 'https://tabiturient.ru/sliv/n/?2449', 'https://tabiturient.ru/sliv/n/?2596', 'https://tabiturient.ru/sliv/n/?4757', 'https://tabiturient.ru/sliv/n/?4144', 'https://tabiturient.ru/sliv/n/?3837', 'https://tabiturient.ru/sliv/n/?4580', 'https://tabiturient.ru/sliv/n/?2968', 'https://tabiturient.ru/sliv/n/?2520', 'https://tabiturient.ru/sliv/n/?2874', 'https://tabiturient.ru/sliv/n/?2061', 'https://tabiturient.ru/sliv/n/?2395'}\n"
          ]
        }
      ]
    },
    {
      "cell_type": "code",
      "source": [
        "reviews = []\n",
        "for url in review_urls:\n",
        "  response = requests.get(url)\n",
        "  page = response.text\n",
        "  soup = BeautifulSoup(page)\n",
        "  review = soup.find('div', {'class': 'font2'}).text\n",
        "  reviews.append(review)\n",
        "print(reviews)"
      ],
      "metadata": {
        "colab": {
          "base_uri": "https://localhost:8080/"
        },
        "id": "8IPKmnWM4pNr",
        "outputId": "38902320-8c41-4566-cbab-da8ca383170b"
      },
      "execution_count": null,
      "outputs": [
        {
          "output_type": "stream",
          "name": "stdout",
          "text": [
            "['\\n\\n\\nЯ поступил в 2014, окончил в 2018.\\nМой главный совет: Не идите вообще получать вышку. А если решили не выбирайте Бизнес-Информатику, вы потеряете 4 года своей жизни и огромную сумму денег, если будете учиться на платном. Всё время обучения было такое ощущение, что на факультете все заинтересованы не в качестве образования и компетентности преподавателей, а в том, чтобы те, кто учится на платном не уходили из универа, отчисляли людей неохотно и то, даже тех, кто хотел уйти по собственному не хотели отпускать.\\n\\nПо учебе: Тупые шутки преподов, отстающая программа обучения, одна вода, а не получение полезных знаний, в принципе учебу на БИ можно сравнить с марафоном Блиновской.\\nРезультат обучения: 2% после выпуска пошли в магистратуру и работают сейчас в авито, ещё 18% пошли работать не по специальности, все остальные после окончания пошли на различные курсы, отучились несколько месяцев кто на тестировщиков, кто на другие айти позиции и собственно всё.\\nСпрашивается ну и какой был смысл тратить 4 года своей жизни на эту специальность, которая даже элементарных знаний не дала, а ты пошёл и получил необходимые знания для работы на курсах?\\n\\nПлюс только один и то абсурдный: говорить, что я окончил ИТМО.\\nНу и обрёл хороших друзей.\\nВсё.', '\\n\\n\\nЯ закончила 1 курс \\nфакультета лазерной фотоники и оптоэлектроники, и это был самый бесполезный год в моей жизни. \\n\\nВопросы стали появляться ещё осенью. Я поступала в 2019 году и относительно неплохо сдала егэ (рмф) - 260 баллов (к слову, на это направление велся двойной набор абитуриентов с разными егэ, принимали часть с физикой, часть с информатикой; для тех, кто поступал с инфой, был двойной шок - о программировании на этом направлении я не слышала ни разу во время обучения, ни в отношении 1 курса, ни для последующих). Очень переживала, смогу ли пройти по конкурсу, ведь мой балл егэ был граничным с проходным в тот год. Как оказалось позже, в моей группе были и люди с баллом 220-230, потому что просто некого было учить, изначально недобор. Сколько человек выпустится из бакалавриата не могу представить - уже после первой сессии несколько человек из моей группы (и не только из моей) перешли на другие направления, а кто-то вообще отчислился. Причина простая: рисуя высокие проходные баллы у себя на сайте, вуз привлекает школьников, которые хотят не просто получить бумажку об образовании, которой можно подтереться (диплом НИУ ИТМО), а хотя бы какие-то знания. Среди идиотов, которые думали, что высокий проходной = достойная конкуренция+глубокие знания+хороший преподавательский состав  оказалась и я. Не ведитесь. Зато если вас устраивает огромное количество свободного времени, домашнее задание примерно раз в месяц, отсутствие контрольных работ, для выполнения которых вам стоило приложить хотя бы немного усилий - вам сюда. \\nВ течение года в день у меня было не больше 2-3 пар, которые обычно начинались с 10 утра, стабильно выходные посреди недели. На расслабоне едешь в универ в пустом вагоне метро, спишь на паре, пока преподаватель сидит в телефоне, а через несколько часов идёшь домой бездельничать.\\nОтдельного внимания «заслуживает» преподавательский состав. В течение сентября у моей группы сменилось 3 преподавателя по физике, все уходили по непонятным причинам. В итоге поставили студента аспирантуры СПБГУ (если не ошибаюсь) на проведение практических занятий, который при несовпадении собственных ответов в задачах и учебнике охарактеризовал их как «нефизичные» и спокойно бросал решение. Лабораторные занятия также проходили бог знает как - преподаватель мог не приходить на пары несколько недель подряд, хотя пара на неделе и так была одна. Ни о какой проверке отчета речи не идёт - показал какую-то бумажку с любым графиком тяп-ляп - сдал, молодец. А вот лектор правда был неплохой. \\nО математике: с нулевыми знаниями и неумением даже взять простейший интеграл можно учиться на четверки. Дело, наверное, в преподавателе, но доставшийся нашему потоку отдавал контрольные на самопроверки, да и не парился никогда с объяснением материала.\\nТак прошло немногим больше полугода. Потом из-за пандемии началась дистанционка и все забыли о том, что вообще где-то учатся. \\n\\nО плюсах: \\nШикарная физкультура, здесь вы найдёте секции на любой вкус. Я поначалу думала, что поступила не в технический вуз, а в спортивный. \\nНеплохой английский - есть деление по уровням подготовки. \\nОбщага - любовь на всю жизнь. Белорусская 6 - это рай для студента. Новые чистые комнаты, почти нигде нет тараканов, отличные условия. Если думаете, что далеко от метро и центра, то это не проблема - новый красавчик  трамвай до ладожской едет 15 минут. Отчисляться было жалко только из-за того, что пришлось выселяться. \\n\\nКакие итоги? \\nЯ потратила год впустую, оставшись со знаниями одиннадцатиклассницы (учась на 5 и 4, получая стипендию), разочаровалась в вузе и готовлюсь поступать заново на 1 курс в другое место. Никому не советую ФЛФО да и вообще все, что связано с физикой в ИТМО - пожалеете. ', '\\n\\n\\nЯ уже учусь в этом университете почти 4 года на кафедре ВТ. Сейчас я расскажу, что я думаю после всего периода обучения.\\n\\nОбучение в этом университете - пытка. Глупые шутки, психологическое давление. На первом курсе большинство лекций проходят в шуточном формате. Естественно, вы ничего не поймёте и будете сами дома всё учить. Приведу пример - ООП в языках программирования преподаватель объясняет на гопниках. Шутки про купчино и т.д. Никого не волнует, что за обучение вы как бы платите и хотите получать качественное образование. Было бы всё хорошо, если бы вам не приходилось сдавать лабораторные работы, на которых спрашивают материал, которого даже не было в лекции. Чтобы сдать лабораторную на 3 вам нужно знать материал на 5. Чтобы сдать на 5 вам нужно быть умнее преподавателя. Я думаю вы понимаете, о чем я. Плюс к этому тут постоянное давление на студентов. На лекциях шутки про отчисление, долги. Примеры программ даже приводят с шутками про отчисление. Представьте себе, у вас плохо получается учиться, а тут ещё и шутят, что вас отчислят. Хорошая такая мотивация.\\nНа втором курсе лекции максимально скучные, отдача от преподавателей никакая. Лекции читаются прямиком со слайдов, на вопросы ответов не дают, задают кучу домашних заданий, а потом заваливают.\\nЕсли вы пришли за предметами, что помогут вам в профессии программиста, то я вас разочарую. На первом курсе может быть они и будут (Информатика, ОПД, Программирование), но на втором и третьем у вас большинство предметов попросту бесполезные. Например вы будете делать макаронные домики, делать интервью, записывать глупые видео, строя из себя блоггера. Причем это всё настолько серьёзно, что если вы не сделаете макаронный домик - то вас могут отправить на доп сессию. Я думаю, что сейчас вы мне не верите, но студенты ИТМО сейчас читают и смеются от того, что это реальность.\\n\\nБольшинство отзывов тут оставляют студенты первого курса, но дальше будет только хуже. На первом курсе у вас хотя бы есть какие-то важные предметы, на последующих просто будет одна зубрёжка, давление, нервы. Те, кто остаются, в основном сидят из-за корки.\\n\\nУниверситету также глубоко всё равно на всё происходящее. У них постоянно падает система ISU, через которую вы выбираете предметы, в результате чего вы попадаете на обязательный факультатив, который вам вовсе не интересен. Решать это никто не собирается, так как все считают, что это норма. Если препод вас заваливает, университет проблему решать никак не будет.\\n\\nУниверситет ИТМО - это просто красивая обложка депрессивной реальности. Образования тут нет, одни шутки. Все деньги тратятся не на образование, а на обложку. Компьютеры поставят, столовую обновят, ремонт сделают и т.д. Обновлять программу, решать существующие проблемы никто не собирается. \\n\\n', '\\n\\n\\nДобрый день. Когда поступала в вуз не нашла почти ни одного отзыва о таком направлении, как \"Компьютерные технологии в дизайне\". Чтож, теперь я буду человеком, который напишет этот самый отзыв. Чтобы абитуриенты не строили тех же иллюзий, что и я. \\nВ общем, начнем. ИТМО меня привлекал высокими баллами (поступала по олимпиаде), большой стипендией (в моем случае - 15к) и общежитием в центре города (Вязьма). В августе я была очень рада, потому что и стипендия и общежитие меня полностью устраивали. Смущало только то, что, как оказалось, чем выше балл - тем больше платников, которые, как оказалось, люди вовсе не плохие и не глупые, но слишком уж разное у нас представление о школьной жизни и о целях в целом, да и о высшем образовании тоже. \\nУже в сентябре меня ждало разочарование, когда я осознала, что за весь семестр в направлении \"компьютерные технологии в дизайне\" нет ни одного предмета связанного с дизайном. Ещё раз повторюсь, ни одного. Ни единого. Нет нет. Ну да ладно, было много всего нового:новый город, новые знакомства, как-то не осознавалось особо. Через месяц мне надоело. Учеба оказалась совсем не интересной. Единственное, что было ещё ничего - предмет информатика. Там мы делали всякие базовые вещи по чуть-чуть, совсем по чуть-чуть. Два часика пишем скрипт создания из квадратиков машинки в svg. Два часа учимся перемешать в том же svg объекты (примитивная анимация - квадрат из одного угла в другой). На этом все. \\nСеместр закончился, у меня не осталось ни знаний, ни мотивации. Учеба казалась очень скучной потому, что ожидалось совсем другое. Я просто перестала ходить на пары да и вообще просто выходить хоть куда-нибудь. \\nЗакрылась я на доп. сессии, не без сложностей (основная беда - физика). Закрылась и ладно. \\nСпрашивали декана что за херня. Почему у нас такая стремная программа. Бедный С. весь покраснел, сказал, что это новая \"болонская\" система, когда вы за два года проходите все то, что вам к черту не надо (реально, в первые два года на этом направлении вы не будете изучать ничего, связанное с дизайном), а потом за два года проходите все, что в предыдущие годы проходили за 4. Новая программа, дескать. Позволяет студентам переходить с одной программы на другую (у всей программной инженерии, кроме предмета опд во 2 семестре, программа ну вообще не отличается). Только вот вопрос, зачем это нужно, остался открытым. Я не обвиняю С. в сложившейся ситуации. Виноват не он, а тот, кто решил что инновации в ИТМО - это главное, а качество образования должно быть на втором месте. Когда мы его напрямую спросили, не повлияет ли это на качество, какой итоговый уровень будет у студентов, он не смог ответить, сам об этом сильно переживает, по его словам. И я ему верю. Просто на схожем направлении в СПбГУ (09.03.03) в то время, пока мы проходим физику, хранение и обработку данных и т.д., без единого намека на дизайн и искусство, проходят анимацию, историю искусств, визуальную культуру и тому подобное.\\nЧто по итогу: сомообразование - это, конечно, отлично. Но вопрос: зачем нужен вуз, который не то, чтобы помогает тебе чему-то научиться, а напрямую мешает кучей бесполезных предметов. И если вы думаете, что ктшники будут к вам серьезно относиться, когда вы будете говорить, что вы с дизайна, и что преподаватели по физике (особенно пожилые) не будут к вам относиться предвзято, то вы ошибаетесь. И они, кстати, будут правы, потому что дизайнеры из вас выйдут никакие, вы будете недопрогерами-недолюдьми, которые ничего особо и не знают, а если вы ещё и с платки, то вообще не понятно чем вы думаете, когда за 100к можно купить годовой курс от того же ИТМО, на котором вас научат большему, чем здесь за два года точно. \\nВсем прекрасно понятно, почему программа плоха: нельзя за два года пройти то, что нужно было пройти за четыре, особенно в творческой направленности. Предугадываю, как не буду успевать полностью качественно разобраться в материале, как не будет хватать времени на качественное выполнение работ, а отсюда - некачественное портфолио, и это все в лучшем случае - т.е. в том, если ИТМО сможет дать хоть насколько-то качественный материал, хоть немного дельную и полезную информацию. \\nПросто задцмайтесь, самообразование - это, конечно, круто, но как понять, как исправить ошибку в дизайне плаката, к примеру, если ты чувствуешь что не так, но не знаешь как правильно? Дизайн - это, всё-таки не рисунок, здесь нужно следовать общемировым тенденциям, а не изобретать велосипед. \\nТак что если хотите 15к в месяц первые полгода-год и вообще вам плевать где учиться, да и вообще вам плевать куда идти - то вперёд. А если нет, то выберите лучше СПбГУ. Была там, знаю, что лучше.', '\\n\\n\\nНе согласна с большей частью отзывов на этом сайте.\\n\\nОдним из главных достоинств обучения здесь - меньше пар, чем в остальных вузах. Связано с тем, что все понимают, что проще не проводить +100500 лекций, а дать понять информацию самому. ВУЗ дает достаточно доступа к информации (электронные курсы, библиотеки), чтоб не нуждаться в обязательном посещении лекций. Так же используются европейский формат - проекты, который так же гораздо интереснее, чем обычные занятия.\\nТак же я считаю, что в универах не должны вдалбливать в голову уроки, как в школе, а давать возможность учиться самому и с этим вуз справляется отлично.\\nОчень много внеучебной активности с возможностью повысить степуху до 30к. Спорт, творчество, олимпиады и наука.\\nПо оснащению лабораторий не могу придраться. Хотя лабораторных по органической химии у нас, к сожалению, не было, но это скорее вина преподавательницы.\\n\\nВ целом, обучение мне нравится. Нет тупого разжовывания понятных вещей, нет сюсюкания и коррупции. Есть возможности и их очень много', '\\n\\n\\nВ прошлом кафедры упразднили, поэтому напишу о кафедре в составе фака. Потому что с точки зрения управления ничто не изменилось. Учебный и научный процесс можно оценить неудовлетворительно. Есть международный центр и лаборатория, но как и всюду в ИТМО для красоты, реальной деятельности, кроме распила госденег - нет. Из год в год висят одни и те же вакансии.. стоит задуматься, почему первый неклассический не может найти преподавателей. Просто. Требования по вакансиям сильно завышены по сравнению с другими ВУЗами, зарплата непомерно выше и не соответствует заявленной в рекламе. Многие по наивности переходят на полставки, но нагрузка только растет. Это забавно, когда кандидаты наук получают по 16 тр, при этом от них просят писать пачками статьи, участвовать в культурно-массовых и спортивных мероприятиях, проходить повышение квалификации. Причем пройденные в других местах не считаются, а в статьях афилиация только ИТМО. На каф: в течение долгих лет идет (или стоит) пресловутый ремонт, после к. ждется манна небесная - будет место для науки и практики и лабораторок студентам. Ой-ли. Да и на этих скудных территориях. Иностранные приглашенные профессора появляются раз в год с однодневным визитом. Около завкаф вьется приближенный, настолько близкий к ней мужчина, что бюджет пилится вместе, какие-то странные люди появляются на ставках преподавателей, которые либо просто толком ничего не ведут, либо получают деньги и ничего не ведут, выполняя секретарские работы при королеве. А их нагрузка валится на остальных. Забавно, но из нагрузки исключили НИР, ну да - в свободное время занимаешься практикой со студентами. Рабочие программы очень забавны, встречаются куски из программ посторонних дисциплин - лепили в спешке. Не радуйтесь, если вас позвали или вы прошли конкурс, вы будет отдуваться за всю эту вакханалию. Не радуйтесь поступить в аспирантуру или докторантуру - 1. с большой долей вас завалят конкурирующие кафедры, в частности ХБК. 2. считается, что советы по защите собирает сам защищающийся)))) 3. руководитель вряд ли вобще вами будет заниматься - здесь никому ничего не надо. Верхушке деньги, а остальным уже ничего. 4. научная сущность проектов кафедральных слаба.\\nИТМО - это модная система распила госбюджета прикормленными.', '\\n\\n\\nЗа 6 лет обучения(бакалавриат+магистратура) слышала от людей разные отзывы об обучении. Спустя год после выпуска одна моя знакомая заявила, что университет ИТМО вообще ей ничего не дал, ничего в ней не оставил. \\nА я вот считаю, что школа - впихивает знания. А университет - дает возможность получить знания. И то, как тебя научили - это по большей части твоя заслуга, а не заслуга преподавателей(хотя о них тоже есть что рассказать, но позже).\\n\\nПервые 4 года я отучилась на ВТ(09.03.01/04). Это было очень тяжело, вот прям очень. Мы приходили в университет в 6 утра, чтобы смочь показать лабораторную в 12 дня. Написанную мной программу легко ломали и уже в 12:05 я уступала место следующему одногруппнику, а сама искала причину поломки. Мы мало спали, но только потому, что откладывали всё на последний момент. Нас морально ломали. Мы действительно сдавали одну лабораторную весь семестр, когда их было 3, поэтому оставшиеся две сдавали уже в сессию. \\n\\nНо! В программировании всё так и устроено: ты скажешь на работе, что сделаешь задание за 4 часа. Всё это время ты усердно пишешь код и вот модуль готов, осталось только его протестировать. А он не работает. Ты исправляешь ошибку, а он снова не работает. Ты проходишь этот круг снова и снова, пока на форуме 2008 года не находишь тему, где именно твой случай разбирается как \"исключение из правил\". И вот, наконец, твой модуль готов. Но не через 4 часа, которые ты заложил, а через неделю терзаний. Поэтому в данном случае в университете действительно учат практике, а не теории.\\n\\nВторой, действительно позитивный для меня аспект - это внеучебная деятельность. В ИТМО она на высоте. Для всего есть свой клуб, даже для любителей покера. А университет готов выделять деньги для развития этих клубов. Например, у клуба настольных игр больше 40 настолок, которые они купили за счет универа. А ещё у ИТМО есть своя база отдыха - Ягодное. Вот там просто великолепно - атмосфера невероятной свободы. Очень желаю вам это прочувствовать на себе.\\n\\nНу и по мелочи - именно на моей программе сейчас отремонтировали аудитории, там свежо и красиво, в университете есть коворкинги, где приятно сидеть и делать те же лабораторные, у нас нет заморочек с административной частью - заказать справку об обучении, посмотреть расписание и подать заявку на повышенную стипендию можно онлайн. Раньше и еду в столовке можно было онлайн заказать, но это пока отключили. Вообще очень заметно, как университет трансформируется, становится лучше. Особенно на фоне друзей из других питерских вузов.\\n\\nПро преподавателей, как и было обещано в начале: мне встретилось удивительно маленькое количество дедов (примерно - один), и ноль неадекватных дедов, хотя я и понимаю, каково это. Были тяжелые и требовательные преподы, особенно плохо было с лабораторными по физике. А были и молодые, дерзкие преподы, с которыми после окончания семестра мы ходили в бар, потому что они интересные и открытые. Особенно понравились преподаватели с магистратуры - я училась на мультимедиа и дизайне(09.04.04). Возможно от того, что мы постарше, к нам относились \"на равных\" и не было этого вымученного превосходства в глазах преподов.\\n\\nКороче, это нормально, что будет сложно. Вспомните, как в школе вам давались математические операции(а лучше - посмотрите как сложно младшему брату или сестре). Потому что всё новое - сложно. Но если вам что-то сложно, значит мозг работает и зарабатывает себе новые знания. И вы будете лучше каждый раз, когда не сдаетесь в тяжелые моменты.', '\\n\\n\\nКак я поступил/а на робототехнику\\nИзначально хотел/а именно в ИТМО и именно на робототехнику. Поступил/а. Если вы думаете, что вас будут учить её с нуля, то нет. Много математики и один предмет ВПД, где собственно вы и будете заниматься роботами. Разбивают на группы по 4-5 человек, один, среди которых раньше занимался робототехникой и успешно делает лабы всем, и остальные, которые невдупленно сидят. Вам просто дадут методичку и отправят в свободное плавание, но тогда для чего нужен вуз? Видимо, точно для того чтобы учить. Единственный плюс этого направления лекции, которые ведёт П******** А.А. Понятно (не всегда) и интересно. Итог такой, занимались на практике роботами - ваш вариант, ничего в них не смыслите и думаете вас научат - выбирайте другое направление или университет.\\n\\nОбщежитие\\nТаракашки бывают, как и проблемные, не убирающиеся соседи.\\n\\nНемного про сам университет\\nХорошая зазывающая компания: \"неклассический\", \"европейский\" и с \"хорошим\" ремонтом. Красивый он только на Ломо и в коворкингах (действительно классные). Но есть и Кронва, Биржа и корпус на Гривцова (вот там плачевно).\\n\\n100 бальная система, обычно 60 набираете лабами, 20 на экзамене. Удачи с практиками. Ведь может попаться С******* М.М. (ПЛАМЕННЫЙ ПРИВЕТ) чье равнодушие и ваше непонимание погубят все желание учиться.\\nИТМО акцентирует на том, что можно самим выбрать время и практика, однако лажи с выбором: вы выберите одного, а вам все равно поставят другого и, конечно, пересечение предметов. Где же тут выбор? \"Выбирай ИТМО и не выбирай совсем\".\\nГлавный плюс ИТМО, к сожалению, не качество образования, а коллектив, мероприятия - сами студенты, но не как не ВУЗ.\\n', '\\n\\n\\n\\tПроучился в вузе 6 лет, закончил бакалавриат и магистратуру. Был сильно удивлён, когда знакомый абитуриент рассказывал, как в вузе все плохо, прислав в подтверждение ссылку на эту страницу.\\n\\tУчился на ПИиКТ (бывшее КТиУ). На первом и втором курсе, как и во многих вузах, была куча общеобразовательных предметов а ля матан, физика и тд. Сразу были курсы по программированию на шарпах, джавке и тд. Негодование вызывало преподавание гуманитарных предметов типа истории, риторики и тд. Нужно было строчить бесполезные рефераты и записывать лекции, хотя и по информатике встречались околобесполезные лабы в виде написать макросы для экселя. На третьем и четвертом было достаточно сильное углубление в специальность. Удалось потыкать множество языков программирования: Asm, C/C++, Java, Python. Была даже экзотика в виде Haskell (но это по желанию) и написания мини игры на языке программирования OpenGL для видеокарт. преподавались на неплохом уровне БД, были даже NoSQL решения. После того, как на собеседовании сказал, что поднимал кластер оракла, больше про БД вопросы не задавали))\\n\\tТеперь немного про преподавание. В основном есть набор лаб, которые надо было сделать. На лекции можно особо не ходить, если сдавать лабы в срок, то вопросов не будет. (Опять таки зависит от препода. Встречаются экземпляры, которые отмечали посещение лекций в магистратуре, что приносило дикое полыхание пятой точки). Для сдачи лабы на отлично приходилось дико копать в гугле различную инфу, как это сделать. На лекциях тупо все не успеют рассказать за определенное время. Чтоб учиться на тройки, вообще особо парится не надо, сдал в конце семестра лабы, ответив на половину вопросов, и получил свой зачет/трояк за семестр. (чем и успешно пользовался мой сосед по общаге, проиграв весь универ в дотан).\\n\\tЕстественно, есть и негатив. Главная общага вуза – вязьма, которая расположена рядом с универом, имеет весьма ограниченное количество мест. Другие общаги либо дорогие (селят в общагу от лесопилки, где плата в месяц 5300), либо далеко от универа, либо и то и то вместе взятое.\\n\\tЛично я своим образованием доволен. После четвертого курса успешно устроился на неплохую работу, в маге спокойно совмещал ее с учебой, получив по итогу красный диплом. Большинство преподов относятся с пониманием, зная, что размер повышенной стипухи (за отличную учебу – 3200 (!)). Ясен фиг, что на такую никак не прожить. Если не валять баклуши, можно получить неплохой набор скиллов. Если сдавать лабы на отвали - естественно выйдешь с нулевыми знаниями или вообще отчислят нафиг. Так что если есть настоящее желание получить знания – поступать стоит, если нет, то вероятно стоит выбрать вуз полегче, т.к. ничего не делать вообще – не получится.\\n', '\\n\\n\\nПривет, дорогой абитуриент, я надеюсь что мой рассказ  об университете, в котором я имею честь учиться будет для тебя интересным и полезным. Возможно это поможет тебе определиться с тем, надо ли оно тебе и по зубам ли тебе учеба в ИТМО. Я не буду советовать стоит или нет поступать сюда. Я просто расскажу о том, что тут происходит и добавлю немного своих мыслей на этот счёт. Ну что-ж, приступим.\\nТеплым летним днём тебе приходит письмо, что ты зачислен в университет. В некотором смысле это ощущалось как письмо из хогвартса. У нас, почти всех, кто учится на потоке сразу же нашли адаптеры и добавили в чат потока в ВК. Стоит отметить, что большинство студентов не из Санкт-петербурга. В беседе также были несколько человек со старших курсов. Я поступил на Мегафакультет Компьютерных технологий и управления, факультет программной инженерии и компьютерной техники, направление ИВТ.\\nЭти студенты конечно же охотно рассказывали нам об университете, что учиться сложно, что куча долгов и допсессия наше все. Ещё можно про них сказать, что мне, выпускнику гуманитарной гимназии, который по невероятному стечению обстоятельств оказался тут, они показались довольно гиковыми. Говорят кучу непонятных слов и каких-то своих программистских приколов. Но вот, дождались, наступил сентябрь и мы пошли на шикарное мероприятие Itmo.go, получили свои студаки и познакомились.\\nДекан факультета огласил свою речь, которая состояла из того, что нас всех отчислят и мол, здравствуйте.\\nНачалась учеба. Мне, вчерашнему школьнику было довольно таки сложно свыкнуться с тем, как устроено получение образования в первом неклассическом. Страх всех студентов-лабораторные работы, которые надо не просто сделать, а ещё и защищать. Каждая лаба выглядит примерно вот так:\\nПолучаешь вариант, и открываешь его на сайте se.ifmo.ru . Не поняв ни сути работы, ни того, что вообще от тебя хотят идешь учить теорию, смотреть готовые лабы на пиклауде и с горем пополам, посидев несколько часов всё-таки выполняешь эту работу(в некоторых случаях приходится потратить несколько дней). Потом идёт защита, где ты сначала сдаешь выполнение, а потом отвечаешь на вопросы по теории. Это по сути и есть практические занятия по профильным предметам вроде программирования, ОПД и информатики. Две пары просто сидишь и ждёшь очередь, потом защищаешься. Тут не будет доброго дяди-препода, который научит тебя программировать. Тут будет дядя препод, который будет от тебя требовать знания и навыки. Если говорить про лекции, то рассказывают интересно и реально пытаются чему-то научить, подготовить специалиста. За посещаемостью не следят от слова совсем. Вообще, программа идёт с бешеной скоростью и чтобы закрываться без долгов, надо всегда помнить о лабах и своевременно их сдавать. Рубежные контрольные работы в целом не сложные и если ты сам учишься и стараешься, они покажутся не сложными. В течение семестра начинаешь понимать, что на самом деле ты впитал уже огромное количество информации, что научился чему-то новому. Начинаешь замечать за собой, что интересный и хороший досуг-чтение хабра. Практически на одном дыхании семестр уже подходит к концу. Декабрь. У тебя остаётся море долгов, а времени не так много. Включается режим работы настоящего программиста. Начинаешь замечать, что ответственная часть потока почти всю ночь в онлайне, что то учат, совещаются. Под глазами появляются синяки. Состояние несколько помятое. Ходишь на допы и сдаешь лабы. Также в течение семестра у тебя множество ответственностей, например онлайн курсы и тесты в цдо. В конце концов, попадаешь на сессию, где все зачёты и половина экзаменов стоит автоматом. Остатки досдаешь и по сути свободен.\\nЕсли в целом говорить об университете, то он вполне себе клёвый. Шикарная столовая, хорошие, молодые преподаватели, которые стремятся интересно рассказать о своём предмете. И самое главное-студенты. На первый взгляд ребята невзрачные. Они выглядят довольно странно, как типичные отличники из твоей школы. Исключительно адекватные и воспитанные люди. Я бы даже сказал-интеллигенты. Тут ты гарантированно найдешь себе друзей, которым будет интересно то же что и тебе. Сами учебные корпусы.. да вполне себе хорошие. Где-то ремонт прям очень свежий и корпус выглядит как типичный студенческий кампус где-нибудь в США, но где-то есть и вполне опрятный советский ремонт)\\nЕсли говорить конкретно про мою специальнось, то можно сказать что это боль. Тут уровень того, сколько с тебя будут спрашивать-максимальный в ИТМО. Где то в середине семестра, глядя на студентов других факультетов и направлений, появляется чувство того, что ты гораздо больше знаешь и умеешь, а они как будто до сих пор подтирают жопу лопухами. И это действительно так. Все преподаватели и студенты знают-кафедра Вт это жёстко. \\nРади чего все это?\\nНу например я, закончив первый курс, при условии что учился сам вполне себе овладею профессией на уровне достаточном, чтобы пойти работать по специальности джуном тысяч за 30 в  месяц. Мне кажется это вполне неплохой показателя особенно если сравнивать с другими вузами и специальностями. ', '\\n\\n\\nЯ заканчиваю 4-ый курс факультета прикладной оптики в ИТМО. Поступал в далёком 2016 с физикой, но особого представления о том, что и где выбирать, не было, поэтому после долгих сёрфов различных сайтов университетов выбор пал на ИТМО. За эти 4 года пожалел ли я? Думаю, что нет. Во-первых, что меня сразу поразило, это подход к новоиспечённым студентам. У каждой группы был свой адаптер из числа старшекурсников, который добровольно с огромным удовольствием проводил с нами большое количество времени, чтобы все смогли подружиться, влиться в жизнь ИТМО. Во-вторых, сам учебный процесс тоже увлекал прям с сентября, а для меня, как человеку, приехавшему из провинции, всё казалось ещё лучше. Преподаватели постоянно добивались полного понимания от группы, но только не постоянным контрольными и прочим, а подробным объяснением тем, дополнительными занятиями. Только ленивые (а их уже отчислили, кстати) не осваивали матан или физику. К старшим курсам количество практических занятий только увеличивалось, вместе с лабораторными. Получилось так, что мы практически всё стали делать на оборудовании. Устаёшь, конечно, но навык отличный. Практики устраивал сам университет, причём даже давая выбор, поэтому получилось попробовать себя в космической отрасли. В общем, понимание того, что такое вообще оптика, куда её можно применять и как развивать, появилось почти сразу, и вот к диплому ты уже начинаешь делать что-то для этой науки действительно стоящее. Часто слышу, что мол вводят в вашем универе что-то новое, постоянно меняют, а для меня, как для студента, это важно, когда я могу видеть стоящий результат преобразований в современный вуз, в котором прислушиваются к тому, что хотят студенты, организовывают клубы и прочее, поэтому тут стоит определиться: стремительное развитие или же остаться в застойном состоянии. Я как-то за первое.', '\\n\\n\\nДобрый день всем, \\nЯ попытаюсь донести идею бывшей кафедры ВТ, ныне (ПИ СППО) или (ИВТ). \\n\\nДва года назад я был абитуром и скитался по интернету в поисках отзывов об университетах. Особого выбора у меня не было, так как с ЕГЭ у меня не задалось. Но у меня была перечневая олимпиада, которую с радостью принимал ИТМО за БВИ. И это было лучшее место, куда я мог поступить на тот момент. Я начал узнавать у студентов и читать отзывы об университете. Отзывы были не очень, но я решил рискнуть..\\n\\nВ общем и целом, я могу сказать что все хорошо.\\nЯ могу сказать, что у меня не было времени на первом курсе посещать мероприятия от ИТМО. Это к тому, что многие тут пишут о том, что им разрешают скатывать КР, писать курсовые всей группой и тому подобное. Ничего подобного именно на ВТ нет. Это было правда очень трудное время и за ним я шел. Было очень трудно закрыть первый семестр, а второй был еще труднее. Большие объемы материала по программированию, юниксу и эвм. Физика - я вообще промолчу. В этом году уже прошла некоторая коррекция этого курса. Но то что творилось с физикой в мой год - нечто). Многие ребята не знаю формулы силы Архимеда, а на первой паре им выводили формулу инертности для сферы. А на экзамене не было билетов. Нужно было рассказывать все что мы проходили)) Чтобы вы понимали я сдавал экзамен два дня; в первый часов 8 и во второй около 6. При том что я олимпиадник по физике.  И, конечно, многие из-за этого числанулись. \\n\\nЕсть очень много несправедливости из-за которой ты становишься взрослее и именно она мне кажется готовит нас к реально жизни. Лектор потерял лист с работой ? - идешь на пересдачу и можешь получить только минимальный балл. И это нормально.\\n\\nОтзыв получился сумбурным, \\n\\nНо по итогу я могу сказать что это нормальное место. Оно, возможно не стоит того, чтобы мечтать сюда поступить. Возможно, тут неоправданно-высокие баллы. Но обучение именно на ВТ имеет и держит уровень и нагрузку. (У меня в общежитии были студенты с других направлений и я могу подтвердить то, что у них легче. Они часто гуляли и жаловались на то что учатся в скучном месте. Когда я чуть ли не плакал от того, что не могу понять фильтры в юниксе и мне завтра конец; а еще физика... и рубежка скоро)\\n\\nА еще сейчас я могу сказать что меня выучили как программиста. У меня были лекции, на которых мало что понятно. И у меня были практики, на которых с тебя спрашивают каждый раз как на собеседовании. Если бы мне давали все на ложечке  - у меня не было такого уровня. Все преподы параллельно работают в серьезных компаниях и знают все современные направления разработки. Они намекают, а ты идешь ботать это) ', '\\n\\n\\nПоступил я в этот \"прекрасный\" ВУЗ в 2018 году на специальность \"Мехатроника и робототехника\". Первый год прошел более-менее - у нас был классный препод по дисциплине \"Введение в профессиональную деятельность\", сидели, учились и вроде бы всё в порядке. Но с середины второго курса уже начали закрадываться сомнения. Предметы стали самоповторяться с прошлых семестров. Мы уже перестали видеть разницы между дисциплинами, потому что всё, что мы делали, так это считали матрицы. Например, метод Ляпунова мы учили три раза на трех разных предметах. А зачем он нужен, если в ВУЗе нет никакой практики? Мы учим теорию непонятно для чего, без практики это всё быстро забывается. Кстати, насчет практики я абсолютно не шучу, у вас даже производственной практики не будет, которая должна быть на 4 курсе. Вместо неё вы будете просто писать диплом и отчетами по практике будут части вашего диплома. Конечно, это является большим плюсом для людей, которые уже забили на данное учебное заведение с третьего курса и сами развиваются, учатся. Но просто какие же слова были на страницы ВУЗа: \"Вы пройдете практику в лучших предприятиях и найдете работу\". На деле, естественно, ничего нет. \\n\\nПлюс этого заведения - хорошие студенты. Здесь достаточно высокий проходной балл, поэтому, кхм, весьма одаренные люди сюда не поступят. Я здесь нашел хороших и умных друзей, которые подталкивают меня развиваться, чему я рад и благодарен им. Еще в ИТМО, вроде как, хорошо развиты \"социальные\" взаимодействия. Ну, например, студенты организуют клубы, постоянно что-то происходит, загородом есть поселок \"Ягодное\", где студенты могут отдохнуть и т. п. Это, естественно, хорошо, но я ожидал от ВЫСШЕГО УЧЕБНОГО УЧРЕЖДЕНИЯ, собственно, учебы. Или может я просто поступил в ВУЗ с неправильными мыслями? Ах, ну и под конец - учеба именно на нашем направлении достаточно легкая, ходи да сдавай лабы, тройку точно наскребешь, а при должной харизме можно и на отлично закрыться. Жаль только, что радости от этого никакой нет. Не чувствуется победы, что ты узнал что-то супер крутое и полезное, а стипендия для отличников жалкие 4100 рублей. \\n\\nК несчастью, больше плюсов выделить не получится. Образование пустое, дисциплины бесполезные. С преподавателями все не так однозначно. Было пару человек, которые вели интересно, но в основном преподы просто читают своим монотонным голосом лекции.\\n\\nОх, еще информация для пацанов. Если вы захотите поступить на военную кафедру, как я, то знайте ЧТОБЫ ЕЁ ЗАКОНЧИТЬ, ВЫ ОБЯЗАНЫ ЕЩЕ ЗАКОНЧИТЬ МАГИСТРАТУРУ. В нормальных ВУЗах вы заканчиваете военную кафедру в конце бакалавра. Но вы всё таки собираетесь учиться в первом неклассическом, забыли? Военка начинается на 3 курсе и длится 2.5 года. В последнем семестре у вас военки не будет под предлогом написания диплома. Вот и получается, что в магистратуре вам надо будет еще полтора года отучиться. Здорово они придумали, я даже сначала не понял. Ну и естественно вы должны поступить в магу именно ИТМО. Похоже, с магистрантами тут дела плохи, вот они и придумали как заставить людей сюда поступать. Таким образом мне тоже придется идти сюда в магистратуру, но очень надеюсь, что смогу сменить направление, потому что еще 2 года вариться в этом - полный п***ец.\\n\\nСлив написал на эмоциях, поэтому толком не разграничил темы, а строчил все свои мысли подряд. Ну что хочется сказать под конец? Потратил 4 года впустую. Если многие считают, что это \"топовый\" ВУЗ, мне даже страшно представить, что творится в других. Образование плохое, перспектив нет. Тем не менее, есть некоторые плюсы - мои друзья, которыми я стараюсь дорожить. И пусть 4 года потрачены зря, но я верю, что дальше будет лучше. Если ты абитуриент, то думай тщательно, куда ты хочешь поступить и кем хочешь стать. А если не повезло, как и мне, то не расстраивайся! Первый блин часто бывает комом :). Всем удачи!', '\\n\\n\\nРаботаю в ИТМО с 2007 года. Любопытно как меняются отзывы о ВУЗе с 2014-го по 2019-й. Могу сказать, что это так и есть - программа Топ 5 в 100 с этим вузом сыграла злую шутку. Чуть менее, чем все кабинеты и офисы на Кронверском заполонили мальчики и девочки - менеджеры и \"управленцы\". Им платят зарплату, они помогают протаскивать университет в рейтинги, при этом мало что понимая вообще в чём либо, и уж тем более - в устройстве университета, образовательного процесса и науки. \\n\\nА ещё в ИТМО извели математику - от слова \"совсем\". Сейчас пытаются возродить, получается плохо. Всё крутится не вокруг действительно научного поиска, а вокруг рейтингов и показателей - поэтому учёных (и своих и зарубежных) обманывают, \"кидают\" на деньги и относятся как к скоту по принципу \"других наберем\". Эта же причина (надувание хирша и публикаций) лежит в основе фальсификации результатов и прямой фабрикации результатов экспериментов в некоторых подразделениях (упоминавшихся уже тут). Как следствие всего этого - действительно учёные, хорошие преподаватели, да и просто думающие молодые люди бегут из ИТМО, роняя тапки. Грустно наблюдать, как хорошие ученые, преподаватели, деканы теряют уважение к себе и, засунув язык в (_*_), пресмыкаются даже не перед ректором, а перед прикормленными его девочками и любимым первым проректором. \\n\\nКоллеги! Когда вы успели потерять достоинство и самоуважение? Вы же в университете работаете! Или вы настолько боитесь потерять свои места? Университет – это не ректор с советницей из отдела стратегических сношений и проректоршей, а вы, студенты и наука!\\nСижу как-то раз (кажется в 2016 или 2017 году) на координационном совете после защит проектов.  Решаем у кого деньги отнять, у кого урезать, кому прибавить. Сестрёнка проректорши и говорит «Да разве можно его (заслуженного профессора, известного и в стране и за рубежом оптика) выпускать с такими докладами и слайдами на конференции? Он же позорит вуз!». Ни слова не поняв из его доклада в силу ущербности, она смеет рассуждать о науке и продолженииуничтожении работ и лабораторий!\\n\\n\\nПо поводу учебного процесса желающим поступить в ИТМО могу сказать следующее. Начиная с бакалавриата  вы будете изучать не матан, дифуры, мат. физику, геометрию и топологию, теорвер и мат. стат, мат.логику, алгебру и теорию чисел, вычислительную математику, дискретную математику и математическую кибернетику, разделы физики, а «введение в цифровую культуру», «анализ данных», «нейронные сети», «машинное обучение», «инновационная экономика и технологическое предпринимательство», «базы данных», «креативные технологии», «психология предпринимательства», «эффективное лидерство, управление конфликтом и командообразование», «Техники публичных выступлений, переговоров, презентаций.  Деловая коммуникация», «Личная эффективность и управление временем» (!!!научитесь временем управлять!), «Критическое мышление и навыки обучения», «Социальный и эмоциональный интеллект», «Креативное мышление и командная креативность», «Сторителлинг», «Организация массовых мероприятий» и пр. А знаете, откуда вылез весь этот шлак под дурно пахнущей обёрткой Soft skills? А просто эти мальчики и девочки, которых ректор откуда-то понабрал, больше ничего не знают и не умеют. Ничего не умеют! И читают то, что знают, чтобы сохранится подольше у бюджетного корыта.\\n\\n\\nСейчас проходит МЭС. Будут решать, сколько какому ВУЗу дать денег на продолжение программы Топ 5 в 100. И лучшее, что может сделать учредитель в лице Министерства науки и высшего образования, это перевести ИТМО в третью группу по финансированию из программы. Тогда мгновенно отвалятся паразиты от администрации и управления, а также фабрики статей и липовых экспериментов и результатов внутри ИТМО. И появится надежда, что лет эдак через 10 ВУЗ снова станет местом, где хорошо учат и где получают научные результаты, за которые не стыдно.\\n\\n\\nАбитуриенты и их родители должны отдавать себе отчёт, что ИТМО уже давно не университет, а холдинг, объединение «корпораций-мегафакультетов», «компаний-факультетов» и «фирмочек-международных лабораторий», целью которого является не обучение и наука, а выгребание бюджета посредством надувания собственного вяличия в рейтингах.', '\\n\\n\\nЕсть в ИТМО такое замечательное место, как лаборатория SCAMT, с недавнего момента ставшая аж международным институтом. Моментом этим стало обрушения корпуса, который лишил кузницу великих химиков половины площадей и уничтожило целую лабораторию (что не помешало нарастить количество выпущенных статей). Тот факт, что обрушения ждали все, конечно же тщательно умалчивался (ну не могло не упасть с учетом того, что таджики долбали день и ночь на протяжении года так, что тряслись стены). Да ну речь не об этом. Последнее время SCAMT стал прямо Меккой химии не только ИТМО, но и чуть ли не всей страны. Учёные выступают у Гоблина, на Первой канале, на всех питерских региональных, на радио, ролики с их открытиями публикуют на ютуб, а недавно они еще и выиграли мегагрант, о чем написали все газеты. Я думаю, что не надо еще более долгих прелюдий, чтобы понять, что в главном мегаинституте страны мегагранты пилят мегананопилами. Т.е. вроде огромные бюджетные деньги просто воруют, но делают это под прикрытием уже опостылевших нанотехнологий. Конечно же, главные химики всего SCAMt (который именует себя в простонародье \"кластер\"), братья В., никакими химиками не являются. Об этом даже недавно академик Хохлов заявил на фоне скандала, когда ИТМО захотел отобрать у Института химии силикатов помещение в самом центре города на Стрелке (чтобы и его обрушить, наверное). Чтобы подтвердить сказанное, достаточно ознакомиться или с диссертацией непосредственно В.В.В., или с его списком последних работ. Развитие науки неумалимо, и в последние несколько лет оно особенно быстро развивается в области нанотехнологий, во многом достигнув апогея. В таких условиях можно продолжать совершенствоваться, только если быть асом в методах синтеза и химии в общем. Мы же видим, что год от года качество статей все падает, и среди полностью химических статей постоянно попадаются какие-то чисто биологические, в которых В.В.В. числится только для того, чтобы у руководителя кластера рос Хирш. В диссертацию же включены работы, которые были сделаны 10 лет назад или около того, в бытность В.В.В. аспирантом, и результаты эти, видимо, принадлежат его предыдущему научному руководителю, а не ему самому. Точно такие же \"мафиозные\" методы цветут и во всем остальном кластере. Все студенты обязаны приносить подати дону В.В. как в виде откатов с зарплат, которые выводят незаконно через всех сотрудников кластера, так и в виде статей. Отсюда и рост числа низкосортных, по смыслу бредовых публикаций, которые существуют только для того, чтобы существовать. Стоит ли говорить, что атмосфера в кластере от этого крайне недружелюбная. Найти человека, который бы не желал всех казней египетских руководству кластера просто нельзя. Несчастные магистры (которые составляют основу рабской силы), трудятся в поте лица без выходных день и ночь по доброй воле, потому что иначе будут получать разносы от своих руководителей или от В.В. лично. Да, да, помимо братьев В. в кластере есть еще несколько научных групп, которые имеют каждая своего князька, который формально подчиняется братьям, но в рамках своей группы чинит такой же мелкий разбой. Относительно свободно дышат только те, у кого руководители находятся в других городах (а есть и такие). Остальным же приходится выбирать: с голой жопой на мороз или терпеть, стиснув зубы. А на мороз они попадут потому, что почти 90% магистров в SCAMT - иногородние, которые еще и живут в добро предоставленной SCAMT общаге. Разошелся взглядами с руководством - остался и без универа, и без денег, и без жилья. Такое вот тройное рабство. Хотя \"деньгами\" то, что там платят, назвать тяжело. Если вы вошли в колею распила, и умело фальсифицируете графики и фотошопите картинки, то можете поучаствовать в многочисленных внутренних конкурсах и грантах, получая за полноценный рабочий день при отсутствии записи в трудовой книжке 30к рублей с вычетом налогов. Обычная же ставка для обычного магистра 6к в месяц. Нарушения техники безопасности на рабочем месте это уже даже не нарушение на фоне всего остального. Огромные баллоны со всеми возможными газами раскиданы по всему кластеру вопреки всем правилам, опасные химикаты прячутся под столами и за шкафами, лишь бы не вносить их в списки наркоконтроля. Уж что говорить про то, что люди работают в аварийном, наполовину разрушенном здании, где за стенкой дыра в пять этажей. В общем, уважаемые абитуриенты, если вы надеетесь, что вы сможете пережить то, что там твориться ради возможности поработать над каким-нибудь проектом или уехать в стажировку (по приезду из которой вас будут нещадно драть с требованием результатов), то даже не пытайтесь. Многие до вас сдавались уже через пару месяцев.', '\\n\\n\\nДаже не знаю что нового рассказывать об университете ИТМО. Те отзывы которые вы читали до этого - все правда. Ни слова больше. Все ситуации с преподавателями с нереально большой нагрузкой, кафедрой с ч(м)удацким отношением к студентам - это все правда. На данный момент обучаюсь в унивеоситете и боюсь, писать негативный отзыв, скажу что на контрасте с бакалавриатом в другом ВУЗе такой расплывчатости и уровня пофигизма я ещё пока не видел. Вуз пиарится на студентах которые делают что-то для него, остальным же в порядке вещей сказать \"не нравится - уходите\" \"а че вы вообще пришли?\" \"Ничего не сможем сделать попробуйте обратиться в *название кабинета в другом корпусе итмо где работает тетя срака толькл по средам с 11:00 до 11:05*\" \"мы сами не знаем когда и что нужно сдавать\" конечно все утрировано но суть, посыл, и интонация с которой вы прочитали это у себя в голове абсолютно верны.\\nНемного об ису - система мусорка куда сваливают всю нужную и ненужную инфу. НИКОГДА НЕ УКАЗЫВАЙТЕ СВОЮ РАБОЧУЮ ПОЧТУ!! Вся нужная и ненужная инфа будет приходить туда.\\nНемного об организации - в начале семестра вам покажут лучшие аудитории, лучший корпус итмо на ломоносова, но учиться вы будете на кронверском здании которое внутри похоже на подвал или школу из 90-х. На ломоносова тоже 1/3 корпуса сделана хорошо, новый ремонт и тд а чуть свернешь и понеслась - деревянная плитка, пережившая войну.\\nОб образовании - коротко говоря, кто знания ищет, тот знания найдет. Но цифровая культура в онлайне (в которой от цифровой культуры одно название) это бред полнейший. Препода по профильным дисциплинам так плевали на вашу мотивацию и знания, что можно захлебнуться. Никогда не похвалят, постоянно критика и отчетики,отчеты,отчетейстеры ведь по попе надают если не сдать.\\nНОООООО\\nЕсть хорошие моменты\\nВыборность дисциплин - хорошее решение, удобно\\nПреподаватели непрофильных предметов - эталон преподавания.\\nНу и все\\nИтмо вы растите инженеров или невротиков, хватит вести себя как скряги, сделайте один раз нормальную систему документооборота, ису, расписание, почтовую рассылку, решите вопрос с преподавателями и их зп чтобы они не вымещали свою злость и пофигизм на студентах аля \"как мне платят так и работаю\", прекратите использовать студентов как пиар инструмент и все станет как в обычной более менее шараге, в которой не стыдно сказать, что ты там учишься. До уровня университета это точно не дотянет.\\n', '\\n\\n\\nПоступал на факультет ИКТ я в 2020 году, сразу удивил сайт приемной компании ИТМО (не надо было сканировать заполненные бланки и т.п., все делалось одним кликом!). Перед поступлением советовался со студентами этого факультета (с разных направлений), в среднем, студенты отзывались положительно, говорили что учиться тут очень легко, времени хватает на тусовки/работу/что угодно. Спойлер: это не так.\\n\\nВ первом семестре самыми сложными предметами оказались программирование и информатика. Думаете, что если в школе хорошо знали информатику, то сможете тут хорошо учиться? Нет, высокие баллы по этим предметам имели лишь ребята, которые серьезно занимались программированием с 8-9 класса, остальные довольствовались тройками. Преподаватель С*** Д.С. давал достаточно интересные, но очень сложные работы по Python (Игра \"Жизнь\", свой git, работа с VK API и тд). На информатике всех \"обязали\" поставить Linux, почти все лабы были на bash. Буквально за семестр я получил крутые скиллы, спасибо преподавателям! А еще, параллельно с очными занятиями (2 года) вы обязаны проходить онлайн-курс \"цифровая культура\", который является обязательным, но ответы нагуглить можно на него, так что это не проблема. Физра тут обязательная (кажется, на 2 года), но есть огромный выбор из секций (борьба, шахматы, киберспорт, плаванье и тд). Остальные предметы типа математики, истории и тд преподавались на высоком уровне.\\n\\nВо втором семестре программирование вел тот-же преподаватель, лабы были вида: напишите свой HTTP сервер, свой веб-фреймворк, реализуйте API на fastapi/django и тд. Тут мы впервые узнали, что на факультете ИКТ у всех физика будет идти полтора (!!!) года. Лектор, К*** С.А. отлично объясняет материал, буквально на пальцах. А вот с практиком кому как повезет, часто практики ведут инженеры физического факультета, которые довольно лояльно относятся к студентам. У них можно записаться на сдачу или снятие замеров для лабораторных работ почти в любое время (когда они на работе, разумеется). Требования к студентам зависят от вашего направления обучения (на 11 посложнее, на 9 и 45 сильно попроще). Про философию, математику и остальные предметы подробнее не буду рассказывать, там тоже все ок.\\n\\nЕсли что-то не нравится, всегда можно отписать в чат факультета в телеграмме (там есть декан, администрация факультета), в спорных ситуациях вам всегда помогут. После каждого семестра проходит анонимный опрос по дисциплинам и преподавателям, этот опрос реально работает, администрация анализирует ответы, корректируя программу (упрощая/усложняя и тд), могут даже поменять преподавателя.\\nПосле формирования групп, за каждой закрепляются \"адаптеры\", которые помогают сплотить коллектив, отвечают на любые вопросы студентов и вообще являются крутыми ребятами. \\nЕсть крутые общаги в центре (и не очень) города, имеется куча способов повысить свою стипендию (по слухам, у кого-то она достигает 30 тыс.), куча способов \"отдохнуть\" от учебы (куча клубов. активностей и тд), а если отдыхать от учебы не собираетесь, можете попасть в лабораторию, пройти стажировку в крутой компании или прослушать крутые курсы от партнеров вуза, университет это поощряет. \\n\\nСовет абитуриентам: после ЕГЭ займитесь изучением Python, почитайте немного про Linux. Это поможет не выпадать из реальности ', '\\n\\n\\nЯ - студент-бакалавр 2го курса Робототехники (СУИР)\\nПоступил в 2019 году\\nЖиву дома (поэтому об общежитиях не знаю)\\n\\nЧетно говоря \"писал кипятком\" перед поступлением начитавшись отзывов на этом сайте. Но в реальности, как и всегда, всё оказалось совсем по другому. Я кстати некоторое время тоже негативил на итмо, но потом просёк фишку и сейчас всё отлично.\\n\\n-ПРО ОБРАЗОВАНИЕ:\\nВпринципе образование хорошее, правда надо сразу понимать что ты хочешь получить от итмо, так как на одной и той же специальности можно учиться абсолютно по разному. \\nХочешь быть отличником? Сможешь ходить на консультации, посещать лабаратории и тд. \\nХочешь учиться на троечки и делать свои проекты (как я например)? Проходи онлайн курсы, сдавай минимум лаб и будь свободен. \\nХочешь быть учёным? Сиди в лабораториях которые универ предоставляет, участвуй в олимпиадах и тд, всё это ценится и приветствуется.\\nТоесть посыл в том, что если ты захотел стать учёным или сильным программистом, то нужно не просто по программе учиться, а ещё и участвовать в профессиональных активностях, которые итмо предоставляет в большом количестве и оно доступно для всех, а не только для избранных направлений куда набирают олимпиадников.\\n-НЕКЛАССИЧЕСКОЕ ОБРАЗОВАНИЕ:\\nПрограмма смешанная, тоесть ты проходишь предметы не только по своей специальности. Ты можешь выбрать доп дисциплины из другой специальности и проходить их. Я слышал что в вузах в США такое активно практикуется. Так же добавили софт скиллы (коммуникация и командообразование, техники публичных коммуникаций и т.п.), что, думаю, для хикки, коих тут много, весьма полезно.\\n\\nНо есть свои минусы. Во-первых часы на важные дисциплины (математика, физика и тд) урезали вдвое, забыв при этом урезать материал. И приходится проходить всё голопом по европе. Одновременно с этим ввели софт скиллы, некоторые из которых вызывают вопросы об их необходимости в программе. Хотя тут можно возразить, что ты сам выбираешь путь обучения и если ты хочешь больше хард скилов, больше проги и физики, то ты можешь их получить в лабораториях и в олимпиадах.\\n\\n-ПРО АТМОСФЕРУ\\nТут были отзывы где писали что преподы тираны, что если ты негативно выскажешься об дисциплине в опроснике, то к тебе \"придут\". Какой-то бред. \\nУ нас мощное активное студенческое управление, куча инициатив/негатива/позитива выливается в них в гораздо большем объёме, чем в этих опросниках. У нас есть свои медиа, студ журналы, клубы. Все проблемы во все трубы обсуждаются. Поэтому никакого censorship нет чисто по определению.\\nЕсть некоторые преподы которые любят подушить студентов, что впринципе во всех вузах так. У нашей группы так же было. Но мы от них избавились после первого курса и сейчас учимся с теми, с кем нам нравится, опять же это легко из-за студ управления и отсутствия цензуры. Вылететь из универа достаточно сложно, тебя будут зауши вытягивать, давать тебе консультации, доп экзамены и тд.\\n\\n-ПРО АКТИВНОСТИ:\\nУ нас есть физра по секциям. Тоесть ты ходишь не по расписанию как в школе, а на секции. Волейбол, баскетбол, танцы, теннис и т.д. Выбираешь сам. Правда выбор сильно урезается из-за несовпадений в учебном расписании с временем секции, но тут уж ничего не поделаешь. Поэтому уже второй год я хожу на волейбол :)\\nУ нас ещё есть Ягодное. Это лагерь. Если вы первокурсник то туда надо обязательно ездить, там очень классно.\\nЕщё есть клубы, много разных мероприятий, но про них я мало знаю, так как не участвовал почти нигде.\\nОгромное количество денег вбухивается в обустройство корпусов, поэтому странно видеть отзывы об отсутствии техники, когда почти в каждой аудитории стоит куча компов. Недавно построили 2 коворкинга с бесплатными компами, сделали новую столовую, где можно даже как в маке на стенде самообслуживания заказывать.\\n\\nВывод:\\nВуз классный, главное, как я написал в начале, понимать что ты хочешь от него. Если бы был выбор заново выбрать вуз, то выбрал бы опять итмо. Есть конечно свои перекосы в некоторых местах, но это просто цветочки по сравнению со структурой остальных совковых вузов.\\n\\nЕсли хотите что-то спросить, то мой акк в вк: https://vk.com/andrey_melnikov_2002', '\\n\\n\\nЭтот пост не только, но в основном, для неприякаянных студенческих душ, которые болееют, по-настоящему болеют наукой, классическими фундаментальными ЧЕСТНЫМИ и невероятно прекрасными логичными научными исследованиями. \\n\\nРечь пойдет про биологическое направление, тк именно к нему я имею отношение.\\n\\nНачну с того, что речь пойдет не про то, как сложно найти действительно стоящую программу обучения в России после бакалавриата, если ты хочешь двигаться в научке. Речь пойдет о том, как НЕ попасть в те учреждения, кафедры, чтобы не проспать свои два прекрасных года магистратуры, а то и все три, если речь идет об аспирантуре (господи, не дай бог просрать свою аспирантуру в таких местах). \\n\\nК сожалению, фасадных обучающих учреждений очень много. А факультетов еще больше. За прекрасной картинкой умно выстроенного менеждемента и пиара в 18-25 лет сложно определить, что перед тобой — ВУЗ, который хочет тебя научить и принести жертве науке еще одного прекрасного студента или это недонаучное-недообучающее место, основа которого лежит в постоянных ненаучных грантах, без глубоких фундаментальных знаний и методик, покрывающее этот недостаток супер модными словами типа «НЕКЛАССИЧЕСКИЙ УНИВЕРСИТЕТ» (если вы поняла, о чем я). В 20 лет эти слова как никогда кажутся заманчивыми, ведь мы же самые неклассические модерновые котятки в мире. И всем хочется классных лаб и вообще...ну чтобы как в Европе. \\n\\nВ свои 21 год я-таки попалась на всю эту мишуру, поступила в ИТМО. Не то чтобы я имела что-то против (сейчас после своего опыта) самого ВУЗа. Но, я думаю, многие понимают, что кроме попыток быть на вершине вселенной новыми баннерами, хочется еще крутых преподавателей и знаний. Разговаривала с ребятами из разных фактультетов — знаний, по их словам, хотелось бы побольше, раз уж все такие неклассические. Но это, видимо, про другое…\\n\\nПоступила я в химико-биологический кластер SCAMT (господи боже, слова то какие. КЛАСТЕР! Заметьте не факультет, а кластер!). И как все малыши-карандаши в 20 лет ну ОЧЕНЬ была впечетлена. И новыми лабораториями, и относительно хорошим оснащением (по сравнению с другими-то…и с бакалавриатом, где за автоматический дозатор нужно было продать душу). И всё…знаете…так как в сериалах про крутые школы — все такие сладкие и веселые. Небольшой дисклеймер — к тому моменту я уже имела опыт работы в НИИ, собственно там я и проработала всю свою магистратуру, НИИ меня вырастил, поставил, обул и одел. \\n\\nСтранности начались через пару месяцев после поступления. Во-первых, разношерстный состав учебных групп. На это в КЛАСТЕРЕ делается особый акцент, мол они все за то, что из физика можно сделать биолога за 2 года и наоборот. Из-за этого (хотя думаю, не из-за этого) все лабораторные по биологии, например, были саааамыми примитивными. Типа вот это стол, а это чашка Петри, а теперь радуемся. Абсолютно не ясно, почему в магистратуре биологи должны заниматься этим после 4 лет бакалавриата. У некоторых на тот момент был неплохой бэкграунд работы в разных лабораториях, втч клинических. Других лабораторных уровня экстра (хи-хи) не было. Кроме всего прочего, на факультете есть ряд научников, которые ведут свою группу не из России. Мне посчастливилось быть в такой группе. Скажу честно, сначала мне казалось, что это круто. Научник из Америки! ВАУ! На самом деле, это самый неэффективный вариант работы, такой научный руководитель по факту просто подпись в дипломной работе, постоянных встреч и разборов полетов не было. Огромным обломом оказалось, что кроме специфической темы в молекулярной биологии научник ничем не занимается, а эта тема меня не привлекала и попахивало миллионной одинаковой статьей, как собственно и получилось у тех, кто остался в группе. Молчу про то, что через год работы у многих ребят абсолютно ничего не вышло, приходилось менять тему, всё было не продуктивно, вся работа была построенна на ооочень крохотном наборе методик. \\n\\nПо-моему мнению, магистратура — это место, где студент должен научиться максимальному количеству методик. Этого в кластере вы не найдете. По биологии спектор методик катастрофически мал, из-за чего статьи абсолютно идентичные. Кроме того, нет тех научных руководителей, кто действительно бы шарил в фундаменталке настолько, чтобы ответить на миллион вопросов, роящихся в умах молодых студентов. Это ужасно. Из-за этого был постоянный хаос, студенты не понимали смысла своей работы и не получали новых прктических знаний. Эксперименты были ужасно долгими и некачественными из-за некомпетентности руководителей и непонимания ими самого процесса. \\n\\nНо, на самом деле, этот отстой с научкой можно было бы пережить, если бы атмосфера работы и коммуникация были на уровне хотя бы приемлемом для существования. Многие студенты, втч я, столкнулись с абсолютным хамством, неуважением, манимуляциями со стороны начальства. В кластере выстроена система поощерений и наказаний (уже интересно, правда?). Существует материальная поддержка тем кто выигрывает определенный конкурс по научным работам. И вот если ты выиграл, то ты становишься рабом скамтовской системы. Ты ДОЛЖЕН оставаться и хардкорить свою научку до смерти, ведь тебе дают денюжку, о чем никогда не забывают напоминать все руководители. Чувствуете пздц ситуации? Манипуляция студентами через чувство вины за полученные средства за ТВОЮ победу и ТВОЮ научку. Красиво, ничего не скажешь. \\n\\nМного шума по поводу exchange студентов из разных стран, которые кластеру нужны для имиджа уникального места..это всё. По факту такие ребята чувствуют себя очень плохо, они это писали своим одногруппникам и мне втч. С ними мало кто коммуницирует на уровне, некоторых студентов перкидывали из группы в группу, да так, что область будущей магистерской была намечена только в начале 2 года обучения (из 2, на минуточку). \\n\\nКроме всего прочего в скамте есть негласное перетекание денег. Типа я (руководитель) тебе скину деньгу, а ты (студент) мне потом назад скинь на мою карту. Всем всё ясно, я думаю. \\n\\nСамое мое любимо — это тема под названием : Мы же семья. Мы одна семья. Стандартная тема манипуляции, где ты чувствуешь свою несоизмеримую ответственность и угрызение совети, когда ты вышел из уника раньше 9 вечера. Абсолютно точно все team-leaders хорошо напичканы стандартными клише и психологическими уловками, чтобы создавать свою авторитетность и авторитарность. И это работает. Это так бляшки работает. Бедные котятки. После года личной психотерапии становится до тошноты смешно слушать это.\\n\\nМанипуляции в этом месте повсюду: тебе без проблем могут позвонить на личный телефон, директор факультета может позвать к себе на поговорить, постдоки могут прямо намекнуть, что ты должен пропустить лекцию и ставить эксперимент. Директор факультета вообще частенько всем названивает. После одного такого звонка моя подруга плакала. Нормально учимся, да?\\n\\nТак же в кластере есть отличная традиция всем лапшу на уши вешать. Речь идет про защиту магистерских диссертаций. При каждом удобном случае все руководители не забывают сказать, что без статьи (а то и 2-3) ты не защитишься. Напомню, что ИТМО как и все ВУЗы России имеют одинаковые условия для защиты дипломов. Для защиты магистерской диссертации написание статьи НЕ нужно. Но, как мы все понимаем, это всё происходит для того, чтобы повышать индексы Хирша, цитирование и пиар скамта. \\n\\nНа просторах интернета имеется немалая доля прекрасных искренних отзывов об обучении в скамте. Все они трезво негативные. Но в скамте все считают, что их очень любят:)\\n\\nотзыв о скамте →\\n\\nhttps://tabiturient.ru/vuzu/itmo/\\n\\nОбучения в этом месте никакого нет. Все два года направлены на написание статьи для скамта. Если для них ты не особо продуктивен (шкала продуктивности в статьях), то тебя выбрасывают после магистратуры. В аспирантуре остаются только люди, умеющие играть в эти игры, такие же по человеческим качествам и…пишущие статьи, конечно же. Магистерские работы при выходе достаточно посредственные, их вы можете прочитать на сайте ИТМО. \\n\\nСтоит также отметить, что руководство принадлежит двум братьям, как бы.. частный бизнес. Ну очень презабавно:)\\n\\nНапоследок расскажу вам как пример скамтовского научного творчества — их нашумевший блокатор (саше с гранулами обычного диоксида хлора, используемого для дезинфекции поверхностей и отбеливания уже сто лет, является токсичным. Никаким образом не действует в окружении при ношении его как саше на своей гордой груди). Это изобретение выпущено под лозунгом «против 99% всех известных вирусов и бактерий». Я думала, что хуже в этом месте быть не может…до выпуска этого нечто. И, как оказалось, к сожалению, многие люди ведутся на такие недоизобретения, которые клепаются на коленке студентами, с абсолютно нулевой эффективностью. Да и будем честными…от 99% всех известных вирусов и бактерий? Вы серьезно? Шутки ради я брала этот блокатор в лабу проверить — результата 0. А продается он за бешеные деньги. А в период начала пандемии вообще был представлен как способ борьбы с ковидом. Стыд! Жаль в этом всём больше всего людей, кто покупает этот шлак. Это очень грустно всё. Вопросы тут не только к скамту, но и к ИТМО. Каким образом ВУЗ допустил такой позор — неизвестно. Кстати, существует даже магистерская работа по этому блокатору! Вы представляете? И человек защитился с работой по этому ноу-хау. В ИТМО пропускают такие работы. У меня всё.\\n\\nКстати, в здании скамта одним днем был жуткий обвал. Здание прямо рухнуло, образовав огромную дыру. Как вы думаете, кто работал в пыли и в аварийном здании? Да, студенты кластера. Всем ясно, что руководству скамта было важно не останавливать исследования, но куда смотрело руководство ИТМО — вопрос.\\n\\nАбсолютной трагедией является то, что множество студентов подыгрывает этому фасадному факультету, позволяя позору научного мира распростроняться и жить. Мы сами, своими руками, позволяем этому быть. Мы не говорим, не пишем, не боремся. \\n\\nСложнее всего после выхода оттуда, ответить на вопрос, что делать, если ты проебал два года своей жизни, своего возможного обучения. Ответ — ты прошел лучшую школу жизни и увидел, какие люди могут попадаться на твоем пути. Что наука для кого-то — это только бизнес, в котором нет места творчеству, нет места знаниям, нет места настоящей работе. Новым молодым студентам я желаю трезво оценивать свой выбор, не вестись на красивую упаковку и дорожить в начале своего пути базой и фундаментальными знаниями. И идти работать в НИИ во время обучения. \\n\\n SCAMT или SCAM (с анг. мошенничество) — решайте сами. Такие случайности не случайны:)\\n\\n', '\\n\\n\\nАбитуриент! Не нужно сюда поступать! \\nБуду говорить про мегафакультет КТУ, не отрицаю существование и хороших направлений. \\n\\nПРЕПОДАВАНИЕ\\nЭто просто мрак. Большинство студентов моего потока поступало с желанием учиться, многие олимпиадники, но ко второму курсу уже было понятно, что ничего хорошего мы тут не поймаем. Большинство преподавателей либо не ходят на пары вообще, либо проводят пары в формате \"вот вам лабы, приходите в конце семестра\", либо не преподаватели вовсе (специалисты, которые не умеют доносить материал). \\n\\nПРОГРАММА\\nПрограмма не структурирована. Мало того, что на третьем курсе появляется внезапная философия и миллион дополнительных физик, которые никогда не пригодятся в специальности, но порядок профильных предметов... По какой-то причине сначала нужно было отправить нас на усложненные курсы, где мы ничего не понимали, а на четвертом курсе начать обсуждать свойства информации. Теория вероятности до высшей математики совсем уж неправильное решение.\\nНормальная практика - все 4 года проходить одно и то же на разных предметах и делать похожие (а временами и вовсе идентичные) лабораторные работы.\\n\\nОЦЕНИВАНИЕ\\nМожно ли сдать одну лабораторную всем потоком? Можно! Можно ли скопировать курсовую/проект/... из интернета? Можно! Максимум, что проверят - оформление.\\nТаким образом, спустя 4 года такой \"учебы\" выходят вовсе не специалисты, а люди, которые вообще не в курсе, на что учились. \\nНа все пропуски, долги и прочее смотрят сквозь пальцы, если язык хорошо подвешен - за экзамен можно получить \"отлично\" просто за то, что ты красиво оделся. В конце концов, дали же диплом специалиста по ИБ человеку, который на защите не ответил на вопрос \"что такое защита информации?\"\\n\\n...ХОЧУ ПОЙТИ В ИТМО, ПОТОМУ ЧТО ТАМ ТЕХНОЛОГИИ!\\nИнновации? Современное оборудование? Вы его не увидите. Виндоус сервер 2003 и осциллограф 60 года с залипающей кнопкой - вот уровень ИТМО.\\n\\nЧестно говоря, я думала (и надеялась), что эту шарагу закроют, еще когда обрушился учебный корпус, в котором у нас проходило на тот момент большинство занятий. А ведь занятия продолжились, хотя на него выходит другой корпус, который выглядит еще страшнее. \\n\\nРекомендую ИТМО, если вы:\\n- безответственный,\\n- откровенно ленивый,\\n- умеете заговорить любого и делаете это с определенным высокомерием,\\n- нуждаетесь в \"корочке\" по личной причине, но не хотите чему-то учиться,\\n- вам очень хочется, чтобы кто-то хвалил вас или завидовал тому, что вы поступили в достаточно известный вуз.', '\\n\\n\\nРешил написать свой отзыв, дабы абитуриенты след. года не сделали ошибку, что сделали многие. Начну сей рассказ. Я поступил в этот вуз, как в один из лидирующих вузов по программированию в России. Надеялся, что получу тут образование высокого качества. Оказалось всё иначе.\\nПреподаватели:\\nЯ учусь на каф. ВТ (так её принято называть, хоть названия такого уже не существует). Тут несколько основных предметов. Программирование и ОПД(ОВТ). Как сказал мне сам преподаватель одного из этих предметов, им очень нравится мучать своих студентов. Не ставить нормальные баллы за работу, не давать пересдавать, что в принципе прописано в правилах. Написал работу меньше нужного балла? Ничего сделать нельзя. Работу сдать преподавателю без усердного зазубривания всего и вся просто не возможно. Я сдал несколько работ. Тут требуют даже того, чего они сами рассказать не смогли. Лекции по программированию в большинстве своём просто не имеют полезной нагрузки. Лекции на достаточно серьёзные темы проводятся в \"шуточной форме\". Везде все смеются, но никого не волнуют, что большинство людей ничего из этой лекции не вынесли, и должны дома сами это заучивать. Программирование и ОПД, относительно других предметов, кстати, ещё хоть что то делают. (Сказанного выше не отменяю). Дальше - хуже\\nФизика. Я понимаю, что это требование системы образования, но всё же рассказать считаю нужным. Раньше в ИТМО физики было 2. Одна физика была для тех, кому она по профессии не нужна. Она была упрощенная и понять её было легко. Сдать программисту физику было более-менее реально (Со слов 2-3 курса с моего направления). В прошлом году упала крыша в этом корпусе. Теперь всем физику перенесли в другой корпус, но вот проблема появилась. В том корпусе физика для тех, у кого это основной предмет как у нас программирование. Я не знаю, как другие преподаватели, но у нас был очень \"хороший\" препод. Давал он в основном формулы. Не было ни теории, ни практики на его лекциях. Никто, я повторюсь, никто ничего не понимал. Все планировали закрыть это через Психологическую Помощь Студентам (далее - ППС). ППС помогает студентам с их долгами, предоставляя доп. занятия. Все копили на него деньги, чтобы хоть как то остаться в университете. Бам, и пошли слухи, что его закрывают. Теперь никто не знает, что же делать с этой физикой.\\n\\nКоротко:\\nНа лекциях и практиках по программированию вы ничему не научитесь. Тут вы всё учите сами. Физику усложнили, всем стало плохо. Как заваливали так и заваливают. \\n\\nЯ не знаю, положительный ли это отзыв, или отрицательный. Поставлю нейтральный. ', '\\n\\n\\nЯ заканчиваю первый курс. Пишу этот отзыв,потому что год назад подобного рода информация мне бы помогла принять, может быть, более правильное решение.\\nС 2019 года на факультете Пищевой биотехнологии новая образовательная программа и нет разделения на специализацию на первом курсе. Из-за этого первый семестр был овеян неразберихой. Преподаватели жаловались на то, что они не понимают как теперь быть с таким маленьким количеством часов, руководство не могло определиться с формой проведения экзамена, а пары просто пропадали, но, думаю, что в след году будет все Ок. Большой вопрос у меня к преподаванию химии, профильного предмета!!!  Лабы проходят в очках виртуальной реальности, что активно рекламируется как передовой подход в преподавании. Но в этих очках вы 10-20 минут(вместо 1,5 часов положенной пары, потому что очков мало, а студентов много) слушаете мультик MelScience, который рассчитан на 8-классников. Да, прикольно погрузиться в структуру графита и пулять молекулы метана, но камон, не на первом курсе универа. За этот год химия забыта напрочь, и это массовое явление среди студентов, к сожалению. Но у всех халявные пятерки и четверки и большинство счастливы. Во втором семестре на физхимии уже будут нормальные лабы, но их всего 3-4 за целый семестр.\\nТакже надо быть готовым к тому, что будет очень много физики. За 1 семестр мы прошли всю механику и термодинамику за 8 пар. Конечно же, ни о каком понимании материала речи не идет, но и на экзамене спрашивали только формулы и формулировки основных законов, так что вызубрить и сдать вполне реально.  Практики тоже очень мало, часто она идет с отставанием от лекционного материала, что грустно. Лабораторный практикум прикольный, но головомойки достаточно, особенно с  виртуальными тестами для допуска и оформлением отчетов. Во втором семестре пар стало в два раза больше, хотя по образовательному плану должно быть столько же, и лектор поменялся, объясняет очень доступно и интересно. Математика оставляет желать лучшего. Наш практик позволяет себе опаздывать на 20 минут, сидеть в телефоне на парах, агрессивно отвечать на вопросы, но за год к этому можно привыкнуть. Баллы получить у нее достаточно просто и загружать вас не будут. Лекционного материала недостаточно, чтобы выполнить тесты ЦДО, но самообразование наше все. Кстати, экзамен по математике был самым сложным. \\nОчень хорошее преподавание английского, пары два раза в неделю, распределение по уровням, учебники Сambridge и онлайн домашка. Но тоже как повезет с преподом. В общем, при желании язык реально выучить за 4 года в университете, что огромный плюс. \\nИ конечно же, в ИТМО очень много возможностей, интересные внеучебные мероприятия, возможность семестрового обмена, огромное количество клубов, спорт. Все развито на очень хорошем уровне. \\nИтог: рекомендую тем, кто не особо хочет париться с учебой, а больше заинтересован в университетских активностях.\\n', '\\n\\n\\nПро ИТМО я могу лишь констатировать несколько фактов коммуникаций и бытового существования иногородних студентов. Не секрет, что 70-80 процентов студентов ИТМО иногородние в то же время в университете нет человека который бы помогал как абитуриенту так и студенту как в вопросах обучения так и и бытовых вопросах размещения в общежитии. Мало того, что практически все общежития находятся в часе езды от учебных корпусов , что не добавляет бонусов университету так и еще в общежитиях размещают работников дрожжевого завода как в общежитии на Альпийском. Вам не кажется странным такое соседство?Мне вообще странно , что после разрушения Учебного корпуса на Ломоносова никто не понес никаких наказаний! Оргвыводов никаких! Наши дети чуть не погибли, они могли быть заживо погребены ! Хотя нет в отношении студентов они все таки состоялись . \\n В ИТМО пиарилась некая рейтинговая система с возможностью существования с количеством  долгов до 10 и более по зачетам и экзаменам и с условным переводом с курса на курс .  Вдруг университет в феврале 2019 года решил  это изменить - самым непостижимым образом - студентам дали две недели на исправление долгов! Как они могли это исправить? Если у них их 10 ? Совершенно непонятно . Как работает при этом учебная часть,и почему об  изменении этой системы узнают в столь короткий срок почему это не начать с нового учебного года? Совершенно неадекватные управленческие решения. Какой то эксперимент на людях. Ради чего?  Естественно во всем виноваты студенты как мы понимаем они ведь  бессловесные твари в этом университете. Их хотели убить но не получилось , но так не мытьем так катанием.', '\\n\\n\\nУчился и потом преподавал в этом вузе более 10 лет. Ушел, потому что стало просто невыносимо (это была не основная работа). Приличных слов, чтобы описать сложившуюся тут ситуацию, просто нет, хочется без остановки сквернословить. Сразу надо сказать: рыба гниет с головы. Кто ответственен за то болото, в которое погрузился некогда вполне приличный (хоть и не самый лучший) вуз? Это ректор В****** и прикормленная им шобла безграмотных негодяев, способных только на одно - пилить бюджеты и пиариться, пиариться, пиариться. В этом смысл и цель их существования.\\n\\n В****** принял вуз после 90-х у ректора Н******, честного и заслуженного человека, которому стоило здоровья протащить вуз сквозь годы бурного разгула демократии. К нам на лекции он приходил уже совершенно больным и разбитым. После 2000 года бюджеты стали расти, кое-где в помещениях сделали дешевенький ремонт, поставили в холле на Кронверкском пластиковый фонтан (!) и тогда казалось, что какое-то движение вперед началось (пусть и зачастую с нелепостями типа этого фонтана), и, конечно, все улучшения связывали с новым ректором. Со временем стало понятно, что любое движение, которое может организовать новая власть, ограничивается в основном пиаром, декларацией намерений, а иногда и откровенным враньем.\\nНа все ключевые посты (деканы, директора и пр.) назначены люди, к преподаванию и науке не имеющие отношения, и не имеющие и малейшего понятия о том, как должен функционировать вуз. Для них вуз - это просто магазин, который оказывает образовательные услуги. Эти эффективные менеджеры умело вписывают себя в статьи, которые пишут другие, обеспечивая себе нужные показатели (десятки статей в год!), и так же умело делят бюджеты.\\n\\nОбычный преподаватель сталкивается с тем, что \\n1) часов на ставку - овер дофига. Например, ставка доцента - 900 часов. Реально дадут 1500 и на возражения скажут - не нравится - вали отсюда. Новая власть людей совершенно не ценит. И того, что досталось в наследство от \"старого\" ИТМО - когда буквы Т и М еще означали Точную Механику (почившую в бозе) - тоже, разумеется, не ценит. Пример? Недавняя отмена кафедр. В результате этой \"гениальной\" реформы бардак взял новые зияющие глубины. Правило такое: любое полезное подразделение уничтожается без сожаления и промедления, а на его месте создают пучок \"департаментов\", заполненных безмозглыми девицами, которые способны только ухаживать за ногтями в свободное от обеда время. \\n\\n2) материальное обеспечение - и это при сегодняшних-то бюджетах, Карл! - заставляет серьезно задуматься о том, есть ли стыд хоть у кого-то, кто занимается хозяйственной частью. Недавнее обрушение крыши в одном из корпусов этому только очередное подтверждение. На тему бытового бардака можно много написать - о \"чистоте\" туалетов, о запредельно низком качестве ремонта, о неустроенности во всем, о колченогих стульях в учебных кабинетах, о пыли и грязи на столетних дребезжащих компах в учебных классах, об отсутствии иногда не то, что проекторов и мультимедийных досок (чего захотели!), а порой и просто розеток с электричеством! Выкручивайся как хочешь, показывай студентам представление на пальцах или транслируй образы силой мысли! \\n\\n3) бюрократия непобедима и кровожадна, и если вы будете насколько глупы, что начнете с ней войну, то быстро об этом пожалеете. При этом получить хоть от кого-то достоверные сведения о каком угодно вопросе - нереально, никто ничего не знает и знать не хочет. В \"IT вузе\" (каковым полагают итмо его пиарщики) приходится бегать с таким количеством бумажек, что невольно начинаешь спрашивать себя и окружающих - какой век вообще на дворе? электронный документооборот? не, не слышали. Попробуйте оформить командировку. Этим квестом вы будете заниматься не одну неделю и в конце-концов пожалеете, что вообще его начали, т.к. для нервов дешевле было бы съездить за свои. \\n\\n4) ну и наконец - тадам! - самое главное, то есть заработная плата! в королевстве бюрократии и пиара преподаватели - последние люди, а поэтому зарабатывают соответствующе. Если вы не фейкометите статьи в веб оф сайенс и скопус, а просто честно учите студентов - при благосклонности факультетского начальства и наличии ученой степени можете рассчитывать на 20-40 тыс. рублей. Если вы - доктор наук и есть ученое звание профессора, то, возможно, и больше.  Как можно понять, желающих честно учить студентов за эти деньги исчезающе мало, поэтому хорошие преподаватели исчезают из итмо. Остаются в основном халявщики, и в итоге сейчас преподавание в магистратуре ведется на запредельно низком уровне - ни студенты не ходят на занятия, ни преподаватели. Nobody cares. Недавно, как мне говорили, первый проректор (и по совместительству 30-летняя жена молодого и перспективного 70-летнего ректора В*******) Д. К***** с помпой объявила о проведении в итме конкурса профессорско-преподавательского состава. Денег на ставку теперь дают больше! Это, несомненно, перемога! Но ставки теперь в основном уполовинивают. Это однозначно зрада. В итоге, думаю, кардинально ничего не изменилось.\\n\\nРезюме: за последние лет 20 \"первый неклассический\" изменился довольно сильно и не в лучшую сторону. Многие хорошие преподаватели, которые были несогласны с насаждением власти безграмотных менеджеров, ушли; толковые люди, которые знали свое дело, но не умели на ректоратах говорить на дичайшей смеси английского и нижегородского (каковым изъясняются большинство нынешних вождей и который признан официальным языком итмо), были сдвинуты со своих постов; кстати, почти все новые начальники - \"варяги\", то есть из других вузов и на итмо им, в общем-то, наплевать, это для них просто кормушка. Своих детей я бы ни за что теперь не отправил учиться в итмо, хотя лет 15 назад такого однозначного ответа я бы не дал.']\n"
          ]
        }
      ]
    },
    {
      "cell_type": "markdown",
      "source": [
        "Сколько-то собрали."
      ],
      "metadata": {
        "id": "e5DVi7cW5RmX"
      }
    },
    {
      "cell_type": "code",
      "source": [
        "len(reviews)"
      ],
      "metadata": {
        "colab": {
          "base_uri": "https://localhost:8080/"
        },
        "id": "hF89pLn85HAS",
        "outputId": "cc64710e-1ffe-4629-a0f2-70575dc96543"
      },
      "execution_count": null,
      "outputs": [
        {
          "output_type": "execute_result",
          "data": {
            "text/plain": [
              "25"
            ]
          },
          "metadata": {},
          "execution_count": 5
        }
      ]
    },
    {
      "cell_type": "markdown",
      "source": [
        "# Регулярные выражения"
      ],
      "metadata": {
        "id": "P_clxcCq4d7Z"
      }
    },
    {
      "cell_type": "markdown",
      "source": [
        "Регулярные выражения (их еще называют regexp, или regex) - мощный инструмент для предобработки текстов. Они позволяют осуществлять поиск и замену по шаблону.\n",
        "\n",
        "[Исчерпывающий гайд](https://habr.com/ru/articles/545150)\n",
        "\n",
        "[Ещё гайд](https://habr.com/ru/articles/349860/)\n",
        "\n",
        "[Сайт на потыкаться](https://regex101.com/)"
      ],
      "metadata": {
        "id": "pbOcinh14mb8"
      }
    },
    {
      "cell_type": "markdown",
      "source": [
        "Обсудим основы регулярных выражений. Они не зависят от языка программирования или приложения, которые используются."
      ],
      "metadata": {
        "id": "ojJnDHpv9hif"
      }
    },
    {
      "cell_type": "markdown",
      "source": [
        "Шаблоны, соответствующие одному символу."
      ],
      "metadata": {
        "id": "GdvVK5IB-G_0"
      }
    },
    {
      "cell_type": "markdown",
      "source": [
        "<table>\n",
        "<thead>\n",
        "<tr>\n",
        "<th>Шаблон</th>\n",
        "<th>Описание</th>\n",
        "<th>Пример</th>\n",
        "<th>Применяем к тексту</th>\n",
        "</tr>\n",
        "</thead>\n",
        "<tbody>\n",
        "<tr>\n",
        "<td><code>.</code></td>\n",
        "<td>Один любой символ, кроме новой строки <code>\\n</code>.</td>\n",
        "<td><code>м.л.ко</code></td>\n",
        "<td><u><font color=\"#007d5b\">молоко</font></u>, <u><font color=\"#007d5b\">малако</font></u>, <br>\n",
        "И<u><font color=\"#007d5b\">м0л0ко</font></u>Ихлеб</td>\n",
        "</tr>\n",
        "<tr>\n",
        "<td><code>\\d</code></td>\n",
        "<td>Любая цифра</td>\n",
        "<td><code>СУ\\d\\d</code></td>\n",
        "<td><u><font color=\"#007d5b\">СУ35</font></u>, <u><font color=\"#007d5b\">СУ11</font></u>1, АЛ<u><font color=\"#007d5b\">СУ14</font></u></td>\n",
        "</tr>\n",
        "<tr>\n",
        "<td><code>\\D</code></td>\n",
        "<td>Любой символ, кроме цифры</td>\n",
        "<td><code>926\\D123</code></td>\n",
        "<td><u><font color=\"#007d5b\">926)123</font></u>, 1<u><font color=\"#007d5b\">926-123</font></u>4</td>\n",
        "</tr>\n",
        "<tr>\n",
        "<td><code>\\s</code></td>\n",
        "<td>Любой пробельный символ (пробел, табуляция, конец строки и т.п.)</td>\n",
        "<td><code>бор\\sода</code></td>\n",
        "<td><u><font color=\"#007d5b\">бор ода</font></u>, <u><font color=\"#007d5b\">бор<br>\n",
        "ода</font></u>, борода</td>\n",
        "</tr>\n",
        "<tr>\n",
        "<td><code>\\S</code></td>\n",
        "<td>Любой непробельный символ</td>\n",
        "<td><code>\\S123</code></td>\n",
        "<td><u><font color=\"#007d5b\">X123</font></u>, <u><font color=\"#007d5b\">я123</font></u>, <u><font color=\"#007d5b\">!123</font></u>456, 1 + 123456</td>\n",
        "</tr>\n",
        "<tr>\n",
        "<td><code>\\w</code></td>\n",
        "<td>Любая буква (то, что может быть частью слова), а также цифры и <code>_</code></td>\n",
        "<td><code>\\w\\w\\w</code></td>\n",
        "<td><u><font color=\"#007d5b\">Год</font></u>, <u><font color=\"#007d5b\">f_3</font></u>, <u><font color=\"#007d5b\">qwe</font></u>rt</td>\n",
        "</tr>\n",
        "<tr>\n",
        "<td><code>\\W</code></td>\n",
        "<td>Любая не-буква, не-цифра и не подчёркивание</td>\n",
        "<td><code>сом\\W</code></td>\n",
        "<td><u><font color=\"#007d5b\">сом!</font></u>, <u><font color=\"#007d5b\">сом?</font></u> </td>\n",
        "</tr>\n",
        "<tr>\n",
        "<td><code>[..]</code></td>\n",
        "<td>Один из символов в скобках,<br>\n",
        "а также любой символ из диапазона <code>a-b</code></td>\n",
        "<td><code>[0-9][0-9A-Fa-f]</code></td>\n",
        "<td><u><font color=\"#007d5b\">12</font></u>, <u><font color=\"#007d5b\">1F</font></u>, <u><font color=\"#007d5b\">4B</font></u></td>\n",
        "</tr>\n",
        "<tr>\n",
        "<td><code>[^..]</code></td>\n",
        "<td>Любой символ, кроме перечисленных</td>\n",
        "<td><code>&lt;[^&gt;]&gt;</code></td>\n",
        "<td><u><font color=\"#007d5b\">&lt;1&gt;</font></u>, <u><font color=\"#007d5b\">&lt;a&gt;</font></u>, &lt;&gt;&gt;</td>\n",
        "</tr>\n",
        "<tr>\n",
        "<td><code>\\d≈[0-9], </code><br>\n",
        "<code>\\D≈[^0-9], </code><br>\n",
        "<code>\\w≈[0-9a-zA-Z </code><br>\n",
        "<code>а-яА-ЯёЁ], </code><br>\n",
        "<code>\\s≈[ \\f\\n\\r\\t\\v] </code></td>\n",
        "<td>Буква “ё” не включается в общий диапазон букв!<br>\n",
        "Вообще говоря, в <code>\\d</code> включается всё, что в юникоде помечено как «цифра», а в <code>\\w</code> — как буква. Ещё много всего!</td>\n",
        "<td></td>\n",
        "<td></td>\n",
        "</tr>\n",
        "<tr>\n",
        "<td><code>[abc-], [-1]</code></td>\n",
        "<td>если нужен минус, его нужно указать последним или первым</td>\n",
        "<td></td>\n",
        "<td></td>\n",
        "</tr>\n",
        "<tr>\n",
        "<td><code>[*[(+\\\\\\]\\t]</code></td>\n",
        "<td>внутри скобок нужно экранировать только <code>]</code> и <code>\\</code></td>\n",
        "<td></td>\n",
        "<td></td>\n",
        "</tr>\n",
        "<tr>\n",
        "<td><code>\\b</code></td>\n",
        "<td>Начало или конец слова (слева пусто или не-буква, справа буква и наоборот).<br>\n",
        "В отличие от предыдущих соответствует позиции, а не символу</td>\n",
        "<td><code>\\bвал</code></td>\n",
        "<td><u><font color=\"#007d5b\">вал</font></u>, перевал, Перевалка</td>\n",
        "</tr>\n",
        "<tr>\n",
        "<td><code>\\B</code></td>\n",
        "<td>Не граница слова: либо и слева, и справа буквы,<br>\n",
        "либо и слева, и справа НЕ буквы</td>\n",
        "<td><code>\\Bвал</code></td>\n",
        "<td>пере<u><font color=\"#007d5b\">вал</font></u>, вал, Пере<u><font color=\"#007d5b\">вал</font></u>ка</td>\n",
        "</tr>\n",
        "</tbody>\n",
        "</table>"
      ],
      "metadata": {
        "id": "vw91zfY-97kp"
      }
    },
    {
      "cell_type": "markdown",
      "source": [
        "Квантификаторы (количество повторений)."
      ],
      "metadata": {
        "id": "zjZNbax_-s0p"
      }
    },
    {
      "cell_type": "markdown",
      "source": [
        "<table>\n",
        "<thead>\n",
        "<tr>\n",
        "<th>Шаблон</th>\n",
        "<th>Описание</th>\n",
        "<th>Пример</th>\n",
        "<th>Применяем к тексту</th>\n",
        "</tr>\n",
        "</thead>\n",
        "<tbody>\n",
        "<tr>\n",
        "<td><code>{n}</code></td>\n",
        "<td>Ровно n повторений</td>\n",
        "<td><code>\\d{4}</code></td>\n",
        "<td>1, 12, 123, <u><font color=\"#007d5b\">1234</font></u>, 12345</td>\n",
        "</tr>\n",
        "<tr>\n",
        "<td><code>{m,n}</code></td>\n",
        "<td>От m до n повторений включительно</td>\n",
        "<td><code>\\d{2,4}</code></td>\n",
        "<td>1, <u><font color=\"#007d5b\">12</font></u>, <u><font color=\"#007d5b\">123</font></u>, <u><font color=\"#007d5b\">1234</font></u>, 12345</td>\n",
        "</tr>\n",
        "<tr>\n",
        "<td><code>{m,}</code></td>\n",
        "<td>Не менее m повторений</td>\n",
        "<td><code>\\d{3,}</code></td>\n",
        "<td>1, 12, <u><font color=\"#007d5b\">123</font></u>, <u><font color=\"#007d5b\">1234</font></u>, <u><font color=\"#007d5b\">12345</font></u></td>\n",
        "</tr>\n",
        "<tr>\n",
        "<td><code>{,n}</code></td>\n",
        "<td>Не более n повторений</td>\n",
        "<td><code>\\d{,2}</code></td>\n",
        "<td><u><font color=\"#007d5b\">1</font></u>, <u><font color=\"#007d5b\">12</font></u>, <u><font color=\"#007d5b\">12</font></u>3</td>\n",
        "</tr>\n",
        "<tr>\n",
        "<td><code>?</code></td>\n",
        "<td>Ноль или одно вхождение, синоним <code>{0,1}</code></td>\n",
        "<td><code>валы?</code></td>\n",
        "<td><u><font color=\"#007d5b\">вал</font></u>, <u><font color=\"#007d5b\">валы</font></u>, <u><font color=\"#007d5b\">вал</font></u>ов</td>\n",
        "</tr>\n",
        "<tr>\n",
        "<td><code>*</code></td>\n",
        "<td>Ноль или более, синоним <code>{0,}</code></td>\n",
        "<td><code>СУ\\d*</code></td>\n",
        "<td><u><font color=\"#007d5b\">СУ</font></u>, <u><font color=\"#007d5b\">СУ1</font></u>, <u><font color=\"#007d5b\">СУ12</font></u>, ...</td>\n",
        "</tr>\n",
        "<tr>\n",
        "<td><code>+</code></td>\n",
        "<td>Одно или более, синоним <code>{1,}</code></td>\n",
        "<td><code>a\\)+</code></td>\n",
        "<td><u><font color=\"#007d5b\">a)</font></u>, <u><font color=\"#007d5b\">a))</font></u>, <u><font color=\"#007d5b\">a)))</font></u>, b<u><font color=\"#007d5b\">a)</font></u>])</td>\n",
        "</tr>\n",
        "<tr>\n",
        "<td><code>*?</code><br>\n",
        "<code>+?</code><br>\n",
        "<code>??</code><br>\n",
        "<code>{m,n}?</code><br>\n",
        "<code>{,n}?</code><br>\n",
        "<code>{m,}?</code></td>\n",
        "<td>По умолчанию квантификаторы <i>жадные</i> — <br>\n",
        "захватывают максимально возможное число символов. <br>\n",
        "Добавление <code>?</code> делает их <em>ленивыми</em>, <br>\n",
        "они захватывают минимально возможное число символов</td>\n",
        "<td><code>\\(.*\\)</code><br>\n",
        "<code>\\(.*?\\)</code></td>\n",
        "<td><u><font color=\"#007d5b\">(a + b) * (c + d) * (e + f)</font></u><br>\n",
        "<u><font color=\"#007d5b\">(a + b)</font></u> * (c + d) * (e + f)</td>\n",
        "</tr>\n",
        "</tbody>\n",
        "</table>"
      ],
      "metadata": {
        "id": "HAQyo8Aj-vdr"
      }
    },
    {
      "cell_type": "markdown",
      "source": [
        "В Python для регулярных выражений существует встроенный модуль re. [Официальная документация](https://docs.python.org/3/library/re.html)."
      ],
      "metadata": {
        "id": "oITy_xib8Ra3"
      }
    },
    {
      "cell_type": "markdown",
      "source": [
        "<table>\n",
        "<thead>\n",
        "<tr>\n",
        "<th>Функция</th>\n",
        "<th>Её смысл</th>\n",
        "</tr>\n",
        "</thead>\n",
        "<tbody>\n",
        "<tr>\n",
        "<td><code>re.search(pattern, string)</code></td>\n",
        "<td>Найти в строке <code>string</code> первую строчку, подходящую под шаблон <code>pattern</code>;</td>\n",
        "</tr>\n",
        "<tr>\n",
        "<td><code>re.fullmatch(pattern, string)</code></td>\n",
        "<td>Проверить, подходит ли строка <code>string</code> под шаблон <code>pattern</code>;</td>\n",
        "</tr>\n",
        "<tr>\n",
        "<td><code>re.split(pattern, string, maxsplit=0)</code></td>\n",
        "<td>Аналог <code>str.split()</code>, только разделение происходит по подстрокам, подходящим под шаблон <code>pattern</code>;</td>\n",
        "</tr>\n",
        "<tr>\n",
        "<td><code>re.findall(pattern, string)</code></td>\n",
        "<td>Найти в строке <code>string</code> все непересекающиеся шаблоны <code>pattern</code>;</td>\n",
        "</tr>\n",
        "<tr>\n",
        "<td><code>re.finditer(pattern, string)</code></td>\n",
        "<td>Итератор всем непересекающимся шаблонам <code>pattern</code> в строке <code>string</code> (выдаются <code>match</code>-объекты);</td>\n",
        "</tr>\n",
        "<tr>\n",
        "<td><code>re.sub(pattern, repl, string, count=0)</code></td>\n",
        "<td>Заменить в строке <code>string</code> все непересекающиеся шаблоны <code>pattern</code> на <code>repl</code>; </td>\n",
        "</tr>\n",
        "<tr>\n",
        "<td><code>re.compile(pattern)</code></td>\n",
        "<td>Позволяет представить шаблон в виде объекта <code>re</code> и вызывать методы уже непосредственно для него</td>\n",
        "</tr>\n",
        "</tbody>\n",
        "</table>"
      ],
      "metadata": {
        "id": "-fOBqsxP_I8t"
      }
    },
    {
      "cell_type": "markdown",
      "source": [
        "`re.search()` ищет только первое вхождение, поэтому его удобно использовать для проверки, есть ли интересующуее слово в тексте."
      ],
      "metadata": {
        "id": "FHufRPTDByZ7"
      }
    },
    {
      "cell_type": "code",
      "source": [
        "jumbled_reviews = ' '.join(reviews)\n",
        "re.search('ИКТ', jumbled_reviews)  # есть"
      ],
      "metadata": {
        "colab": {
          "base_uri": "https://localhost:8080/"
        },
        "id": "_sJ1PwQxB_SO",
        "outputId": "ca72cf5e-1443-4258-80c3-6507efb0d446"
      },
      "execution_count": null,
      "outputs": [
        {
          "output_type": "execute_result",
          "data": {
            "text/plain": [
              "<re.Match object; span=(49842, 49845), match='ИКТ'>"
            ]
          },
          "metadata": {},
          "execution_count": 7
        }
      ]
    },
    {
      "cell_type": "code",
      "source": [
        "re.search('ИТГС', jumbled_reviews)  # нет"
      ],
      "metadata": {
        "id": "LkK7p4EqBSP0"
      },
      "execution_count": null,
      "outputs": []
    },
    {
      "cell_type": "markdown",
      "source": [
        "Проверка соответствия. `re.match()` проверяет на соответствие шаблону с начала строки, `re.fullmatch()` проверяет на соответствие шаблону всей строки."
      ],
      "metadata": {
        "id": "wPJZcjOqCGok"
      }
    },
    {
      "cell_type": "code",
      "source": [
        "phone_number = \"+7 (123) 456-78-90, причем не важно, что в конце строки, если в regex не указан якорь\"\n",
        "re.match(r'^\\+\\d{1,3} \\(\\d{3}\\) \\d{3}-\\d{2}-\\d{2}', phone_number)"
      ],
      "metadata": {
        "colab": {
          "base_uri": "https://localhost:8080/"
        },
        "id": "S8fZla8DDx8V",
        "outputId": "e441ebb9-c99f-4a52-99bf-274a7698ff78"
      },
      "execution_count": null,
      "outputs": [
        {
          "output_type": "execute_result",
          "data": {
            "text/plain": [
              "<re.Match object; span=(0, 18), match='+7 (123) 456-78-90'>"
            ]
          },
          "metadata": {},
          "execution_count": 74
        }
      ]
    },
    {
      "cell_type": "code",
      "source": [
        "email = \"поchта@example.com\"\n",
        "match_ = re.fullmatch(r'^[а-яА-Яa-zA-Z0-9_.+-]+@[а-яА-Яa-zA-Z0-9-]+\\.[а-яА-Яa-zA-Z0-9-.]+$', email)\n",
        "match_.group()  # так можно достать сам текст соответствия"
      ],
      "metadata": {
        "colab": {
          "base_uri": "https://localhost:8080/",
          "height": 36
        },
        "id": "Ev4KzKzsBSSb",
        "outputId": "bdbe00be-c98e-4ff8-b7e6-24b17fc27684"
      },
      "execution_count": null,
      "outputs": [
        {
          "output_type": "execute_result",
          "data": {
            "text/plain": [
              "'поchта@example.com'"
            ],
            "application/vnd.google.colaboratory.intrinsic+json": {
              "type": "string"
            }
          },
          "metadata": {},
          "execution_count": 76
        }
      ]
    },
    {
      "cell_type": "markdown",
      "source": [
        "`re.split()` очень часто используется для разбиения текста на составные части, если заранее известна структура текста."
      ],
      "metadata": {
        "id": "NTPZ738EFUKR"
      }
    },
    {
      "cell_type": "code",
      "source": [
        "address = \"г.Санкт-Петербург, набережная канала Грибоедова, дом 74, литера Д\"\n",
        "city, street, home, *litera = re.split(r', ', address)  # литеры может и не быть\n",
        "print(city, street, home, litera)\n",
        "\n",
        "address = \"город Петергоф, Санкт-Петербургский проспект, дом 60\"\n",
        "city, street, home, *litera = re.split(r', ', address)\n",
        "print(city, street, home, litera)"
      ],
      "metadata": {
        "colab": {
          "base_uri": "https://localhost:8080/"
        },
        "id": "JE0EQGDKFT6E",
        "outputId": "07197f62-d88a-40dc-91ab-808f820f3db4"
      },
      "execution_count": null,
      "outputs": [
        {
          "output_type": "stream",
          "name": "stdout",
          "text": [
            "г.Санкт-Петербург набережная канала Грибоедова дом 74 ['литера Д']\n",
            "город Петергоф Санкт-Петербургский проспект дом 60 []\n"
          ]
        }
      ]
    },
    {
      "cell_type": "markdown",
      "source": [
        "`re.findall()` и `re.finditer()` работают одинаково, только вторая функция возвращает итератор. Важно: они обе ищут только непересекающиеся последовательности."
      ],
      "metadata": {
        "id": "qclnu4yrGkA4"
      }
    },
    {
      "cell_type": "code",
      "source": [
        "print(re.findall(r'магистр[а-я]+', jumbled_reviews))"
      ],
      "metadata": {
        "colab": {
          "base_uri": "https://localhost:8080/"
        },
        "id": "2JuJIH-8Gj0h",
        "outputId": "397b7e72-efab-4883-b429-f6fb162d9d37"
      },
      "execution_count": null,
      "outputs": [
        {
          "output_type": "stream",
          "name": "stdout",
          "text": [
            "['магистратуру', 'магистратура', 'магистратуры', 'магистратуру', 'магистратуре', 'магистратуре', 'магистрантами', 'магистратуру', 'магистры', 'магистров', 'магистра', 'магистратуры', 'магистратуру', 'магистратуре', 'магистратура', 'магистратуры', 'магистратуре']\n"
          ]
        }
      ]
    },
    {
      "cell_type": "markdown",
      "source": [
        "`re.sub()` - самая важная и часто используемая для предобработки текста функция."
      ],
      "metadata": {
        "id": "No_Aqt_TH2J8"
      }
    },
    {
      "cell_type": "code",
      "source": [
        "init_text = 'Hello, в смысле Привет!Как дела7'\n",
        "text1 = re.sub(r'[^А-Яа-яёЁ ]', ' ', init_text)  # убрать все не русскоязычные символы. не используйте замену на пустую строку, иначе рискуете получить слипшиеся символы!\n",
        "print(text1)\n",
        "\n",
        "text2 = re.sub(r'\\s+', ' ', text1)  # заменить последовательности пробелов на один пробел\n",
        "print(text2)"
      ],
      "metadata": {
        "colab": {
          "base_uri": "https://localhost:8080/"
        },
        "id": "xcTUdTp6BSV5",
        "outputId": "e31b2397-83f6-4faa-9d74-84b98a88c977"
      },
      "execution_count": null,
      "outputs": [
        {
          "output_type": "stream",
          "name": "stdout",
          "text": [
            "       в смысле Привет Как дела \n",
            " в смысле Привет Как дела \n"
          ]
        }
      ]
    },
    {
      "cell_type": "markdown",
      "source": [
        "`re.complie()` удобно использовать, когда нужно найти один и тот же шаблон в разных текстах."
      ],
      "metadata": {
        "id": "JIXbxR_fJhMI"
      }
    },
    {
      "cell_type": "code",
      "source": [
        "pattern = re.compile('\\W(скамт[а-я]+)', re.IGNORECASE)\n",
        "for review in reviews:\n",
        "  if pattern.search(review):\n",
        "    print(review.strip())\n",
        "    print('\\n\\n')"
      ],
      "metadata": {
        "colab": {
          "base_uri": "https://localhost:8080/"
        },
        "id": "4esZwoKuJp2C",
        "outputId": "17c5d46f-dbb9-4ea9-c97d-f48323ee28d0"
      },
      "execution_count": null,
      "outputs": [
        {
          "output_type": "stream",
          "name": "stdout",
          "text": [
            "Этот пост не только, но в основном, для неприякаянных студенческих душ, которые болееют, по-настоящему болеют наукой, классическими фундаментальными ЧЕСТНЫМИ и невероятно прекрасными логичными научными исследованиями. \n",
            "\n",
            "Речь пойдет про биологическое направление, тк именно к нему я имею отношение.\n",
            "\n",
            "Начну с того, что речь пойдет не про то, как сложно найти действительно стоящую программу обучения в России после бакалавриата, если ты хочешь двигаться в научке. Речь пойдет о том, как НЕ попасть в те учреждения, кафедры, чтобы не проспать свои два прекрасных года магистратуры, а то и все три, если речь идет об аспирантуре (господи, не дай бог просрать свою аспирантуру в таких местах). \n",
            "\n",
            "К сожалению, фасадных обучающих учреждений очень много. А факультетов еще больше. За прекрасной картинкой умно выстроенного менеждемента и пиара в 18-25 лет сложно определить, что перед тобой — ВУЗ, который хочет тебя научить и принести жертве науке еще одного прекрасного студента или это недонаучное-недообучающее место, основа которого лежит в постоянных ненаучных грантах, без глубоких фундаментальных знаний и методик, покрывающее этот недостаток супер модными словами типа «НЕКЛАССИЧЕСКИЙ УНИВЕРСИТЕТ» (если вы поняла, о чем я). В 20 лет эти слова как никогда кажутся заманчивыми, ведь мы же самые неклассические модерновые котятки в мире. И всем хочется классных лаб и вообще...ну чтобы как в Европе. \n",
            "\n",
            "В свои 21 год я-таки попалась на всю эту мишуру, поступила в ИТМО. Не то чтобы я имела что-то против (сейчас после своего опыта) самого ВУЗа. Но, я думаю, многие понимают, что кроме попыток быть на вершине вселенной новыми баннерами, хочется еще крутых преподавателей и знаний. Разговаривала с ребятами из разных фактультетов — знаний, по их словам, хотелось бы побольше, раз уж все такие неклассические. Но это, видимо, про другое…\n",
            "\n",
            "Поступила я в химико-биологический кластер SCAMT (господи боже, слова то какие. КЛАСТЕР! Заметьте не факультет, а кластер!). И как все малыши-карандаши в 20 лет ну ОЧЕНЬ была впечетлена. И новыми лабораториями, и относительно хорошим оснащением (по сравнению с другими-то…и с бакалавриатом, где за автоматический дозатор нужно было продать душу). И всё…знаете…так как в сериалах про крутые школы — все такие сладкие и веселые. Небольшой дисклеймер — к тому моменту я уже имела опыт работы в НИИ, собственно там я и проработала всю свою магистратуру, НИИ меня вырастил, поставил, обул и одел. \n",
            "\n",
            "Странности начались через пару месяцев после поступления. Во-первых, разношерстный состав учебных групп. На это в КЛАСТЕРЕ делается особый акцент, мол они все за то, что из физика можно сделать биолога за 2 года и наоборот. Из-за этого (хотя думаю, не из-за этого) все лабораторные по биологии, например, были саааамыми примитивными. Типа вот это стол, а это чашка Петри, а теперь радуемся. Абсолютно не ясно, почему в магистратуре биологи должны заниматься этим после 4 лет бакалавриата. У некоторых на тот момент был неплохой бэкграунд работы в разных лабораториях, втч клинических. Других лабораторных уровня экстра (хи-хи) не было. Кроме всего прочего, на факультете есть ряд научников, которые ведут свою группу не из России. Мне посчастливилось быть в такой группе. Скажу честно, сначала мне казалось, что это круто. Научник из Америки! ВАУ! На самом деле, это самый неэффективный вариант работы, такой научный руководитель по факту просто подпись в дипломной работе, постоянных встреч и разборов полетов не было. Огромным обломом оказалось, что кроме специфической темы в молекулярной биологии научник ничем не занимается, а эта тема меня не привлекала и попахивало миллионной одинаковой статьей, как собственно и получилось у тех, кто остался в группе. Молчу про то, что через год работы у многих ребят абсолютно ничего не вышло, приходилось менять тему, всё было не продуктивно, вся работа была построенна на ооочень крохотном наборе методик. \n",
            "\n",
            "По-моему мнению, магистратура — это место, где студент должен научиться максимальному количеству методик. Этого в кластере вы не найдете. По биологии спектор методик катастрофически мал, из-за чего статьи абсолютно идентичные. Кроме того, нет тех научных руководителей, кто действительно бы шарил в фундаменталке настолько, чтобы ответить на миллион вопросов, роящихся в умах молодых студентов. Это ужасно. Из-за этого был постоянный хаос, студенты не понимали смысла своей работы и не получали новых прктических знаний. Эксперименты были ужасно долгими и некачественными из-за некомпетентности руководителей и непонимания ими самого процесса. \n",
            "\n",
            "Но, на самом деле, этот отстой с научкой можно было бы пережить, если бы атмосфера работы и коммуникация были на уровне хотя бы приемлемом для существования. Многие студенты, втч я, столкнулись с абсолютным хамством, неуважением, манимуляциями со стороны начальства. В кластере выстроена система поощерений и наказаний (уже интересно, правда?). Существует материальная поддержка тем кто выигрывает определенный конкурс по научным работам. И вот если ты выиграл, то ты становишься рабом скамтовской системы. Ты ДОЛЖЕН оставаться и хардкорить свою научку до смерти, ведь тебе дают денюжку, о чем никогда не забывают напоминать все руководители. Чувствуете пздц ситуации? Манипуляция студентами через чувство вины за полученные средства за ТВОЮ победу и ТВОЮ научку. Красиво, ничего не скажешь. \n",
            "\n",
            "Много шума по поводу exchange студентов из разных стран, которые кластеру нужны для имиджа уникального места..это всё. По факту такие ребята чувствуют себя очень плохо, они это писали своим одногруппникам и мне втч. С ними мало кто коммуницирует на уровне, некоторых студентов перкидывали из группы в группу, да так, что область будущей магистерской была намечена только в начале 2 года обучения (из 2, на минуточку). \n",
            "\n",
            "Кроме всего прочего в скамте есть негласное перетекание денег. Типа я (руководитель) тебе скину деньгу, а ты (студент) мне потом назад скинь на мою карту. Всем всё ясно, я думаю. \n",
            "\n",
            "Самое мое любимо — это тема под названием : Мы же семья. Мы одна семья. Стандартная тема манипуляции, где ты чувствуешь свою несоизмеримую ответственность и угрызение совети, когда ты вышел из уника раньше 9 вечера. Абсолютно точно все team-leaders хорошо напичканы стандартными клише и психологическими уловками, чтобы создавать свою авторитетность и авторитарность. И это работает. Это так бляшки работает. Бедные котятки. После года личной психотерапии становится до тошноты смешно слушать это.\n",
            "\n",
            "Манипуляции в этом месте повсюду: тебе без проблем могут позвонить на личный телефон, директор факультета может позвать к себе на поговорить, постдоки могут прямо намекнуть, что ты должен пропустить лекцию и ставить эксперимент. Директор факультета вообще частенько всем названивает. После одного такого звонка моя подруга плакала. Нормально учимся, да?\n",
            "\n",
            "Так же в кластере есть отличная традиция всем лапшу на уши вешать. Речь идет про защиту магистерских диссертаций. При каждом удобном случае все руководители не забывают сказать, что без статьи (а то и 2-3) ты не защитишься. Напомню, что ИТМО как и все ВУЗы России имеют одинаковые условия для защиты дипломов. Для защиты магистерской диссертации написание статьи НЕ нужно. Но, как мы все понимаем, это всё происходит для того, чтобы повышать индексы Хирша, цитирование и пиар скамта. \n",
            "\n",
            "На просторах интернета имеется немалая доля прекрасных искренних отзывов об обучении в скамте. Все они трезво негативные. Но в скамте все считают, что их очень любят:)\n",
            "\n",
            "отзыв о скамте →\n",
            "\n",
            "https://tabiturient.ru/vuzu/itmo/\n",
            "\n",
            "Обучения в этом месте никакого нет. Все два года направлены на написание статьи для скамта. Если для них ты не особо продуктивен (шкала продуктивности в статьях), то тебя выбрасывают после магистратуры. В аспирантуре остаются только люди, умеющие играть в эти игры, такие же по человеческим качествам и…пишущие статьи, конечно же. Магистерские работы при выходе достаточно посредственные, их вы можете прочитать на сайте ИТМО. \n",
            "\n",
            "Стоит также отметить, что руководство принадлежит двум братьям, как бы.. частный бизнес. Ну очень презабавно:)\n",
            "\n",
            "Напоследок расскажу вам как пример скамтовского научного творчества — их нашумевший блокатор (саше с гранулами обычного диоксида хлора, используемого для дезинфекции поверхностей и отбеливания уже сто лет, является токсичным. Никаким образом не действует в окружении при ношении его как саше на своей гордой груди). Это изобретение выпущено под лозунгом «против 99% всех известных вирусов и бактерий». Я думала, что хуже в этом месте быть не может…до выпуска этого нечто. И, как оказалось, к сожалению, многие люди ведутся на такие недоизобретения, которые клепаются на коленке студентами, с абсолютно нулевой эффективностью. Да и будем честными…от 99% всех известных вирусов и бактерий? Вы серьезно? Шутки ради я брала этот блокатор в лабу проверить — результата 0. А продается он за бешеные деньги. А в период начала пандемии вообще был представлен как способ борьбы с ковидом. Стыд! Жаль в этом всём больше всего людей, кто покупает этот шлак. Это очень грустно всё. Вопросы тут не только к скамту, но и к ИТМО. Каким образом ВУЗ допустил такой позор — неизвестно. Кстати, существует даже магистерская работа по этому блокатору! Вы представляете? И человек защитился с работой по этому ноу-хау. В ИТМО пропускают такие работы. У меня всё.\n",
            "\n",
            "Кстати, в здании скамта одним днем был жуткий обвал. Здание прямо рухнуло, образовав огромную дыру. Как вы думаете, кто работал в пыли и в аварийном здании? Да, студенты кластера. Всем ясно, что руководству скамта было важно не останавливать исследования, но куда смотрело руководство ИТМО — вопрос.\n",
            "\n",
            "Абсолютной трагедией является то, что множество студентов подыгрывает этому фасадному факультету, позволяя позору научного мира распростроняться и жить. Мы сами, своими руками, позволяем этому быть. Мы не говорим, не пишем, не боремся. \n",
            "\n",
            "Сложнее всего после выхода оттуда, ответить на вопрос, что делать, если ты проебал два года своей жизни, своего возможного обучения. Ответ — ты прошел лучшую школу жизни и увидел, какие люди могут попадаться на твоем пути. Что наука для кого-то — это только бизнес, в котором нет места творчеству, нет места знаниям, нет места настоящей работе. Новым молодым студентам я желаю трезво оценивать свой выбор, не вестись на красивую упаковку и дорожить в начале своего пути базой и фундаментальными знаниями. И идти работать в НИИ во время обучения. \n",
            "\n",
            " SCAMT или SCAM (с анг. мошенничество) — решайте сами. Такие случайности не случайны:)\n",
            "\n",
            "\n",
            "\n"
          ]
        }
      ]
    },
    {
      "cell_type": "markdown",
      "source": [
        "Дополнительные флаги"
      ],
      "metadata": {
        "id": "-LAEu4TS_Wlm"
      }
    },
    {
      "cell_type": "markdown",
      "source": [
        "<table>\n",
        "<thead>\n",
        "<tr>\n",
        "<th>Константа</th>\n",
        "<th>Её смысл</th>\n",
        "</tr>\n",
        "</thead>\n",
        "<tbody>\n",
        "<tr>\n",
        "<td><code>re.ASCII</code></td>\n",
        "<td>По умолчанию <code>\\w</code>, <code>\\W</code>, <code>\\b</code>, <code>\\B</code>, <code>\\d</code>, <code>\\D</code>, <code>\\s</code>, <code>\\S</code> соответствуют <br>\n",
        "  все юникодные символы с соответствующим качеством. <br>\n",
        " Например, <code>\\d</code> соответствуют не только арабские цифры, <br>\n",
        " но и вот такие: ٠١٢٣٤٥٦٧٨٩. <br>\n",
        " <code>re.ASCII</code> ускоряет работу, <br>\n",
        " если все соответствия лежат внутри ASCII.</td>\n",
        "</tr>\n",
        "<tr>\n",
        "<td><nobr><code>re.IGNORECASE</code></nobr></td>\n",
        "<td>Не различать заглавные и маленькие буквы. <br>\n",
        " Работает медленнее, но иногда удобно</td>\n",
        "</tr>\n",
        "<tr>\n",
        "<td><code>re.MULTILINE</code></td>\n",
        "<td>Специальные символы <code>^</code> и <code>$</code> соответствуют <br>\n",
        " началу и концу каждой строки</td>\n",
        "</tr>\n",
        "<tr>\n",
        "<td><code>re.DOTALL</code></td>\n",
        "<td>По умолчанию символ <code>\\n</code> конца строки не подходит под точку. <br>\n",
        " С этим флагом точка — вообще любой символ</td>\n",
        "</tr>\n",
        "</tbody>\n",
        "</table>"
      ],
      "metadata": {
        "id": "gKg6MnAF_ZM3"
      }
    },
    {
      "cell_type": "markdown",
      "source": [
        "Иногда хочется найти не всё соответствие целиком, а только его часть. На помощь приходит группировка."
      ],
      "metadata": {
        "id": "QMnaV7OJL4pJ"
      }
    },
    {
      "cell_type": "code",
      "source": [
        "html = \"\"\"<h1>Какой-то текст, <b>выделенный жирным, в заголовке</b></h1>\n",
        "<p>Какой-то текст, <b>выделенный жирным, в абзаце</b></p>\"\"\"\n",
        "\n",
        "matches = re.findall(r'<p>.*<b>(.*?)</b>.*</p>', html)\n",
        "if matches:\n",
        "    for match_ in matches:\n",
        "        print(match_)"
      ],
      "metadata": {
        "colab": {
          "base_uri": "https://localhost:8080/"
        },
        "id": "8k9E_f-N7cCo",
        "outputId": "567d646f-2a91-4793-e13f-9d9de40c19ed"
      },
      "execution_count": null,
      "outputs": [
        {
          "output_type": "stream",
          "name": "stdout",
          "text": [
            "выделенный жирным, в абзаце\n"
          ]
        }
      ]
    },
    {
      "cell_type": "code",
      "source": [
        "date_string = \"Сегодня 25.09.2023\"\n",
        "print(re.findall(r'(\\d{2})\\.(\\d{2})\\.(\\d{4})', date_string))\n",
        "print(re.findall(r'(?:\\d{2})\\.(?:\\d{2})\\.(?:\\d{2}(\\d{2}))', date_string))  # не всегда нас интересуют все найденные группы"
      ],
      "metadata": {
        "colab": {
          "base_uri": "https://localhost:8080/"
        },
        "id": "0rx66iQi3sgB",
        "outputId": "3ed568f6-1667-4aa7-973e-7c6ff0a5f4bf"
      },
      "execution_count": null,
      "outputs": [
        {
          "output_type": "stream",
          "name": "stdout",
          "text": [
            "[('25', '09', '2023')]\n",
            "['23']\n"
          ]
        }
      ]
    },
    {
      "cell_type": "markdown",
      "source": [
        "К найденным группам можно обращаться внутри самого выражения. Это удобно использовать для замен."
      ],
      "metadata": {
        "id": "MoONEqZGPN61"
      }
    },
    {
      "cell_type": "code",
      "source": [
        "text = \"Мы приедем 09/20/2023. Так что приходи не раньше 09/22/2023 :/\"\n",
        "re.sub(r'(\\d{2})/(\\d{2})/(\\d{4})', r'\\2.\\1.\\3', text)"
      ],
      "metadata": {
        "colab": {
          "base_uri": "https://localhost:8080/",
          "height": 36
        },
        "id": "L1QFtkT2PFvE",
        "outputId": "57ab8507-bb1f-483e-91b5-f80e370e578d"
      },
      "execution_count": null,
      "outputs": [
        {
          "output_type": "execute_result",
          "data": {
            "text/plain": [
              "'Мы приедем 20.09.2023. Так что приходи не раньше 22.09.2023 :/'"
            ],
            "application/vnd.google.colaboratory.intrinsic+json": {
              "type": "string"
            }
          },
          "metadata": {},
          "execution_count": 17
        }
      ]
    },
    {
      "cell_type": "markdown",
      "source": [
        "Ещё немного того, о чем стоит знать, но что вряд ли пригодится в повседневной жизни."
      ],
      "metadata": {
        "id": "8M-ec3lfM4FX"
      }
    },
    {
      "cell_type": "markdown",
      "source": [
        "<table>\n",
        "<thead>\n",
        "<tr>\n",
        "<th>Шаблон</th>\n",
        "<th>Описание</th>\n",
        "<th>Пример</th>\n",
        "<th>Применяем к тексту</th>\n",
        "</tr>\n",
        "</thead>\n",
        "<tbody>\n",
        "<tr>\n",
        "<td><code>(?=...)</code></td>\n",
        "<td><em>lookahead assertion</em>, соответствует каждой <br>\n",
        " позиции, сразу после которой начинается <br>\n",
        "соответствие шаблону ...</td>\n",
        "<td><code>Isaac (?=Asimov)</code></td>\n",
        "<td><u><font color=\"#007d5b\">Isaac </font></u>Asimov, Isaac other</td>\n",
        "</tr>\n",
        "<tr>\n",
        "<td><code>(?!...)</code></td>\n",
        "<td><em>negative lookahead assertion</em>, соответствует <br>\n",
        "каждой позиции, сразу после которой <br>\n",
        "НЕ может начинаться шаблон ...</td>\n",
        "<td><code>Isaac (?!Asimov)</code></td>\n",
        "<td>Isaac Asimov, <u><font color=\"#007d5b\">Isaac </font></u>other</td>\n",
        "</tr>\n",
        "<tr>\n",
        "<td><code>(?&lt;=...)</code></td>\n",
        "<td><em>positive lookbehind assertion</em>, соответствует <br>\n",
        "каждой позиции, которой может заканчиваться шаблон ...<br>\n",
        "Длина шаблона должна быть фиксированной, <br>\n",
        "то есть <code>abc</code> и <code>a|b</code> — это ОК, а <code>a*</code> и <code>a{2,3}</code> — нет.</td>\n",
        "<td><code>(?&lt;=abc)def</code></td>\n",
        "<td>abc<u><font color=\"#007d5b\">def</font></u>, bcdef</td>\n",
        "</tr>\n",
        "<tr>\n",
        "<td><nobr><code>(?&lt;!...)</code></nobr></td>\n",
        "<td><em>negative lookbehind assertion</em>, соответствует <br>\n",
        "каждой позиции, которой НЕ может <br>\n",
        "заканчиваться шаблон ...</td>\n",
        "<td><code>(?&lt;!abc)def</code></td>\n",
        "<td>abcdef, bc<u><font color=\"#007d5b\">def</font></u></td>\n",
        "</tr>\n",
        "</tbody>\n",
        "</table>"
      ],
      "metadata": {
        "id": "D50A5ILrMzQQ"
      }
    },
    {
      "cell_type": "markdown",
      "source": [
        "В pandas также присутствует поддержка регулярных выражений, что может быть удобно при работе с таблицами, содержащими текстовые данные."
      ],
      "metadata": {
        "id": "ynpd_Lge8stS"
      }
    },
    {
      "cell_type": "code",
      "source": [
        "import pandas as pd\n",
        "\n",
        "reviews_series = pd.DataFrame(reviews, columns=['text'])"
      ],
      "metadata": {
        "id": "41p5vPwR7cEN"
      },
      "execution_count": null,
      "outputs": []
    },
    {
      "cell_type": "code",
      "source": [
        "reviews_series[reviews_series['text'].str.contains(r'бакалавр')]"
      ],
      "metadata": {
        "colab": {
          "base_uri": "https://localhost:8080/",
          "height": 300
        },
        "id": "6t709VZS7cHx",
        "outputId": "811171bf-6ddc-44a2-8633-1341bf707f73"
      },
      "execution_count": null,
      "outputs": [
        {
          "output_type": "execute_result",
          "data": {
            "text/plain": [
              "                                                 text\n",
              "2   \\n\\n\\nЯ закончила 1 курс \\nфакультета лазерной...\n",
              "7   \\n\\n\\nЗа 6 лет обучения(бакалавриат+магистрату...\n",
              "9   \\n\\n\\n\\tПроучился в вузе 6 лет, закончил бакал...\n",
              "13  \\n\\n\\nПоступил я в этот \"прекрасный\" ВУЗ в 201...\n",
              "14  \\n\\n\\nРаботаю в ИТМО с 2007 года. Любопытно ка...\n",
              "16  \\n\\n\\nДаже не знаю что нового рассказывать об ...\n",
              "18  \\n\\n\\nЯ - студент-бакалавр 2го курса Робототех...\n",
              "19  \\n\\n\\nЭтот пост не только, но в основном, для ..."
            ],
            "text/html": [
              "\n",
              "  <div id=\"df-881eae15-bb41-456e-b27f-d38244342170\" class=\"colab-df-container\">\n",
              "    <div>\n",
              "<style scoped>\n",
              "    .dataframe tbody tr th:only-of-type {\n",
              "        vertical-align: middle;\n",
              "    }\n",
              "\n",
              "    .dataframe tbody tr th {\n",
              "        vertical-align: top;\n",
              "    }\n",
              "\n",
              "    .dataframe thead th {\n",
              "        text-align: right;\n",
              "    }\n",
              "</style>\n",
              "<table border=\"1\" class=\"dataframe\">\n",
              "  <thead>\n",
              "    <tr style=\"text-align: right;\">\n",
              "      <th></th>\n",
              "      <th>text</th>\n",
              "    </tr>\n",
              "  </thead>\n",
              "  <tbody>\n",
              "    <tr>\n",
              "      <th>2</th>\n",
              "      <td>\\n\\n\\nЯ закончила 1 курс \\nфакультета лазерной...</td>\n",
              "    </tr>\n",
              "    <tr>\n",
              "      <th>7</th>\n",
              "      <td>\\n\\n\\nЗа 6 лет обучения(бакалавриат+магистрату...</td>\n",
              "    </tr>\n",
              "    <tr>\n",
              "      <th>9</th>\n",
              "      <td>\\n\\n\\n\\tПроучился в вузе 6 лет, закончил бакал...</td>\n",
              "    </tr>\n",
              "    <tr>\n",
              "      <th>13</th>\n",
              "      <td>\\n\\n\\nПоступил я в этот \"прекрасный\" ВУЗ в 201...</td>\n",
              "    </tr>\n",
              "    <tr>\n",
              "      <th>14</th>\n",
              "      <td>\\n\\n\\nРаботаю в ИТМО с 2007 года. Любопытно ка...</td>\n",
              "    </tr>\n",
              "    <tr>\n",
              "      <th>16</th>\n",
              "      <td>\\n\\n\\nДаже не знаю что нового рассказывать об ...</td>\n",
              "    </tr>\n",
              "    <tr>\n",
              "      <th>18</th>\n",
              "      <td>\\n\\n\\nЯ - студент-бакалавр 2го курса Робототех...</td>\n",
              "    </tr>\n",
              "    <tr>\n",
              "      <th>19</th>\n",
              "      <td>\\n\\n\\nЭтот пост не только, но в основном, для ...</td>\n",
              "    </tr>\n",
              "  </tbody>\n",
              "</table>\n",
              "</div>\n",
              "    <div class=\"colab-df-buttons\">\n",
              "\n",
              "  <div class=\"colab-df-container\">\n",
              "    <button class=\"colab-df-convert\" onclick=\"convertToInteractive('df-881eae15-bb41-456e-b27f-d38244342170')\"\n",
              "            title=\"Convert this dataframe to an interactive table.\"\n",
              "            style=\"display:none;\">\n",
              "\n",
              "  <svg xmlns=\"http://www.w3.org/2000/svg\" height=\"24px\" viewBox=\"0 -960 960 960\">\n",
              "    <path d=\"M120-120v-720h720v720H120Zm60-500h600v-160H180v160Zm220 220h160v-160H400v160Zm0 220h160v-160H400v160ZM180-400h160v-160H180v160Zm440 0h160v-160H620v160ZM180-180h160v-160H180v160Zm440 0h160v-160H620v160Z\"/>\n",
              "  </svg>\n",
              "    </button>\n",
              "\n",
              "  <style>\n",
              "    .colab-df-container {\n",
              "      display:flex;\n",
              "      gap: 12px;\n",
              "    }\n",
              "\n",
              "    .colab-df-convert {\n",
              "      background-color: #E8F0FE;\n",
              "      border: none;\n",
              "      border-radius: 50%;\n",
              "      cursor: pointer;\n",
              "      display: none;\n",
              "      fill: #1967D2;\n",
              "      height: 32px;\n",
              "      padding: 0 0 0 0;\n",
              "      width: 32px;\n",
              "    }\n",
              "\n",
              "    .colab-df-convert:hover {\n",
              "      background-color: #E2EBFA;\n",
              "      box-shadow: 0px 1px 2px rgba(60, 64, 67, 0.3), 0px 1px 3px 1px rgba(60, 64, 67, 0.15);\n",
              "      fill: #174EA6;\n",
              "    }\n",
              "\n",
              "    .colab-df-buttons div {\n",
              "      margin-bottom: 4px;\n",
              "    }\n",
              "\n",
              "    [theme=dark] .colab-df-convert {\n",
              "      background-color: #3B4455;\n",
              "      fill: #D2E3FC;\n",
              "    }\n",
              "\n",
              "    [theme=dark] .colab-df-convert:hover {\n",
              "      background-color: #434B5C;\n",
              "      box-shadow: 0px 1px 3px 1px rgba(0, 0, 0, 0.15);\n",
              "      filter: drop-shadow(0px 1px 2px rgba(0, 0, 0, 0.3));\n",
              "      fill: #FFFFFF;\n",
              "    }\n",
              "  </style>\n",
              "\n",
              "    <script>\n",
              "      const buttonEl =\n",
              "        document.querySelector('#df-881eae15-bb41-456e-b27f-d38244342170 button.colab-df-convert');\n",
              "      buttonEl.style.display =\n",
              "        google.colab.kernel.accessAllowed ? 'block' : 'none';\n",
              "\n",
              "      async function convertToInteractive(key) {\n",
              "        const element = document.querySelector('#df-881eae15-bb41-456e-b27f-d38244342170');\n",
              "        const dataTable =\n",
              "          await google.colab.kernel.invokeFunction('convertToInteractive',\n",
              "                                                    [key], {});\n",
              "        if (!dataTable) return;\n",
              "\n",
              "        const docLinkHtml = 'Like what you see? Visit the ' +\n",
              "          '<a target=\"_blank\" href=https://colab.research.google.com/notebooks/data_table.ipynb>data table notebook</a>'\n",
              "          + ' to learn more about interactive tables.';\n",
              "        element.innerHTML = '';\n",
              "        dataTable['output_type'] = 'display_data';\n",
              "        await google.colab.output.renderOutput(dataTable, element);\n",
              "        const docLink = document.createElement('div');\n",
              "        docLink.innerHTML = docLinkHtml;\n",
              "        element.appendChild(docLink);\n",
              "      }\n",
              "    </script>\n",
              "  </div>\n",
              "\n",
              "\n",
              "<div id=\"df-44d79bfa-f0fc-4d43-996e-888dbb84a909\">\n",
              "  <button class=\"colab-df-quickchart\" onclick=\"quickchart('df-44d79bfa-f0fc-4d43-996e-888dbb84a909')\"\n",
              "            title=\"Suggest charts.\"\n",
              "            style=\"display:none;\">\n",
              "\n",
              "<svg xmlns=\"http://www.w3.org/2000/svg\" height=\"24px\"viewBox=\"0 0 24 24\"\n",
              "     width=\"24px\">\n",
              "    <g>\n",
              "        <path d=\"M19 3H5c-1.1 0-2 .9-2 2v14c0 1.1.9 2 2 2h14c1.1 0 2-.9 2-2V5c0-1.1-.9-2-2-2zM9 17H7v-7h2v7zm4 0h-2V7h2v10zm4 0h-2v-4h2v4z\"/>\n",
              "    </g>\n",
              "</svg>\n",
              "  </button>\n",
              "\n",
              "<style>\n",
              "  .colab-df-quickchart {\n",
              "      --bg-color: #E8F0FE;\n",
              "      --fill-color: #1967D2;\n",
              "      --hover-bg-color: #E2EBFA;\n",
              "      --hover-fill-color: #174EA6;\n",
              "      --disabled-fill-color: #AAA;\n",
              "      --disabled-bg-color: #DDD;\n",
              "  }\n",
              "\n",
              "  [theme=dark] .colab-df-quickchart {\n",
              "      --bg-color: #3B4455;\n",
              "      --fill-color: #D2E3FC;\n",
              "      --hover-bg-color: #434B5C;\n",
              "      --hover-fill-color: #FFFFFF;\n",
              "      --disabled-bg-color: #3B4455;\n",
              "      --disabled-fill-color: #666;\n",
              "  }\n",
              "\n",
              "  .colab-df-quickchart {\n",
              "    background-color: var(--bg-color);\n",
              "    border: none;\n",
              "    border-radius: 50%;\n",
              "    cursor: pointer;\n",
              "    display: none;\n",
              "    fill: var(--fill-color);\n",
              "    height: 32px;\n",
              "    padding: 0;\n",
              "    width: 32px;\n",
              "  }\n",
              "\n",
              "  .colab-df-quickchart:hover {\n",
              "    background-color: var(--hover-bg-color);\n",
              "    box-shadow: 0 1px 2px rgba(60, 64, 67, 0.3), 0 1px 3px 1px rgba(60, 64, 67, 0.15);\n",
              "    fill: var(--button-hover-fill-color);\n",
              "  }\n",
              "\n",
              "  .colab-df-quickchart-complete:disabled,\n",
              "  .colab-df-quickchart-complete:disabled:hover {\n",
              "    background-color: var(--disabled-bg-color);\n",
              "    fill: var(--disabled-fill-color);\n",
              "    box-shadow: none;\n",
              "  }\n",
              "\n",
              "  .colab-df-spinner {\n",
              "    border: 2px solid var(--fill-color);\n",
              "    border-color: transparent;\n",
              "    border-bottom-color: var(--fill-color);\n",
              "    animation:\n",
              "      spin 1s steps(1) infinite;\n",
              "  }\n",
              "\n",
              "  @keyframes spin {\n",
              "    0% {\n",
              "      border-color: transparent;\n",
              "      border-bottom-color: var(--fill-color);\n",
              "      border-left-color: var(--fill-color);\n",
              "    }\n",
              "    20% {\n",
              "      border-color: transparent;\n",
              "      border-left-color: var(--fill-color);\n",
              "      border-top-color: var(--fill-color);\n",
              "    }\n",
              "    30% {\n",
              "      border-color: transparent;\n",
              "      border-left-color: var(--fill-color);\n",
              "      border-top-color: var(--fill-color);\n",
              "      border-right-color: var(--fill-color);\n",
              "    }\n",
              "    40% {\n",
              "      border-color: transparent;\n",
              "      border-right-color: var(--fill-color);\n",
              "      border-top-color: var(--fill-color);\n",
              "    }\n",
              "    60% {\n",
              "      border-color: transparent;\n",
              "      border-right-color: var(--fill-color);\n",
              "    }\n",
              "    80% {\n",
              "      border-color: transparent;\n",
              "      border-right-color: var(--fill-color);\n",
              "      border-bottom-color: var(--fill-color);\n",
              "    }\n",
              "    90% {\n",
              "      border-color: transparent;\n",
              "      border-bottom-color: var(--fill-color);\n",
              "    }\n",
              "  }\n",
              "</style>\n",
              "\n",
              "  <script>\n",
              "    async function quickchart(key) {\n",
              "      const quickchartButtonEl =\n",
              "        document.querySelector('#' + key + ' button');\n",
              "      quickchartButtonEl.disabled = true;  // To prevent multiple clicks.\n",
              "      quickchartButtonEl.classList.add('colab-df-spinner');\n",
              "      try {\n",
              "        const charts = await google.colab.kernel.invokeFunction(\n",
              "            'suggestCharts', [key], {});\n",
              "      } catch (error) {\n",
              "        console.error('Error during call to suggestCharts:', error);\n",
              "      }\n",
              "      quickchartButtonEl.classList.remove('colab-df-spinner');\n",
              "      quickchartButtonEl.classList.add('colab-df-quickchart-complete');\n",
              "    }\n",
              "    (() => {\n",
              "      let quickchartButtonEl =\n",
              "        document.querySelector('#df-44d79bfa-f0fc-4d43-996e-888dbb84a909 button');\n",
              "      quickchartButtonEl.style.display =\n",
              "        google.colab.kernel.accessAllowed ? 'block' : 'none';\n",
              "    })();\n",
              "  </script>\n",
              "</div>\n",
              "    </div>\n",
              "  </div>\n"
            ]
          },
          "metadata": {},
          "execution_count": 19
        }
      ]
    },
    {
      "cell_type": "code",
      "source": [
        "reviews_series['text'].str.extract(r'(\\d{4})').dropna()"
      ],
      "metadata": {
        "colab": {
          "base_uri": "https://localhost:8080/",
          "height": 488
        },
        "id": "EJouLZkwQ_o2",
        "outputId": "cde465db-161d-49bb-9c6e-e0ca7b05d406"
      },
      "execution_count": null,
      "outputs": [
        {
          "output_type": "execute_result",
          "data": {
            "text/plain": [
              "       0\n",
              "1   2014\n",
              "2   2019\n",
              "5   1005\n",
              "7   2008\n",
              "9   5300\n",
              "11  2016\n",
              "13  2018\n",
              "14  2007\n",
              "17  2020\n",
              "18  2019\n",
              "20  2003\n",
              "22  2019\n",
              "23  2019\n",
              "24  2000"
            ],
            "text/html": [
              "\n",
              "  <div id=\"df-8a045cd4-f531-474a-9ba3-d9e9bac0d1f1\" class=\"colab-df-container\">\n",
              "    <div>\n",
              "<style scoped>\n",
              "    .dataframe tbody tr th:only-of-type {\n",
              "        vertical-align: middle;\n",
              "    }\n",
              "\n",
              "    .dataframe tbody tr th {\n",
              "        vertical-align: top;\n",
              "    }\n",
              "\n",
              "    .dataframe thead th {\n",
              "        text-align: right;\n",
              "    }\n",
              "</style>\n",
              "<table border=\"1\" class=\"dataframe\">\n",
              "  <thead>\n",
              "    <tr style=\"text-align: right;\">\n",
              "      <th></th>\n",
              "      <th>0</th>\n",
              "    </tr>\n",
              "  </thead>\n",
              "  <tbody>\n",
              "    <tr>\n",
              "      <th>1</th>\n",
              "      <td>2014</td>\n",
              "    </tr>\n",
              "    <tr>\n",
              "      <th>2</th>\n",
              "      <td>2019</td>\n",
              "    </tr>\n",
              "    <tr>\n",
              "      <th>5</th>\n",
              "      <td>1005</td>\n",
              "    </tr>\n",
              "    <tr>\n",
              "      <th>7</th>\n",
              "      <td>2008</td>\n",
              "    </tr>\n",
              "    <tr>\n",
              "      <th>9</th>\n",
              "      <td>5300</td>\n",
              "    </tr>\n",
              "    <tr>\n",
              "      <th>11</th>\n",
              "      <td>2016</td>\n",
              "    </tr>\n",
              "    <tr>\n",
              "      <th>13</th>\n",
              "      <td>2018</td>\n",
              "    </tr>\n",
              "    <tr>\n",
              "      <th>14</th>\n",
              "      <td>2007</td>\n",
              "    </tr>\n",
              "    <tr>\n",
              "      <th>17</th>\n",
              "      <td>2020</td>\n",
              "    </tr>\n",
              "    <tr>\n",
              "      <th>18</th>\n",
              "      <td>2019</td>\n",
              "    </tr>\n",
              "    <tr>\n",
              "      <th>20</th>\n",
              "      <td>2003</td>\n",
              "    </tr>\n",
              "    <tr>\n",
              "      <th>22</th>\n",
              "      <td>2019</td>\n",
              "    </tr>\n",
              "    <tr>\n",
              "      <th>23</th>\n",
              "      <td>2019</td>\n",
              "    </tr>\n",
              "    <tr>\n",
              "      <th>24</th>\n",
              "      <td>2000</td>\n",
              "    </tr>\n",
              "  </tbody>\n",
              "</table>\n",
              "</div>\n",
              "    <div class=\"colab-df-buttons\">\n",
              "\n",
              "  <div class=\"colab-df-container\">\n",
              "    <button class=\"colab-df-convert\" onclick=\"convertToInteractive('df-8a045cd4-f531-474a-9ba3-d9e9bac0d1f1')\"\n",
              "            title=\"Convert this dataframe to an interactive table.\"\n",
              "            style=\"display:none;\">\n",
              "\n",
              "  <svg xmlns=\"http://www.w3.org/2000/svg\" height=\"24px\" viewBox=\"0 -960 960 960\">\n",
              "    <path d=\"M120-120v-720h720v720H120Zm60-500h600v-160H180v160Zm220 220h160v-160H400v160Zm0 220h160v-160H400v160ZM180-400h160v-160H180v160Zm440 0h160v-160H620v160ZM180-180h160v-160H180v160Zm440 0h160v-160H620v160Z\"/>\n",
              "  </svg>\n",
              "    </button>\n",
              "\n",
              "  <style>\n",
              "    .colab-df-container {\n",
              "      display:flex;\n",
              "      gap: 12px;\n",
              "    }\n",
              "\n",
              "    .colab-df-convert {\n",
              "      background-color: #E8F0FE;\n",
              "      border: none;\n",
              "      border-radius: 50%;\n",
              "      cursor: pointer;\n",
              "      display: none;\n",
              "      fill: #1967D2;\n",
              "      height: 32px;\n",
              "      padding: 0 0 0 0;\n",
              "      width: 32px;\n",
              "    }\n",
              "\n",
              "    .colab-df-convert:hover {\n",
              "      background-color: #E2EBFA;\n",
              "      box-shadow: 0px 1px 2px rgba(60, 64, 67, 0.3), 0px 1px 3px 1px rgba(60, 64, 67, 0.15);\n",
              "      fill: #174EA6;\n",
              "    }\n",
              "\n",
              "    .colab-df-buttons div {\n",
              "      margin-bottom: 4px;\n",
              "    }\n",
              "\n",
              "    [theme=dark] .colab-df-convert {\n",
              "      background-color: #3B4455;\n",
              "      fill: #D2E3FC;\n",
              "    }\n",
              "\n",
              "    [theme=dark] .colab-df-convert:hover {\n",
              "      background-color: #434B5C;\n",
              "      box-shadow: 0px 1px 3px 1px rgba(0, 0, 0, 0.15);\n",
              "      filter: drop-shadow(0px 1px 2px rgba(0, 0, 0, 0.3));\n",
              "      fill: #FFFFFF;\n",
              "    }\n",
              "  </style>\n",
              "\n",
              "    <script>\n",
              "      const buttonEl =\n",
              "        document.querySelector('#df-8a045cd4-f531-474a-9ba3-d9e9bac0d1f1 button.colab-df-convert');\n",
              "      buttonEl.style.display =\n",
              "        google.colab.kernel.accessAllowed ? 'block' : 'none';\n",
              "\n",
              "      async function convertToInteractive(key) {\n",
              "        const element = document.querySelector('#df-8a045cd4-f531-474a-9ba3-d9e9bac0d1f1');\n",
              "        const dataTable =\n",
              "          await google.colab.kernel.invokeFunction('convertToInteractive',\n",
              "                                                    [key], {});\n",
              "        if (!dataTable) return;\n",
              "\n",
              "        const docLinkHtml = 'Like what you see? Visit the ' +\n",
              "          '<a target=\"_blank\" href=https://colab.research.google.com/notebooks/data_table.ipynb>data table notebook</a>'\n",
              "          + ' to learn more about interactive tables.';\n",
              "        element.innerHTML = '';\n",
              "        dataTable['output_type'] = 'display_data';\n",
              "        await google.colab.output.renderOutput(dataTable, element);\n",
              "        const docLink = document.createElement('div');\n",
              "        docLink.innerHTML = docLinkHtml;\n",
              "        element.appendChild(docLink);\n",
              "      }\n",
              "    </script>\n",
              "  </div>\n",
              "\n",
              "\n",
              "<div id=\"df-c234e152-b36b-4084-a933-190690395c52\">\n",
              "  <button class=\"colab-df-quickchart\" onclick=\"quickchart('df-c234e152-b36b-4084-a933-190690395c52')\"\n",
              "            title=\"Suggest charts.\"\n",
              "            style=\"display:none;\">\n",
              "\n",
              "<svg xmlns=\"http://www.w3.org/2000/svg\" height=\"24px\"viewBox=\"0 0 24 24\"\n",
              "     width=\"24px\">\n",
              "    <g>\n",
              "        <path d=\"M19 3H5c-1.1 0-2 .9-2 2v14c0 1.1.9 2 2 2h14c1.1 0 2-.9 2-2V5c0-1.1-.9-2-2-2zM9 17H7v-7h2v7zm4 0h-2V7h2v10zm4 0h-2v-4h2v4z\"/>\n",
              "    </g>\n",
              "</svg>\n",
              "  </button>\n",
              "\n",
              "<style>\n",
              "  .colab-df-quickchart {\n",
              "      --bg-color: #E8F0FE;\n",
              "      --fill-color: #1967D2;\n",
              "      --hover-bg-color: #E2EBFA;\n",
              "      --hover-fill-color: #174EA6;\n",
              "      --disabled-fill-color: #AAA;\n",
              "      --disabled-bg-color: #DDD;\n",
              "  }\n",
              "\n",
              "  [theme=dark] .colab-df-quickchart {\n",
              "      --bg-color: #3B4455;\n",
              "      --fill-color: #D2E3FC;\n",
              "      --hover-bg-color: #434B5C;\n",
              "      --hover-fill-color: #FFFFFF;\n",
              "      --disabled-bg-color: #3B4455;\n",
              "      --disabled-fill-color: #666;\n",
              "  }\n",
              "\n",
              "  .colab-df-quickchart {\n",
              "    background-color: var(--bg-color);\n",
              "    border: none;\n",
              "    border-radius: 50%;\n",
              "    cursor: pointer;\n",
              "    display: none;\n",
              "    fill: var(--fill-color);\n",
              "    height: 32px;\n",
              "    padding: 0;\n",
              "    width: 32px;\n",
              "  }\n",
              "\n",
              "  .colab-df-quickchart:hover {\n",
              "    background-color: var(--hover-bg-color);\n",
              "    box-shadow: 0 1px 2px rgba(60, 64, 67, 0.3), 0 1px 3px 1px rgba(60, 64, 67, 0.15);\n",
              "    fill: var(--button-hover-fill-color);\n",
              "  }\n",
              "\n",
              "  .colab-df-quickchart-complete:disabled,\n",
              "  .colab-df-quickchart-complete:disabled:hover {\n",
              "    background-color: var(--disabled-bg-color);\n",
              "    fill: var(--disabled-fill-color);\n",
              "    box-shadow: none;\n",
              "  }\n",
              "\n",
              "  .colab-df-spinner {\n",
              "    border: 2px solid var(--fill-color);\n",
              "    border-color: transparent;\n",
              "    border-bottom-color: var(--fill-color);\n",
              "    animation:\n",
              "      spin 1s steps(1) infinite;\n",
              "  }\n",
              "\n",
              "  @keyframes spin {\n",
              "    0% {\n",
              "      border-color: transparent;\n",
              "      border-bottom-color: var(--fill-color);\n",
              "      border-left-color: var(--fill-color);\n",
              "    }\n",
              "    20% {\n",
              "      border-color: transparent;\n",
              "      border-left-color: var(--fill-color);\n",
              "      border-top-color: var(--fill-color);\n",
              "    }\n",
              "    30% {\n",
              "      border-color: transparent;\n",
              "      border-left-color: var(--fill-color);\n",
              "      border-top-color: var(--fill-color);\n",
              "      border-right-color: var(--fill-color);\n",
              "    }\n",
              "    40% {\n",
              "      border-color: transparent;\n",
              "      border-right-color: var(--fill-color);\n",
              "      border-top-color: var(--fill-color);\n",
              "    }\n",
              "    60% {\n",
              "      border-color: transparent;\n",
              "      border-right-color: var(--fill-color);\n",
              "    }\n",
              "    80% {\n",
              "      border-color: transparent;\n",
              "      border-right-color: var(--fill-color);\n",
              "      border-bottom-color: var(--fill-color);\n",
              "    }\n",
              "    90% {\n",
              "      border-color: transparent;\n",
              "      border-bottom-color: var(--fill-color);\n",
              "    }\n",
              "  }\n",
              "</style>\n",
              "\n",
              "  <script>\n",
              "    async function quickchart(key) {\n",
              "      const quickchartButtonEl =\n",
              "        document.querySelector('#' + key + ' button');\n",
              "      quickchartButtonEl.disabled = true;  // To prevent multiple clicks.\n",
              "      quickchartButtonEl.classList.add('colab-df-spinner');\n",
              "      try {\n",
              "        const charts = await google.colab.kernel.invokeFunction(\n",
              "            'suggestCharts', [key], {});\n",
              "      } catch (error) {\n",
              "        console.error('Error during call to suggestCharts:', error);\n",
              "      }\n",
              "      quickchartButtonEl.classList.remove('colab-df-spinner');\n",
              "      quickchartButtonEl.classList.add('colab-df-quickchart-complete');\n",
              "    }\n",
              "    (() => {\n",
              "      let quickchartButtonEl =\n",
              "        document.querySelector('#df-c234e152-b36b-4084-a933-190690395c52 button');\n",
              "      quickchartButtonEl.style.display =\n",
              "        google.colab.kernel.accessAllowed ? 'block' : 'none';\n",
              "    })();\n",
              "  </script>\n",
              "</div>\n",
              "    </div>\n",
              "  </div>\n"
            ]
          },
          "metadata": {},
          "execution_count": 20
        }
      ]
    },
    {
      "cell_type": "code",
      "source": [
        "reviews_series['text'].str.findall(r'(?:у|)лучш[а-я]+')"
      ],
      "metadata": {
        "colab": {
          "base_uri": "https://localhost:8080/"
        },
        "id": "OFr2C3ObR-Q-",
        "outputId": "17d7f5ae-10f0-4210-9888-f2d204cccc45"
      },
      "execution_count": null,
      "outputs": [
        {
          "output_type": "execute_result",
          "data": {
            "text/plain": [
              "0                              []\n",
              "1                              []\n",
              "2                              []\n",
              "3                              []\n",
              "4          [лучшем, лучше, лучше]\n",
              "5                              []\n",
              "6                              []\n",
              "7           [лучше, лучше, лучше]\n",
              "8                              []\n",
              "9                              []\n",
              "10                             []\n",
              "11                        [лучше]\n",
              "12                       [лучшее]\n",
              "13                [лучших, лучше]\n",
              "14                       [лучшее]\n",
              "15                             []\n",
              "16               [лучшие, лучший]\n",
              "17                             []\n",
              "18                             []\n",
              "19                       [лучшую]\n",
              "20                             []\n",
              "21                             []\n",
              "22                      [лучшего]\n",
              "23                             []\n",
              "24    [лучший, улучшения, лучшую]\n",
              "Name: text, dtype: object"
            ]
          },
          "metadata": {},
          "execution_count": 21
        }
      ]
    },
    {
      "cell_type": "markdown",
      "source": [
        "Задание: с помощью регулярных выражений выполнить [задачу на сайте](https://acmp.ru/index.asp?main=task&id_task=870)."
      ],
      "metadata": {
        "id": "drZxbwbl7QU9"
      }
    },
    {
      "cell_type": "markdown",
      "source": [
        "# Очистка текстов. Нормализация"
      ],
      "metadata": {
        "id": "7PEis-hx4g87"
      }
    },
    {
      "cell_type": "markdown",
      "source": [
        "Для последующей работы возьмем тексты из ВКонтакте, собранные для задачи классификации новостей."
      ],
      "metadata": {
        "id": "BgmA5gZTHWQp"
      }
    },
    {
      "cell_type": "code",
      "source": [
        "from google.colab import drive\n",
        "\n",
        "drive.mount('/content/drive')"
      ],
      "metadata": {
        "colab": {
          "base_uri": "https://localhost:8080/"
        },
        "id": "7UMg4dHgICtc",
        "outputId": "46d7a1be-99cf-41bf-97ee-3c535ae65849"
      },
      "execution_count": null,
      "outputs": [
        {
          "output_type": "stream",
          "name": "stdout",
          "text": [
            "Mounted at /content/drive\n"
          ]
        }
      ]
    },
    {
      "cell_type": "code",
      "source": [
        "vk_df = pd.read_csv('/content/drive/MyDrive/Work/NLP 23 24/data/vk_data.csv').dropna()\n",
        "vk_df.sample(5)"
      ],
      "metadata": {
        "colab": {
          "base_uri": "https://localhost:8080/",
          "height": 206
        },
        "id": "xN8LPLUOIGBA",
        "outputId": "88373861-015e-4050-86fc-bb2c5d0e2e4e"
      },
      "execution_count": null,
      "outputs": [
        {
          "output_type": "execute_result",
          "data": {
            "text/plain": [
              "                                                   text            category  \\\n",
              "7813  Мысли за дневным капучино: Уоррен Баффетт что-...             Финансы   \n",
              "628   я могу до ручки\\nдовести сама\\nгде у вас довод...  Развлечения и юмор   \n",
              "169   наплевать на твой знак зодиака, лучше скажи, к...               Блоги   \n",
              "605   не купив ответы\\nна экзамен прусь\\nкак тебе та...  Развлечения и юмор   \n",
              "8462                  «В некоторых распятый бог», 2015.              Другое   \n",
              "\n",
              "      is_ad  \n",
              "7813      0  \n",
              "628       0  \n",
              "169       0  \n",
              "605       0  \n",
              "8462      0  "
            ],
            "text/html": [
              "\n",
              "  <div id=\"df-9d2421cc-b232-4d28-b9f7-8183d5e35121\" class=\"colab-df-container\">\n",
              "    <div>\n",
              "<style scoped>\n",
              "    .dataframe tbody tr th:only-of-type {\n",
              "        vertical-align: middle;\n",
              "    }\n",
              "\n",
              "    .dataframe tbody tr th {\n",
              "        vertical-align: top;\n",
              "    }\n",
              "\n",
              "    .dataframe thead th {\n",
              "        text-align: right;\n",
              "    }\n",
              "</style>\n",
              "<table border=\"1\" class=\"dataframe\">\n",
              "  <thead>\n",
              "    <tr style=\"text-align: right;\">\n",
              "      <th></th>\n",
              "      <th>text</th>\n",
              "      <th>category</th>\n",
              "      <th>is_ad</th>\n",
              "    </tr>\n",
              "  </thead>\n",
              "  <tbody>\n",
              "    <tr>\n",
              "      <th>7813</th>\n",
              "      <td>Мысли за дневным капучино: Уоррен Баффетт что-...</td>\n",
              "      <td>Финансы</td>\n",
              "      <td>0</td>\n",
              "    </tr>\n",
              "    <tr>\n",
              "      <th>628</th>\n",
              "      <td>я могу до ручки\\nдовести сама\\nгде у вас довод...</td>\n",
              "      <td>Развлечения и юмор</td>\n",
              "      <td>0</td>\n",
              "    </tr>\n",
              "    <tr>\n",
              "      <th>169</th>\n",
              "      <td>наплевать на твой знак зодиака, лучше скажи, к...</td>\n",
              "      <td>Блоги</td>\n",
              "      <td>0</td>\n",
              "    </tr>\n",
              "    <tr>\n",
              "      <th>605</th>\n",
              "      <td>не купив ответы\\nна экзамен прусь\\nкак тебе та...</td>\n",
              "      <td>Развлечения и юмор</td>\n",
              "      <td>0</td>\n",
              "    </tr>\n",
              "    <tr>\n",
              "      <th>8462</th>\n",
              "      <td>«В некоторых распятый бог», 2015.</td>\n",
              "      <td>Другое</td>\n",
              "      <td>0</td>\n",
              "    </tr>\n",
              "  </tbody>\n",
              "</table>\n",
              "</div>\n",
              "    <div class=\"colab-df-buttons\">\n",
              "\n",
              "  <div class=\"colab-df-container\">\n",
              "    <button class=\"colab-df-convert\" onclick=\"convertToInteractive('df-9d2421cc-b232-4d28-b9f7-8183d5e35121')\"\n",
              "            title=\"Convert this dataframe to an interactive table.\"\n",
              "            style=\"display:none;\">\n",
              "\n",
              "  <svg xmlns=\"http://www.w3.org/2000/svg\" height=\"24px\" viewBox=\"0 -960 960 960\">\n",
              "    <path d=\"M120-120v-720h720v720H120Zm60-500h600v-160H180v160Zm220 220h160v-160H400v160Zm0 220h160v-160H400v160ZM180-400h160v-160H180v160Zm440 0h160v-160H620v160ZM180-180h160v-160H180v160Zm440 0h160v-160H620v160Z\"/>\n",
              "  </svg>\n",
              "    </button>\n",
              "\n",
              "  <style>\n",
              "    .colab-df-container {\n",
              "      display:flex;\n",
              "      gap: 12px;\n",
              "    }\n",
              "\n",
              "    .colab-df-convert {\n",
              "      background-color: #E8F0FE;\n",
              "      border: none;\n",
              "      border-radius: 50%;\n",
              "      cursor: pointer;\n",
              "      display: none;\n",
              "      fill: #1967D2;\n",
              "      height: 32px;\n",
              "      padding: 0 0 0 0;\n",
              "      width: 32px;\n",
              "    }\n",
              "\n",
              "    .colab-df-convert:hover {\n",
              "      background-color: #E2EBFA;\n",
              "      box-shadow: 0px 1px 2px rgba(60, 64, 67, 0.3), 0px 1px 3px 1px rgba(60, 64, 67, 0.15);\n",
              "      fill: #174EA6;\n",
              "    }\n",
              "\n",
              "    .colab-df-buttons div {\n",
              "      margin-bottom: 4px;\n",
              "    }\n",
              "\n",
              "    [theme=dark] .colab-df-convert {\n",
              "      background-color: #3B4455;\n",
              "      fill: #D2E3FC;\n",
              "    }\n",
              "\n",
              "    [theme=dark] .colab-df-convert:hover {\n",
              "      background-color: #434B5C;\n",
              "      box-shadow: 0px 1px 3px 1px rgba(0, 0, 0, 0.15);\n",
              "      filter: drop-shadow(0px 1px 2px rgba(0, 0, 0, 0.3));\n",
              "      fill: #FFFFFF;\n",
              "    }\n",
              "  </style>\n",
              "\n",
              "    <script>\n",
              "      const buttonEl =\n",
              "        document.querySelector('#df-9d2421cc-b232-4d28-b9f7-8183d5e35121 button.colab-df-convert');\n",
              "      buttonEl.style.display =\n",
              "        google.colab.kernel.accessAllowed ? 'block' : 'none';\n",
              "\n",
              "      async function convertToInteractive(key) {\n",
              "        const element = document.querySelector('#df-9d2421cc-b232-4d28-b9f7-8183d5e35121');\n",
              "        const dataTable =\n",
              "          await google.colab.kernel.invokeFunction('convertToInteractive',\n",
              "                                                    [key], {});\n",
              "        if (!dataTable) return;\n",
              "\n",
              "        const docLinkHtml = 'Like what you see? Visit the ' +\n",
              "          '<a target=\"_blank\" href=https://colab.research.google.com/notebooks/data_table.ipynb>data table notebook</a>'\n",
              "          + ' to learn more about interactive tables.';\n",
              "        element.innerHTML = '';\n",
              "        dataTable['output_type'] = 'display_data';\n",
              "        await google.colab.output.renderOutput(dataTable, element);\n",
              "        const docLink = document.createElement('div');\n",
              "        docLink.innerHTML = docLinkHtml;\n",
              "        element.appendChild(docLink);\n",
              "      }\n",
              "    </script>\n",
              "  </div>\n",
              "\n",
              "\n",
              "<div id=\"df-8d94f2a9-7d13-4ee5-8f69-12df429ed56b\">\n",
              "  <button class=\"colab-df-quickchart\" onclick=\"quickchart('df-8d94f2a9-7d13-4ee5-8f69-12df429ed56b')\"\n",
              "            title=\"Suggest charts.\"\n",
              "            style=\"display:none;\">\n",
              "\n",
              "<svg xmlns=\"http://www.w3.org/2000/svg\" height=\"24px\"viewBox=\"0 0 24 24\"\n",
              "     width=\"24px\">\n",
              "    <g>\n",
              "        <path d=\"M19 3H5c-1.1 0-2 .9-2 2v14c0 1.1.9 2 2 2h14c1.1 0 2-.9 2-2V5c0-1.1-.9-2-2-2zM9 17H7v-7h2v7zm4 0h-2V7h2v10zm4 0h-2v-4h2v4z\"/>\n",
              "    </g>\n",
              "</svg>\n",
              "  </button>\n",
              "\n",
              "<style>\n",
              "  .colab-df-quickchart {\n",
              "      --bg-color: #E8F0FE;\n",
              "      --fill-color: #1967D2;\n",
              "      --hover-bg-color: #E2EBFA;\n",
              "      --hover-fill-color: #174EA6;\n",
              "      --disabled-fill-color: #AAA;\n",
              "      --disabled-bg-color: #DDD;\n",
              "  }\n",
              "\n",
              "  [theme=dark] .colab-df-quickchart {\n",
              "      --bg-color: #3B4455;\n",
              "      --fill-color: #D2E3FC;\n",
              "      --hover-bg-color: #434B5C;\n",
              "      --hover-fill-color: #FFFFFF;\n",
              "      --disabled-bg-color: #3B4455;\n",
              "      --disabled-fill-color: #666;\n",
              "  }\n",
              "\n",
              "  .colab-df-quickchart {\n",
              "    background-color: var(--bg-color);\n",
              "    border: none;\n",
              "    border-radius: 50%;\n",
              "    cursor: pointer;\n",
              "    display: none;\n",
              "    fill: var(--fill-color);\n",
              "    height: 32px;\n",
              "    padding: 0;\n",
              "    width: 32px;\n",
              "  }\n",
              "\n",
              "  .colab-df-quickchart:hover {\n",
              "    background-color: var(--hover-bg-color);\n",
              "    box-shadow: 0 1px 2px rgba(60, 64, 67, 0.3), 0 1px 3px 1px rgba(60, 64, 67, 0.15);\n",
              "    fill: var(--button-hover-fill-color);\n",
              "  }\n",
              "\n",
              "  .colab-df-quickchart-complete:disabled,\n",
              "  .colab-df-quickchart-complete:disabled:hover {\n",
              "    background-color: var(--disabled-bg-color);\n",
              "    fill: var(--disabled-fill-color);\n",
              "    box-shadow: none;\n",
              "  }\n",
              "\n",
              "  .colab-df-spinner {\n",
              "    border: 2px solid var(--fill-color);\n",
              "    border-color: transparent;\n",
              "    border-bottom-color: var(--fill-color);\n",
              "    animation:\n",
              "      spin 1s steps(1) infinite;\n",
              "  }\n",
              "\n",
              "  @keyframes spin {\n",
              "    0% {\n",
              "      border-color: transparent;\n",
              "      border-bottom-color: var(--fill-color);\n",
              "      border-left-color: var(--fill-color);\n",
              "    }\n",
              "    20% {\n",
              "      border-color: transparent;\n",
              "      border-left-color: var(--fill-color);\n",
              "      border-top-color: var(--fill-color);\n",
              "    }\n",
              "    30% {\n",
              "      border-color: transparent;\n",
              "      border-left-color: var(--fill-color);\n",
              "      border-top-color: var(--fill-color);\n",
              "      border-right-color: var(--fill-color);\n",
              "    }\n",
              "    40% {\n",
              "      border-color: transparent;\n",
              "      border-right-color: var(--fill-color);\n",
              "      border-top-color: var(--fill-color);\n",
              "    }\n",
              "    60% {\n",
              "      border-color: transparent;\n",
              "      border-right-color: var(--fill-color);\n",
              "    }\n",
              "    80% {\n",
              "      border-color: transparent;\n",
              "      border-right-color: var(--fill-color);\n",
              "      border-bottom-color: var(--fill-color);\n",
              "    }\n",
              "    90% {\n",
              "      border-color: transparent;\n",
              "      border-bottom-color: var(--fill-color);\n",
              "    }\n",
              "  }\n",
              "</style>\n",
              "\n",
              "  <script>\n",
              "    async function quickchart(key) {\n",
              "      const quickchartButtonEl =\n",
              "        document.querySelector('#' + key + ' button');\n",
              "      quickchartButtonEl.disabled = true;  // To prevent multiple clicks.\n",
              "      quickchartButtonEl.classList.add('colab-df-spinner');\n",
              "      try {\n",
              "        const charts = await google.colab.kernel.invokeFunction(\n",
              "            'suggestCharts', [key], {});\n",
              "      } catch (error) {\n",
              "        console.error('Error during call to suggestCharts:', error);\n",
              "      }\n",
              "      quickchartButtonEl.classList.remove('colab-df-spinner');\n",
              "      quickchartButtonEl.classList.add('colab-df-quickchart-complete');\n",
              "    }\n",
              "    (() => {\n",
              "      let quickchartButtonEl =\n",
              "        document.querySelector('#df-8d94f2a9-7d13-4ee5-8f69-12df429ed56b button');\n",
              "      quickchartButtonEl.style.display =\n",
              "        google.colab.kernel.accessAllowed ? 'block' : 'none';\n",
              "    })();\n",
              "  </script>\n",
              "</div>\n",
              "    </div>\n",
              "  </div>\n"
            ]
          },
          "metadata": {},
          "execution_count": 23
        }
      ]
    },
    {
      "cell_type": "code",
      "source": [
        "vk_df.category.value_counts()"
      ],
      "metadata": {
        "colab": {
          "base_uri": "https://localhost:8080/"
        },
        "id": "AdHA78cxIlr9",
        "outputId": "f76e9ba5-c88c-4cd9-f292-35085572d2ba"
      },
      "execution_count": null,
      "outputs": [
        {
          "output_type": "execute_result",
          "data": {
            "text/plain": [
              "Образование и познавательное    300\n",
              "Развлечения и юмор              300\n",
              "Финансы                         300\n",
              "Маркетинг, PR, реклама          300\n",
              "Музыка                          300\n",
              "Софт и приложения               299\n",
              "Технологии                      299\n",
              "Бизнес и стартапы               299\n",
              "Шоубиз                          297\n",
              "Рукоделие                       297\n",
              "Блоги                           297\n",
              "Другое                          297\n",
              "Право                           295\n",
              "Видео и фильмы                  295\n",
              "Новости и СМИ                   294\n",
              "Искусство                       294\n",
              "Экономика                       294\n",
              "Путешествия                     291\n",
              "Игры                            286\n",
              "Здоровье и медицина             283\n",
              "Картинки и фото                 277\n",
              "Мода и красота                  269\n",
              "Цитаты                          269\n",
              "Еда и кулинария                 254\n",
              "Дизайн                          230\n",
              "Политика                        207\n",
              "Психология                      193\n",
              "Спорт                           165\n",
              "Криптовалюты                    150\n",
              "Name: category, dtype: int64"
            ]
          },
          "metadata": {},
          "execution_count": 24
        }
      ]
    },
    {
      "cell_type": "markdown",
      "source": [
        "Установим [библиотеку](https://jcharis.github.io/neattext/), содержащую готовые шаблоны для предобработки. Важно: изначально библиотека рассчитана на работу с английским, поэтому \"доверяй, но проверяй\"."
      ],
      "metadata": {
        "id": "v7QIqvr1K9-W"
      }
    },
    {
      "cell_type": "code",
      "source": [
        "%%capture\n",
        "!pip install neattext"
      ],
      "metadata": {
        "id": "F5rtN_KPJBRh"
      },
      "execution_count": null,
      "outputs": []
    },
    {
      "cell_type": "code",
      "source": [
        "import neattext as nt\n",
        "import neattext.functions as nfx\n",
        "\n",
        "test = vk_df.sample().text.tolist()[0]\n",
        "print(test)"
      ],
      "metadata": {
        "colab": {
          "base_uri": "https://localhost:8080/"
        },
        "id": "8PDmeA4vKgQo",
        "outputId": "a1534137-8302-4e46-b928-1358d4feefbe"
      },
      "execution_count": null,
      "outputs": [
        {
          "output_type": "stream",
          "name": "stdout",
          "text": [
            "Подборка временно бесплатных игр и приложений на Android \n",
            " \n",
            "1. Merge Monster VIP (https://play.google.com/store/apps/details?id=com.eastmoon.mergemonvip) - головоломка; \n",
            "2. King of Defense Premium (https://play.google.com/store/apps/details?id=com.gcenter.kingofdefense.merge.tower.td&hl=en) - стратегия; \n",
            "3. Sword Knights (https://play.google.com/store/apps/details?id=com.honeydew.stealerpremium&hl=en) - ролевая игра; \n",
            "4. Tap Town Premium (https://play.google.com/store/apps/details?id=com.honeydew.vip.herostores&hl=en) - ролеплей RPG.\n"
          ]
        }
      ]
    },
    {
      "cell_type": "markdown",
      "source": [
        "Найдите отличие и предположите, в чём причина."
      ],
      "metadata": {
        "id": "igEO2ZQGQTlA"
      }
    },
    {
      "cell_type": "code",
      "source": [
        "nfx.clean_text(test,\n",
        "               puncts=False,\n",
        "               stopwords=False,\n",
        "               urls=True,\n",
        "               emails=True,\n",
        "               numbers=True,\n",
        "               emojis=True,\n",
        "               special_char=False,\n",
        "               phone_num=True,\n",
        "               non_ascii=False,\n",
        "               multiple_whitespaces=True,\n",
        "               contractions=True,\n",
        "               currency_symbols=True,\n",
        "               custom_pattern=None)"
      ],
      "metadata": {
        "colab": {
          "base_uri": "https://localhost:8080/",
          "height": 53
        },
        "id": "_K4Z86DqLIWc",
        "outputId": "8a8aa059-f1eb-47dc-bf15-1e82d04581ef"
      },
      "execution_count": null,
      "outputs": [
        {
          "output_type": "execute_result",
          "data": {
            "text/plain": [
              "'подборка временно бесплатных игр и приложений на android . merge monster vip () - головоломка; . king of defense premium () - стратегия; . sword knights () - ролевая игра; . tap town premium () - ролеплей rpg.'"
            ],
            "application/vnd.google.colaboratory.intrinsic+json": {
              "type": "string"
            }
          },
          "metadata": {},
          "execution_count": 27
        }
      ]
    },
    {
      "cell_type": "code",
      "source": [
        "nfx.clean_text(test,\n",
        "               puncts=True,  # единственное, что поменялось относительно предыдущей ячейки\n",
        "               stopwords=False,\n",
        "               urls=True,\n",
        "               emails=True,\n",
        "               numbers=True,\n",
        "               emojis=True,\n",
        "               special_char=False,\n",
        "               phone_num=True,\n",
        "               non_ascii=False,\n",
        "               multiple_whitespaces=True,\n",
        "               contractions=True,\n",
        "               currency_symbols=True,\n",
        "               custom_pattern=None)"
      ],
      "metadata": {
        "colab": {
          "base_uri": "https://localhost:8080/",
          "height": 70
        },
        "id": "iE6K8yuGQYFs",
        "outputId": "66bf9437-88c3-472f-97bc-6fc9b2086785"
      },
      "execution_count": null,
      "outputs": [
        {
          "output_type": "execute_result",
          "data": {
            "text/plain": [
              "'подборка временно бесплатных игр и приложений на android merge monster vip (https://playgooglecom/store/apps/detailsid=comeastmoonmergemonvip) головоломка king of defense premium (https://playgooglecom/store/apps/detailsid=comgcenterkingofdefensemergetowertdhl=en) стратегия sword knights (https://playgooglecom/store/apps/detailsid=comhoneydewstealerpremiumhl=en) ролевая игра tap town premium (https://playgooglecom/store/apps/detailsid=comhoneydewvipherostoreshl=en) ролеплей rpg'"
            ],
            "application/vnd.google.colaboratory.intrinsic+json": {
              "type": "string"
            }
          },
          "metadata": {},
          "execution_count": 28
        }
      ]
    },
    {
      "cell_type": "markdown",
      "source": [
        "Альтернативный способ сделать то же самое, но здесь вы сами отвечаете за порядок выполнения операций."
      ],
      "metadata": {
        "id": "RMgzIvvKRelH"
      }
    },
    {
      "cell_type": "code",
      "source": [
        "docx = nt.TextFrame(test)\n",
        "docx.remove_emojis().remove_urls().remove_emails().remove_html_tags().remove_numbers().remove_puncts().remove_stopwords(lang='ru').fix_contractions()"
      ],
      "metadata": {
        "colab": {
          "base_uri": "https://localhost:8080/",
          "height": 53
        },
        "id": "zvqKNUaILIZ4",
        "outputId": "8020d775-73ef-47dd-8066-bf23a91766ff"
      },
      "execution_count": null,
      "outputs": [
        {
          "output_type": "execute_result",
          "data": {
            "text/plain": [
              "'подборка временно бесплатных игр приложений android merge monster vip () головоломка king of defense premium () стратегия sword knights () ролевая игра tap town premium () ролеплей rpg'"
            ],
            "application/vnd.google.colaboratory.intrinsic+json": {
              "type": "string"
            }
          },
          "metadata": {},
          "execution_count": 29
        }
      ]
    },
    {
      "cell_type": "markdown",
      "source": [
        "Можно и нужно добавлять свои шаги предобработки."
      ],
      "metadata": {
        "id": "EjjVlbxwT0In"
      }
    },
    {
      "cell_type": "code",
      "source": [
        "def preprocess_text(text):\n",
        "  docx = nt.TextFrame(text)\n",
        "  preprocessed = docx.remove_emojis().remove_urls().remove_emails().remove_html_tags().fix_contractions()\n",
        "  preprocessed = re.sub(r'[^а-яёa-z ]', ' ', preprocessed)  # оставляем только буквенные символы. обратите внимание, что 'ё' нужно указывать отдельно\n",
        "  preprocessed = re.sub(r'\\s+', ' ', preprocessed)  # убираем лишние пробелы\n",
        "  return preprocessed.strip()"
      ],
      "metadata": {
        "id": "UpV3v0xYT4vR"
      },
      "execution_count": null,
      "outputs": []
    },
    {
      "cell_type": "code",
      "source": [
        "preprocess_text(test)"
      ],
      "metadata": {
        "colab": {
          "base_uri": "https://localhost:8080/",
          "height": 36
        },
        "id": "f8WeCPujUmfj",
        "outputId": "2e289fcc-6be2-41bb-85aa-32798adf6e15"
      },
      "execution_count": null,
      "outputs": [
        {
          "output_type": "execute_result",
          "data": {
            "text/plain": [
              "'подборка временно бесплатных игр и приложений на android merge monster vip головоломка king of defense premium стратегия sword knights ролевая игра tap town premium ролеплей rpg'"
            ],
            "application/vnd.google.colaboratory.intrinsic+json": {
              "type": "string"
            }
          },
          "metadata": {},
          "execution_count": 31
        }
      ]
    },
    {
      "cell_type": "code",
      "source": [
        "vk_df['preprocessed'] = vk_df['text'].apply(preprocess_text)\n",
        "vk_df.sample(5)"
      ],
      "metadata": {
        "colab": {
          "base_uri": "https://localhost:8080/",
          "height": 206
        },
        "id": "GnyMWkBfUuDI",
        "outputId": "8c332a88-a2b0-4881-eac4-f3c68a8a3a91"
      },
      "execution_count": null,
      "outputs": [
        {
          "output_type": "execute_result",
          "data": {
            "text/plain": [
              "                                                   text    category  is_ad  \\\n",
              "3171  Похоже, сотрудники российского посольства в Пх...    Политика      0   \n",
              "2740  Мужчина, фантазирующий о том, что жена бросает...  Психология      0   \n",
              "1071  🧨 - 33% на все!\\n\\nДо конца июля вы можете при...  Технологии      0   \n",
              "3133  Граффити для новичков: приемы, техники и теори...      Дизайн      0   \n",
              "3987  Пункт 10 Порядка оказания скорой, в том числе ...       Право      0   \n",
              "\n",
              "                                           preprocessed  \n",
              "3171  похоже сотрудники российского посольства в пхе...  \n",
              "2740  мужчина фантазирующий о том что жена бросает е...  \n",
              "1071  на все до конца июля вы можете приобрести курс...  \n",
              "3133  граффити для новичков приемы техники и теория ...  \n",
              "3987  пункт порядка оказания скорой в том числе скор...  "
            ],
            "text/html": [
              "\n",
              "  <div id=\"df-946d5eea-cc91-4384-af9b-7148c211a3b6\" class=\"colab-df-container\">\n",
              "    <div>\n",
              "<style scoped>\n",
              "    .dataframe tbody tr th:only-of-type {\n",
              "        vertical-align: middle;\n",
              "    }\n",
              "\n",
              "    .dataframe tbody tr th {\n",
              "        vertical-align: top;\n",
              "    }\n",
              "\n",
              "    .dataframe thead th {\n",
              "        text-align: right;\n",
              "    }\n",
              "</style>\n",
              "<table border=\"1\" class=\"dataframe\">\n",
              "  <thead>\n",
              "    <tr style=\"text-align: right;\">\n",
              "      <th></th>\n",
              "      <th>text</th>\n",
              "      <th>category</th>\n",
              "      <th>is_ad</th>\n",
              "      <th>preprocessed</th>\n",
              "    </tr>\n",
              "  </thead>\n",
              "  <tbody>\n",
              "    <tr>\n",
              "      <th>3171</th>\n",
              "      <td>Похоже, сотрудники российского посольства в Пх...</td>\n",
              "      <td>Политика</td>\n",
              "      <td>0</td>\n",
              "      <td>похоже сотрудники российского посольства в пхе...</td>\n",
              "    </tr>\n",
              "    <tr>\n",
              "      <th>2740</th>\n",
              "      <td>Мужчина, фантазирующий о том, что жена бросает...</td>\n",
              "      <td>Психология</td>\n",
              "      <td>0</td>\n",
              "      <td>мужчина фантазирующий о том что жена бросает е...</td>\n",
              "    </tr>\n",
              "    <tr>\n",
              "      <th>1071</th>\n",
              "      <td>🧨 - 33% на все!\\n\\nДо конца июля вы можете при...</td>\n",
              "      <td>Технологии</td>\n",
              "      <td>0</td>\n",
              "      <td>на все до конца июля вы можете приобрести курс...</td>\n",
              "    </tr>\n",
              "    <tr>\n",
              "      <th>3133</th>\n",
              "      <td>Граффити для новичков: приемы, техники и теори...</td>\n",
              "      <td>Дизайн</td>\n",
              "      <td>0</td>\n",
              "      <td>граффити для новичков приемы техники и теория ...</td>\n",
              "    </tr>\n",
              "    <tr>\n",
              "      <th>3987</th>\n",
              "      <td>Пункт 10 Порядка оказания скорой, в том числе ...</td>\n",
              "      <td>Право</td>\n",
              "      <td>0</td>\n",
              "      <td>пункт порядка оказания скорой в том числе скор...</td>\n",
              "    </tr>\n",
              "  </tbody>\n",
              "</table>\n",
              "</div>\n",
              "    <div class=\"colab-df-buttons\">\n",
              "\n",
              "  <div class=\"colab-df-container\">\n",
              "    <button class=\"colab-df-convert\" onclick=\"convertToInteractive('df-946d5eea-cc91-4384-af9b-7148c211a3b6')\"\n",
              "            title=\"Convert this dataframe to an interactive table.\"\n",
              "            style=\"display:none;\">\n",
              "\n",
              "  <svg xmlns=\"http://www.w3.org/2000/svg\" height=\"24px\" viewBox=\"0 -960 960 960\">\n",
              "    <path d=\"M120-120v-720h720v720H120Zm60-500h600v-160H180v160Zm220 220h160v-160H400v160Zm0 220h160v-160H400v160ZM180-400h160v-160H180v160Zm440 0h160v-160H620v160ZM180-180h160v-160H180v160Zm440 0h160v-160H620v160Z\"/>\n",
              "  </svg>\n",
              "    </button>\n",
              "\n",
              "  <style>\n",
              "    .colab-df-container {\n",
              "      display:flex;\n",
              "      gap: 12px;\n",
              "    }\n",
              "\n",
              "    .colab-df-convert {\n",
              "      background-color: #E8F0FE;\n",
              "      border: none;\n",
              "      border-radius: 50%;\n",
              "      cursor: pointer;\n",
              "      display: none;\n",
              "      fill: #1967D2;\n",
              "      height: 32px;\n",
              "      padding: 0 0 0 0;\n",
              "      width: 32px;\n",
              "    }\n",
              "\n",
              "    .colab-df-convert:hover {\n",
              "      background-color: #E2EBFA;\n",
              "      box-shadow: 0px 1px 2px rgba(60, 64, 67, 0.3), 0px 1px 3px 1px rgba(60, 64, 67, 0.15);\n",
              "      fill: #174EA6;\n",
              "    }\n",
              "\n",
              "    .colab-df-buttons div {\n",
              "      margin-bottom: 4px;\n",
              "    }\n",
              "\n",
              "    [theme=dark] .colab-df-convert {\n",
              "      background-color: #3B4455;\n",
              "      fill: #D2E3FC;\n",
              "    }\n",
              "\n",
              "    [theme=dark] .colab-df-convert:hover {\n",
              "      background-color: #434B5C;\n",
              "      box-shadow: 0px 1px 3px 1px rgba(0, 0, 0, 0.15);\n",
              "      filter: drop-shadow(0px 1px 2px rgba(0, 0, 0, 0.3));\n",
              "      fill: #FFFFFF;\n",
              "    }\n",
              "  </style>\n",
              "\n",
              "    <script>\n",
              "      const buttonEl =\n",
              "        document.querySelector('#df-946d5eea-cc91-4384-af9b-7148c211a3b6 button.colab-df-convert');\n",
              "      buttonEl.style.display =\n",
              "        google.colab.kernel.accessAllowed ? 'block' : 'none';\n",
              "\n",
              "      async function convertToInteractive(key) {\n",
              "        const element = document.querySelector('#df-946d5eea-cc91-4384-af9b-7148c211a3b6');\n",
              "        const dataTable =\n",
              "          await google.colab.kernel.invokeFunction('convertToInteractive',\n",
              "                                                    [key], {});\n",
              "        if (!dataTable) return;\n",
              "\n",
              "        const docLinkHtml = 'Like what you see? Visit the ' +\n",
              "          '<a target=\"_blank\" href=https://colab.research.google.com/notebooks/data_table.ipynb>data table notebook</a>'\n",
              "          + ' to learn more about interactive tables.';\n",
              "        element.innerHTML = '';\n",
              "        dataTable['output_type'] = 'display_data';\n",
              "        await google.colab.output.renderOutput(dataTable, element);\n",
              "        const docLink = document.createElement('div');\n",
              "        docLink.innerHTML = docLinkHtml;\n",
              "        element.appendChild(docLink);\n",
              "      }\n",
              "    </script>\n",
              "  </div>\n",
              "\n",
              "\n",
              "<div id=\"df-510abd43-969e-43e5-83a2-cfe4fc4bb530\">\n",
              "  <button class=\"colab-df-quickchart\" onclick=\"quickchart('df-510abd43-969e-43e5-83a2-cfe4fc4bb530')\"\n",
              "            title=\"Suggest charts.\"\n",
              "            style=\"display:none;\">\n",
              "\n",
              "<svg xmlns=\"http://www.w3.org/2000/svg\" height=\"24px\"viewBox=\"0 0 24 24\"\n",
              "     width=\"24px\">\n",
              "    <g>\n",
              "        <path d=\"M19 3H5c-1.1 0-2 .9-2 2v14c0 1.1.9 2 2 2h14c1.1 0 2-.9 2-2V5c0-1.1-.9-2-2-2zM9 17H7v-7h2v7zm4 0h-2V7h2v10zm4 0h-2v-4h2v4z\"/>\n",
              "    </g>\n",
              "</svg>\n",
              "  </button>\n",
              "\n",
              "<style>\n",
              "  .colab-df-quickchart {\n",
              "      --bg-color: #E8F0FE;\n",
              "      --fill-color: #1967D2;\n",
              "      --hover-bg-color: #E2EBFA;\n",
              "      --hover-fill-color: #174EA6;\n",
              "      --disabled-fill-color: #AAA;\n",
              "      --disabled-bg-color: #DDD;\n",
              "  }\n",
              "\n",
              "  [theme=dark] .colab-df-quickchart {\n",
              "      --bg-color: #3B4455;\n",
              "      --fill-color: #D2E3FC;\n",
              "      --hover-bg-color: #434B5C;\n",
              "      --hover-fill-color: #FFFFFF;\n",
              "      --disabled-bg-color: #3B4455;\n",
              "      --disabled-fill-color: #666;\n",
              "  }\n",
              "\n",
              "  .colab-df-quickchart {\n",
              "    background-color: var(--bg-color);\n",
              "    border: none;\n",
              "    border-radius: 50%;\n",
              "    cursor: pointer;\n",
              "    display: none;\n",
              "    fill: var(--fill-color);\n",
              "    height: 32px;\n",
              "    padding: 0;\n",
              "    width: 32px;\n",
              "  }\n",
              "\n",
              "  .colab-df-quickchart:hover {\n",
              "    background-color: var(--hover-bg-color);\n",
              "    box-shadow: 0 1px 2px rgba(60, 64, 67, 0.3), 0 1px 3px 1px rgba(60, 64, 67, 0.15);\n",
              "    fill: var(--button-hover-fill-color);\n",
              "  }\n",
              "\n",
              "  .colab-df-quickchart-complete:disabled,\n",
              "  .colab-df-quickchart-complete:disabled:hover {\n",
              "    background-color: var(--disabled-bg-color);\n",
              "    fill: var(--disabled-fill-color);\n",
              "    box-shadow: none;\n",
              "  }\n",
              "\n",
              "  .colab-df-spinner {\n",
              "    border: 2px solid var(--fill-color);\n",
              "    border-color: transparent;\n",
              "    border-bottom-color: var(--fill-color);\n",
              "    animation:\n",
              "      spin 1s steps(1) infinite;\n",
              "  }\n",
              "\n",
              "  @keyframes spin {\n",
              "    0% {\n",
              "      border-color: transparent;\n",
              "      border-bottom-color: var(--fill-color);\n",
              "      border-left-color: var(--fill-color);\n",
              "    }\n",
              "    20% {\n",
              "      border-color: transparent;\n",
              "      border-left-color: var(--fill-color);\n",
              "      border-top-color: var(--fill-color);\n",
              "    }\n",
              "    30% {\n",
              "      border-color: transparent;\n",
              "      border-left-color: var(--fill-color);\n",
              "      border-top-color: var(--fill-color);\n",
              "      border-right-color: var(--fill-color);\n",
              "    }\n",
              "    40% {\n",
              "      border-color: transparent;\n",
              "      border-right-color: var(--fill-color);\n",
              "      border-top-color: var(--fill-color);\n",
              "    }\n",
              "    60% {\n",
              "      border-color: transparent;\n",
              "      border-right-color: var(--fill-color);\n",
              "    }\n",
              "    80% {\n",
              "      border-color: transparent;\n",
              "      border-right-color: var(--fill-color);\n",
              "      border-bottom-color: var(--fill-color);\n",
              "    }\n",
              "    90% {\n",
              "      border-color: transparent;\n",
              "      border-bottom-color: var(--fill-color);\n",
              "    }\n",
              "  }\n",
              "</style>\n",
              "\n",
              "  <script>\n",
              "    async function quickchart(key) {\n",
              "      const quickchartButtonEl =\n",
              "        document.querySelector('#' + key + ' button');\n",
              "      quickchartButtonEl.disabled = true;  // To prevent multiple clicks.\n",
              "      quickchartButtonEl.classList.add('colab-df-spinner');\n",
              "      try {\n",
              "        const charts = await google.colab.kernel.invokeFunction(\n",
              "            'suggestCharts', [key], {});\n",
              "      } catch (error) {\n",
              "        console.error('Error during call to suggestCharts:', error);\n",
              "      }\n",
              "      quickchartButtonEl.classList.remove('colab-df-spinner');\n",
              "      quickchartButtonEl.classList.add('colab-df-quickchart-complete');\n",
              "    }\n",
              "    (() => {\n",
              "      let quickchartButtonEl =\n",
              "        document.querySelector('#df-510abd43-969e-43e5-83a2-cfe4fc4bb530 button');\n",
              "      quickchartButtonEl.style.display =\n",
              "        google.colab.kernel.accessAllowed ? 'block' : 'none';\n",
              "    })();\n",
              "  </script>\n",
              "</div>\n",
              "    </div>\n",
              "  </div>\n"
            ]
          },
          "metadata": {},
          "execution_count": 32
        }
      ]
    },
    {
      "cell_type": "markdown",
      "source": [
        "Ну и куда же мы без jff секции..."
      ],
      "metadata": {
        "id": "YKVQpgROXXhc"
      }
    },
    {
      "cell_type": "code",
      "source": [
        "'CУПEPHOBИHKA'.lower()"
      ],
      "metadata": {
        "colab": {
          "base_uri": "https://localhost:8080/",
          "height": 36
        },
        "id": "t6w8uSgvVqNi",
        "outputId": "868c5ae6-d537-4e15-c23f-31608b683c3d"
      },
      "execution_count": null,
      "outputs": [
        {
          "output_type": "execute_result",
          "data": {
            "text/plain": [
              "'cупephobиhka'"
            ],
            "application/vnd.google.colaboratory.intrinsic+json": {
              "type": "string"
            }
          },
          "metadata": {},
          "execution_count": 33
        }
      ]
    },
    {
      "cell_type": "code",
      "source": [
        "from neattext.explainer import emojify, emoji_explainer\n",
        "\n",
        "emoji_explainer('🤡'), emojify('V')"
      ],
      "metadata": {
        "colab": {
          "base_uri": "https://localhost:8080/"
        },
        "id": "58Dbt-lQSD8g",
        "outputId": "1cbc8ebe-adce-461d-cdb2-0e5eec223b96"
      },
      "execution_count": null,
      "outputs": [
        {
          "output_type": "execute_result",
          "data": {
            "text/plain": [
              "('CLOWN_FACE', '✌️')"
            ]
          },
          "metadata": {},
          "execution_count": 34
        }
      ]
    },
    {
      "cell_type": "markdown",
      "source": [
        "# Токенизация и сегментация"
      ],
      "metadata": {
        "id": "TQhPqhxoTOG2"
      }
    },
    {
      "cell_type": "markdown",
      "source": [
        "Токенизация — процесс разбиения текстового документа на отдельные слова, которые называются токенами."
      ],
      "metadata": {
        "id": "VYDRLqwsbP6c"
      }
    },
    {
      "cell_type": "markdown",
      "source": [
        "И это далеко не простой процесс, так как достаточно сложно дать определение, что же такое слово. Пожалуй, классический пример проблемы токенизациии. Вот где в данном тексте слова?"
      ],
      "metadata": {
        "id": "RCjwSK7FcKwc"
      }
    },
    {
      "cell_type": "code",
      "source": [
        "text = '''\n",
        "Продаётся LADA 4x4. ПТС 01.12.2018, куплена 20 января 19 года, 10 000 км пробега.\n",
        "Комплектация полная. Новая в салоне 750 000, отдам за 650 000.\n",
        "Возможен обмен на ВАЗ-2110 или ВАЗ 2109 с вашей доплатой.\n",
        "Краснодар, ул. Миклухо-Маклая, д. 4/5, подьезд 1\n",
        "Тел. 8(999)1234567, 8 903 987-65-43, +7 (351) 111 22 33\n",
        "И.И. Иванов (Иван Иванович)\n",
        "'''\n",
        "\n",
        "print(text.split())  # самая простая токенизация - разбиение по пробелам"
      ],
      "metadata": {
        "colab": {
          "base_uri": "https://localhost:8080/"
        },
        "id": "NNoQP3gvcEQ_",
        "outputId": "13776a9e-2cec-49ba-c832-3194e539bbcf"
      },
      "execution_count": null,
      "outputs": [
        {
          "output_type": "stream",
          "name": "stdout",
          "text": [
            "['Продаётся', 'LADA', '4x4.', 'ПТС', '01.12.2018,', 'куплена', '20', 'января', '19', 'года,', '10', '000', 'км', 'пробега.', 'Комплектация', 'полная.', 'Новая', 'в', 'салоне', '750', '000,', 'отдам', 'за', '650', '000.', 'Возможен', 'обмен', 'на', 'ВАЗ-2110', 'или', 'ВАЗ', '2109', 'с', 'вашей', 'доплатой.', 'Краснодар,', 'ул.', 'Миклухо-Маклая,', 'д.', '4/5,', 'подьезд', '1', 'Тел.', '8(999)1234567,', '8', '903', '987-65-43,', '+7', '(351)', '111', '22', '33', 'И.И.', 'Иванов', '(Иван', 'Иванович)']\n"
          ]
        }
      ]
    },
    {
      "cell_type": "markdown",
      "source": [
        "Нужно различать уникальные слова (типы) и токены. Токен = уникальное слово + его позиция в тексте."
      ],
      "metadata": {
        "id": "3Tpr9c6Vw6JM"
      }
    },
    {
      "cell_type": "markdown",
      "source": [
        "Самый большой набор токенизаторов есть в [библиотеке nltk](https://www.nltk.org/). Их там 19 штук. Вот достаточно [подробный обзор](https://vc.ru/newtechaudit/309131-obzor-tokenizatorov-vhodyashchih-v-sostav-biblioteki-nltk). Любой подобный токенизатор можно написать самостоятельно с помощью регулярных выражений."
      ],
      "metadata": {
        "id": "5HmH1AlmdGMF"
      }
    },
    {
      "cell_type": "code",
      "source": [
        "%%capture\n",
        "import nltk\n",
        "from nltk.tokenize import word_tokenize, ToktokTokenizer\n",
        "\n",
        "nltk.download('punkt')"
      ],
      "metadata": {
        "id": "8sL5fYuAeV6B"
      },
      "execution_count": null,
      "outputs": []
    },
    {
      "cell_type": "code",
      "source": [
        "print(word_tokenize(text))"
      ],
      "metadata": {
        "colab": {
          "base_uri": "https://localhost:8080/"
        },
        "id": "X_fvIQQqex0z",
        "outputId": "364526b4-c5dc-4b8b-93a4-504fe8b62d4a"
      },
      "execution_count": null,
      "outputs": [
        {
          "output_type": "stream",
          "name": "stdout",
          "text": [
            "['Продаётся', 'LADA', '4x4', '.', 'ПТС', '01.12.2018', ',', 'куплена', '20', 'января', '19', 'года', ',', '10', '000', 'км', 'пробега', '.', 'Комплектация', 'полная', '.', 'Новая', 'в', 'салоне', '750', '000', ',', 'отдам', 'за', '650', '000', '.', 'Возможен', 'обмен', 'на', 'ВАЗ-2110', 'или', 'ВАЗ', '2109', 'с', 'вашей', 'доплатой', '.', 'Краснодар', ',', 'ул', '.', 'Миклухо-Маклая', ',', 'д', '.', '4/5', ',', 'подьезд', '1', 'Тел', '.', '8', '(', '999', ')', '1234567', ',', '8', '903', '987-65-43', ',', '+7', '(', '351', ')', '111', '22', '33', 'И.И', '.', 'Иванов', '(', 'Иван', 'Иванович', ')']\n"
          ]
        }
      ]
    },
    {
      "cell_type": "markdown",
      "source": [
        "Рассмотрим ещё один токенизатор из [библиотеки natasha](https://github.com/natasha/natasha). Эта библиотека и её составляющие, наверное, самый частый инструмент, который вам доведется использовать при обработке русскоязычных текстов."
      ],
      "metadata": {
        "id": "5KU4xZsfeCCU"
      }
    },
    {
      "cell_type": "code",
      "source": [
        "%%capture\n",
        "!pip install natasha"
      ],
      "metadata": {
        "id": "unuTwoY8fBa5"
      },
      "execution_count": null,
      "outputs": []
    },
    {
      "cell_type": "code",
      "source": [
        "from razdel import tokenize  # razdel - часть библиотеки natasha\n",
        "\n",
        "print([item.text for item in tokenize(text)])"
      ],
      "metadata": {
        "colab": {
          "base_uri": "https://localhost:8080/"
        },
        "id": "ewjG2R3jfBj8",
        "outputId": "54fe84f4-6c9a-425c-d99f-f99b15a12442"
      },
      "execution_count": null,
      "outputs": [
        {
          "output_type": "stream",
          "name": "stdout",
          "text": [
            "['Продаётся', 'LADA', '4', 'x', '4', '.', 'ПТС', '01.12.2018', ',', 'куплена', '20', 'января', '19', 'года', ',', '10', '000', 'км', 'пробега', '.', 'Комплектация', 'полная', '.', 'Новая', 'в', 'салоне', '750', '000', ',', 'отдам', 'за', '650', '000', '.', 'Возможен', 'обмен', 'на', 'ВАЗ-2110', 'или', 'ВАЗ', '2109', 'с', 'вашей', 'доплатой', '.', 'Краснодар', ',', 'ул', '.', 'Миклухо-Маклая', ',', 'д', '.', '4/5', ',', 'подьезд', '1', 'Тел', '.', '8', '(', '999', ')', '1234567,', '8', '903', '987-65-43', ',', '+', '7', '(', '351', ')', '111', '22', '33', 'И', '.', 'И', '.', 'Иванов', '(', 'Иван', 'Иванович', ')']\n"
          ]
        }
      ]
    },
    {
      "cell_type": "markdown",
      "source": [
        "Сегментация похожа на токенизацию, но вместо слов мы выделяем предложения. Казалось бы, всё просто - нужно разбить по знакам пунктуации (?!.). Но всегда ли подобное разбиение позволит добиться желаемого? Приведите хотя бы три примера, когда перечисленные знаки препинания не являются концами предложения."
      ],
      "metadata": {
        "id": "IJvqkVmCf8M2"
      }
    },
    {
      "cell_type": "code",
      "source": [
        "from nltk.tokenize import sent_tokenize\n",
        "\n",
        "sent_tokenize(text)"
      ],
      "metadata": {
        "colab": {
          "base_uri": "https://localhost:8080/"
        },
        "id": "0YgABM2jgdn7",
        "outputId": "3d7db00e-d83a-429a-db90-48208d5502af"
      },
      "execution_count": null,
      "outputs": [
        {
          "output_type": "execute_result",
          "data": {
            "text/plain": [
              "['\\nПродаётся LADA 4x4.',\n",
              " 'ПТС 01.12.2018, куплена 20 января 19 года, 10 000 км пробега.',\n",
              " 'Комплектация полная.',\n",
              " 'Новая в салоне 750 000, отдам за 650 000.',\n",
              " 'Возможен обмен на ВАЗ-2110 или ВАЗ 2109 с вашей доплатой.',\n",
              " 'Краснодар, ул.',\n",
              " 'Миклухо-Маклая, д.',\n",
              " '4/5, подьезд 1\\nТел.',\n",
              " '8(999)1234567, 8 903 987-65-43, +7 (351) 111 22 33\\nИ.И.',\n",
              " 'Иванов (Иван Иванович)']"
            ]
          },
          "metadata": {},
          "execution_count": 40
        }
      ]
    },
    {
      "cell_type": "code",
      "source": [
        "%%capture\n",
        "!pip install rusenttokenize"
      ],
      "metadata": {
        "id": "kLxaB-Ogg2gx"
      },
      "execution_count": null,
      "outputs": []
    },
    {
      "cell_type": "code",
      "source": [
        "from rusenttokenize import ru_sent_tokenize\n",
        "\n",
        "ru_sent_tokenize(text)"
      ],
      "metadata": {
        "colab": {
          "base_uri": "https://localhost:8080/"
        },
        "id": "G7cQGssmgkRX",
        "outputId": "f98f68e7-2f73-4e3c-cd3a-69f8f5c9da77"
      },
      "execution_count": null,
      "outputs": [
        {
          "output_type": "execute_result",
          "data": {
            "text/plain": [
              "['Продаётся LADA 4x4.',\n",
              " 'ПТС 01.12.2018, куплена 20 января 19 года, 10 000 км пробега.',\n",
              " 'Комплектация полная.',\n",
              " 'Новая в салоне 750 000, отдам за 650 000.',\n",
              " 'Возможен обмен на ВАЗ-2110 или ВАЗ 2109 с вашей доплатой.',\n",
              " 'Краснодар, ул. Миклухо-Маклая, д. 4/5, подьезд 1\\nТел. 8(999)1234567, 8 903 987-65-43, +7 (351) 111 22 33\\nИ.И. Иванов (Иван Иванович)']"
            ]
          },
          "metadata": {},
          "execution_count": 42
        }
      ]
    },
    {
      "cell_type": "code",
      "source": [
        "%%time\n",
        "_ = vk_df.text.apply(lambda text: ru_sent_tokenize(text))"
      ],
      "metadata": {
        "colab": {
          "base_uri": "https://localhost:8080/"
        },
        "id": "7NrhnoyHhPEb",
        "outputId": "f82bf32f-96cd-430c-a72e-0cd4e46bc871"
      },
      "execution_count": null,
      "outputs": [
        {
          "output_type": "stream",
          "name": "stderr",
          "text": [
            "WARNING:root:Something went wrong while tokenizing\n"
          ]
        },
        {
          "output_type": "stream",
          "name": "stdout",
          "text": [
            "CPU times: user 8.57 s, sys: 32.2 ms, total: 8.6 s\n",
            "Wall time: 25.6 s\n"
          ]
        }
      ]
    },
    {
      "cell_type": "code",
      "source": [
        "from razdel import sentenize\n",
        "\n",
        "[item.text for item in sentenize(text)]"
      ],
      "metadata": {
        "colab": {
          "base_uri": "https://localhost:8080/"
        },
        "id": "fkzgvGKdgnFT",
        "outputId": "0ca0ae22-da0e-4672-c284-4b159c34567e"
      },
      "execution_count": null,
      "outputs": [
        {
          "output_type": "execute_result",
          "data": {
            "text/plain": [
              "['Продаётся LADA 4x4.',\n",
              " 'ПТС 01.12.2018, куплена 20 января 19 года, 10 000 км пробега.',\n",
              " 'Комплектация полная.',\n",
              " 'Новая в салоне 750 000, отдам за 650 000.',\n",
              " 'Возможен обмен на ВАЗ-2110 или ВАЗ 2109 с вашей доплатой.',\n",
              " 'Краснодар, ул. Миклухо-Маклая, д. 4/5, подьезд 1\\nТел. 8(999)1234567, 8 903 987-65-43, +7 (351) 111 22 33\\nИ.И. Иванов (Иван Иванович)']"
            ]
          },
          "metadata": {},
          "execution_count": 44
        }
      ]
    },
    {
      "cell_type": "code",
      "source": [
        "%%time\n",
        "_ = vk_df.text.apply(lambda text: sentenize(text))"
      ],
      "metadata": {
        "colab": {
          "base_uri": "https://localhost:8080/"
        },
        "id": "IXEVqykGhZf8",
        "outputId": "c4ff913a-fa51-4820-d4b1-2db42462dcf5"
      },
      "execution_count": null,
      "outputs": [
        {
          "output_type": "stream",
          "name": "stdout",
          "text": [
            "CPU times: user 210 ms, sys: 13.1 ms, total: 224 ms\n",
            "Wall time: 297 ms\n"
          ]
        }
      ]
    },
    {
      "cell_type": "markdown",
      "source": [
        "# Стемминг"
      ],
      "metadata": {
        "id": "m-tl-e70TQcK"
      }
    },
    {
      "cell_type": "markdown",
      "source": [
        "И стемминг, и лемматизация используются для уменьшения вариативности в данных. Условно, с точки зрения смысла, \"корова\", \"корову\" и \"корове\" - это одни и те же слова, так как речь идет о животном. Обе тактики позволяют привести слова к одному виду. Наглядно о разнице:"
      ],
      "metadata": {
        "id": "mgDmWcTSNJQt"
      }
    },
    {
      "cell_type": "markdown",
      "source": [
        "![image.png](data:image/png;base64,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)"
      ],
      "metadata": {
        "id": "06L_cNFjODj6"
      }
    },
    {
      "cell_type": "markdown",
      "source": [
        "Стемминг представляет собой отсечение от слова окончаний и суффиксов, чтобы оставшаяся часть, называемая stem, была одинаковой для всех грамматических форм слова. Стем необязательно совпадает с морфлогической основой слова. Одинаковый стем может получиться и не у однокоренных слов и наоборот — в этом проблема стемминга.\n",
        "\n",
        "1-ый вид ошибки: белый, белка, белье\n",
        " бел\n",
        "\n",
        "2-ой вид ошибки: трудность, трудный\n",
        " трудност, труд\n",
        "\n",
        "3-ий вид ошибки: быстрый, быстрее\n",
        " быст, побыстрее\n",
        " побыст"
      ],
      "metadata": {
        "id": "dl9JhBV4L469"
      }
    },
    {
      "cell_type": "markdown",
      "source": [
        "Стемминг хорошо работает для английского языка и плохо - для русского. Однако в любом случае его неоспоримым преимуществом является скорость работы."
      ],
      "metadata": {
        "id": "kMpgO9QTMJdx"
      }
    },
    {
      "cell_type": "code",
      "source": [
        "from nltk.stem.snowball import SnowballStemmer\n",
        "\n",
        "\n",
        "snowball = SnowballStemmer(\"russian\")\n",
        "text = vk_df.preprocessed.sample().tolist()[0]\n",
        "print(text)\n",
        "print()\n",
        "\n",
        "print(\"{0:20}{1:20}\".format(\"--Word--\",\"--Stem--\"))\n",
        "for word in [item.text for item in tokenize(text)]:\n",
        "   print (\"{0:20}{1:20}\".format(word, snowball.stem(word)))"
      ],
      "metadata": {
        "colab": {
          "base_uri": "https://localhost:8080/"
        },
        "id": "J1lmiaCfMWmP",
        "outputId": "3e4ad420-113c-4736-e788-01d53d96b93b"
      },
      "execution_count": null,
      "outputs": [
        {
          "output_type": "stream",
          "name": "stdout",
          "text": [
            "proapk adguard обновление безопасность блокировка конфиденциальность обновление от версия adguard это лучший выбор для защиты от вредоносных программ и избавления от навязчивой рекламы это единственный в своём роде интернет фильтр который защищает вас от вездесущей рекламы вредоносных и фишинговых сайтов онлайн трекинга и многого другого adguard действительно справится с блокировкой абсолютно всех видов интернет рекламы ускорит загрузку страниц сэкономит трафик и повысит защиту вашего устройства от возможных угроз adguard использует уникальную технологию позволяющую фильтровать трафик вашего устройства для которой не требуются root права скорость работы фильтрации не будет зависеть от работы vpn сервера так как он размещается прямо на вашем устройстве внимание публичные беспроводные точки доступа в сеть интернет не разрешают работу adguard и как следствие приложение вероятнее всего не будет блокировать рекламу рекомендуемый объём озу оперативной памяти у вашего устройства от гб мод premium версия активирована платная подписка до конца времён доступны все настройки ссылка на загрузку\n",
            "\n",
            "--Word--            --Stem--            \n",
            "proapk              proapk              \n",
            "adguard             adguard             \n",
            "обновление          обновлен            \n",
            "безопасность        безопасн            \n",
            "блокировка          блокировк           \n",
            "конфиденциальность  конфиденциальн      \n",
            "обновление          обновлен            \n",
            "от                  от                  \n",
            "версия              верс                \n",
            "adguard             adguard             \n",
            "это                 эт                  \n",
            "лучший              лучш                \n",
            "выбор               выбор               \n",
            "для                 для                 \n",
            "защиты              защит               \n",
            "от                  от                  \n",
            "вредоносных         вредоносн           \n",
            "программ            программ            \n",
            "и                   и                   \n",
            "избавления          избавлен            \n",
            "от                  от                  \n",
            "навязчивой          навязчив            \n",
            "рекламы             реклам              \n",
            "это                 эт                  \n",
            "единственный        единствен           \n",
            "в                   в                   \n",
            "своём               сво                 \n",
            "роде                род                 \n",
            "интернет            интернет            \n",
            "фильтр              фильтр              \n",
            "который             котор               \n",
            "защищает            защища              \n",
            "вас                 вас                 \n",
            "от                  от                  \n",
            "вездесущей          вездесущ            \n",
            "рекламы             реклам              \n",
            "вредоносных         вредоносн           \n",
            "и                   и                   \n",
            "фишинговых          фишингов            \n",
            "сайтов              сайт                \n",
            "онлайн              онлайн              \n",
            "трекинга            трекинг             \n",
            "и                   и                   \n",
            "многого             мног                \n",
            "другого             друг                \n",
            "adguard             adguard             \n",
            "действительно       действительн        \n",
            "справится           справ               \n",
            "с                   с                   \n",
            "блокировкой         блокировк           \n",
            "абсолютно           абсолютн            \n",
            "всех                всех                \n",
            "видов               вид                 \n",
            "интернет            интернет            \n",
            "рекламы             реклам              \n",
            "ускорит             ускор               \n",
            "загрузку            загрузк             \n",
            "страниц             страниц             \n",
            "сэкономит           сэконом             \n",
            "трафик              трафик              \n",
            "и                   и                   \n",
            "повысит             повыс               \n",
            "защиту              защит               \n",
            "вашего              ваш                 \n",
            "устройства          устройств           \n",
            "от                  от                  \n",
            "возможных           возможн             \n",
            "угроз               угроз               \n",
            "adguard             adguard             \n",
            "использует          использ             \n",
            "уникальную          уникальн            \n",
            "технологию          технолог            \n",
            "позволяющую         позволя             \n",
            "фильтровать         фильтрова           \n",
            "трафик              трафик              \n",
            "вашего              ваш                 \n",
            "устройства          устройств           \n",
            "для                 для                 \n",
            "которой             котор               \n",
            "не                  не                  \n",
            "требуются           треб                \n",
            "root                root                \n",
            "права               прав                \n",
            "скорость            скорост             \n",
            "работы              работ               \n",
            "фильтрации          фильтрац            \n",
            "не                  не                  \n",
            "будет               будет               \n",
            "зависеть            зависет             \n",
            "от                  от                  \n",
            "работы              работ               \n",
            "vpn                 vpn                 \n",
            "сервера             сервер              \n",
            "так                 так                 \n",
            "как                 как                 \n",
            "он                  он                  \n",
            "размещается         размеща             \n",
            "прямо               прям                \n",
            "на                  на                  \n",
            "вашем               ваш                 \n",
            "устройстве          устройств           \n",
            "внимание            вниман              \n",
            "публичные           публичн             \n",
            "беспроводные        беспроводн          \n",
            "точки               точк                \n",
            "доступа             доступ              \n",
            "в                   в                   \n",
            "сеть                сет                 \n",
            "интернет            интернет            \n",
            "не                  не                  \n",
            "разрешают           разреша             \n",
            "работу              работ               \n",
            "adguard             adguard             \n",
            "и                   и                   \n",
            "как                 как                 \n",
            "следствие           следств             \n",
            "приложение          приложен            \n",
            "вероятнее           вероятн             \n",
            "всего               всег                \n",
            "не                  не                  \n",
            "будет               будет               \n",
            "блокировать         блокирова           \n",
            "рекламу             реклам              \n",
            "рекомендуемый       рекомендуем         \n",
            "объём               обь                 \n",
            "озу                 оз                  \n",
            "оперативной         оперативн           \n",
            "памяти              памят               \n",
            "у                   у                   \n",
            "вашего              ваш                 \n",
            "устройства          устройств           \n",
            "от                  от                  \n",
            "гб                  гб                  \n",
            "мод                 мод                 \n",
            "premium             premium             \n",
            "версия              верс                \n",
            "активирована        активирова          \n",
            "платная             платн               \n",
            "подписка            подписк             \n",
            "до                  до                  \n",
            "конца               конц                \n",
            "времён              врем                \n",
            "доступны            доступн             \n",
            "все                 все                 \n",
            "настройки           настройк            \n",
            "ссылка              ссылк               \n",
            "на                  на                  \n",
            "загрузку            загрузк             \n"
          ]
        }
      ]
    },
    {
      "cell_type": "code",
      "source": [
        "text = preprocess_text(\"\"\"Stemming algorithms attempt to find the common base roots of various inflections\n",
        "by cutting off the endings or beginnings of the word. The chop is based on a list of common\n",
        "prefixes and suffixes that can typically be found in inflected words. This non-discriminatory\n",
        "nature act of chopping words may occasionally lead to finding meaningful word stems, but\n",
        "other times it does not.\"\"\")\n",
        "\n",
        "snowball = SnowballStemmer(\"english\")\n",
        "print(\"{0:20}{1:20}\".format(\"--Word--\",\"--Stem--\"))\n",
        "for word in [item.text for item in tokenize(text)]:\n",
        "   print (\"{0:20}{1:20}\".format(word, snowball.stem(word)))"
      ],
      "metadata": {
        "colab": {
          "base_uri": "https://localhost:8080/"
        },
        "id": "xHkgsa7BNxLK",
        "outputId": "9b7f5a63-6a64-4e3e-b732-976214e8486f"
      },
      "execution_count": null,
      "outputs": [
        {
          "output_type": "stream",
          "name": "stdout",
          "text": [
            "--Word--            --Stem--            \n",
            "stemming            stem                \n",
            "algorithms          algorithm           \n",
            "attempt             attempt             \n",
            "to                  to                  \n",
            "find                find                \n",
            "the                 the                 \n",
            "common              common              \n",
            "base                base                \n",
            "roots               root                \n",
            "of                  of                  \n",
            "various             various             \n",
            "inflections         inflect             \n",
            "by                  by                  \n",
            "cutting             cut                 \n",
            "off                 off                 \n",
            "the                 the                 \n",
            "endings             end                 \n",
            "or                  or                  \n",
            "beginnings          begin               \n",
            "of                  of                  \n",
            "the                 the                 \n",
            "word                word                \n",
            "the                 the                 \n",
            "chop                chop                \n",
            "is                  is                  \n",
            "based               base                \n",
            "on                  on                  \n",
            "a                   a                   \n",
            "list                list                \n",
            "of                  of                  \n",
            "common              common              \n",
            "prefixes            prefix              \n",
            "and                 and                 \n",
            "suffixes            suffix              \n",
            "that                that                \n",
            "can                 can                 \n",
            "typically           typic               \n",
            "be                  be                  \n",
            "found               found               \n",
            "in                  in                  \n",
            "inflected           inflect             \n",
            "words               word                \n",
            "this                this                \n",
            "non                 non                 \n",
            "discriminatory      discriminatori      \n",
            "nature              natur               \n",
            "act                 act                 \n",
            "of                  of                  \n",
            "chopping            chop                \n",
            "words               word                \n",
            "may                 may                 \n",
            "occasionally        occasion            \n",
            "lead                lead                \n",
            "to                  to                  \n",
            "finding             find                \n",
            "meaningful          meaning             \n",
            "word                word                \n",
            "stems               stem                \n",
            "but                 but                 \n",
            "other               other               \n",
            "times               time                \n",
            "it                  it                  \n",
            "does                doe                 \n",
            "not                 not                 \n"
          ]
        }
      ]
    },
    {
      "cell_type": "markdown",
      "source": [
        "# Лемматизация"
      ],
      "metadata": {
        "id": "5QnAQ5SLTSfI"
      }
    },
    {
      "cell_type": "markdown",
      "source": [
        "Лемматизация — это процесс приведения словоформы к лемме, то есть нормальной (словарной) форме.\n",
        "\n",
        "Было бы странно рассматривать лемматизацию в отрыве от частеречной разметки, поэтому сначала остановимся на задаче POS-tagging (part of speech tagging)."
      ],
      "metadata": {
        "id": "cdejhTkQSoIO"
      }
    },
    {
      "cell_type": "markdown",
      "source": [
        "Частеречная разметка, или POS-tagging (part of speech tagging) — определение части речи и грамматических характеристик слов в тексте (корпусе) с приписыванием им соответствующих тегов.\n",
        "\n",
        "Для большинства слов возможно несколько разборов (несколько разных лемм, несколько разных частей речи и т.п.). Тэггер генерирует все варианты, ранжирует их по вероятности и выдает наиболее вероятный. Выбор одного разбора из нескольких называется снятием омонимии, или дизамбигуацией.\n",
        "\n",
        "Существует множество наборов грамматических тегов:\n",
        "* OpenCorpora\n",
        "* Диалог-2010\n",
        "* НКРЯ\n",
        "* Universal Dependencies\n",
        "\n",
        "Для русского языка существует [библиотка russian-tagsets](https://pypi.org/project/russian-tagsets/), позволяющая конвертировать одни теги в другие.\n",
        "\n",
        "На данный момент стандартом является Universal Dependencies. Список основных тегов UD:\n",
        "\n",
        "* ADJ: adjective\n",
        "* ADP: adposition\n",
        "* ADV: adverb\n",
        "* AUX: auxiliary\n",
        "* CCONJ: coordinating conjunction\n",
        "* DET: determiner\n",
        "* INTJ: interjection\n",
        "* NOUN: noun\n",
        "* NUM: numeral\n",
        "* PART: particle\n",
        "* PRON: pronoun\n",
        "* PROPN: proper noun\n",
        "* PUNCT: punctuation\n",
        "* SCONJ: subordinating conjunction\n",
        "* SYM: symbol\n",
        "* VERB: verb\n",
        "* X: other"
      ],
      "metadata": {
        "id": "Jx3kni4BWhPK"
      }
    },
    {
      "cell_type": "markdown",
      "source": [
        "Существует несколько библиотек для морфологического анализа русскоязычных текстов, а именно `pymystem3`, `pymorphy2`, `natasha` (использует под капотом `pymorphy2`), `spacy` и другие. Для русского языка лучше всего подходит `pymystem3`, так как его методы принимают на вход не единичное слово, а текст, и при определении словоформы учитывается контекст."
      ],
      "metadata": {
        "id": "pGWlYFL_YSeI"
      }
    },
    {
      "cell_type": "markdown",
      "source": [
        "Посмотрим пару примеров для английского и русского."
      ],
      "metadata": {
        "id": "4rE0uON-bsPV"
      }
    },
    {
      "cell_type": "code",
      "source": [
        "%%capture\n",
        "import nltk\n",
        "\n",
        "nltk.download('punkt')\n",
        "nltk.download('wordnet')\n",
        "nltk.download('averaged_perceptron_tagger')"
      ],
      "metadata": {
        "id": "CBdj2QC8cGGl"
      },
      "execution_count": null,
      "outputs": []
    },
    {
      "cell_type": "code",
      "source": [
        "from textblob import TextBlob, Word\n",
        "\n",
        "text = \"\"\"\"Dialogue\" is an international conference on computational linguistics with a 40-years history.\n",
        "Today it is de facto the world’s leading international forum on problems and methods of computational\n",
        "analysis of the Russian language in a typological perspective. The Dialogue community (regular authors, reviewers)\n",
        "includes more than 200 researchers working around the world, united by the idea of interaction between theoretical\n",
        "linguistics and applied technologies, in particular - Deep Learning.\n",
        "\"\"\"\n",
        "textblob = TextBlob(text)\n",
        "print(textblob.tags)  # POS-tagging"
      ],
      "metadata": {
        "colab": {
          "base_uri": "https://localhost:8080/"
        },
        "id": "v0PDHwerYRGm",
        "outputId": "17a81e2c-1ac8-4e58-e900-c98925a3ae22"
      },
      "execution_count": null,
      "outputs": [
        {
          "output_type": "stream",
          "name": "stdout",
          "text": [
            "[('Dialogue', 'NN'), ('is', 'VBZ'), ('an', 'DT'), ('international', 'JJ'), ('conference', 'NN'), ('on', 'IN'), ('computational', 'JJ'), ('linguistics', 'NNS'), ('with', 'IN'), ('a', 'DT'), ('40-years', 'JJ'), ('history', 'NN'), ('Today', 'NN'), ('it', 'PRP'), ('is', 'VBZ'), ('de', 'JJ'), ('facto', 'FW'), ('the', 'DT'), ('world', 'NN'), ('’', 'NN'), ('s', 'NN'), ('leading', 'VBG'), ('international', 'JJ'), ('forum', 'NN'), ('on', 'IN'), ('problems', 'NNS'), ('and', 'CC'), ('methods', 'NNS'), ('of', 'IN'), ('computational', 'JJ'), ('analysis', 'NN'), ('of', 'IN'), ('the', 'DT'), ('Russian', 'JJ'), ('language', 'NN'), ('in', 'IN'), ('a', 'DT'), ('typological', 'JJ'), ('perspective', 'NN'), ('The', 'DT'), ('Dialogue', 'NNP'), ('community', 'NN'), ('regular', 'JJ'), ('authors', 'NNS'), ('reviewers', 'NNS'), ('includes', 'VBZ'), ('more', 'JJR'), ('than', 'IN'), ('200', 'CD'), ('researchers', 'NNS'), ('working', 'VBG'), ('around', 'IN'), ('the', 'DT'), ('world', 'NN'), ('united', 'VBN'), ('by', 'IN'), ('the', 'DT'), ('idea', 'NN'), ('of', 'IN'), ('interaction', 'NN'), ('between', 'IN'), ('theoretical', 'JJ'), ('linguistics', 'NNS'), ('and', 'CC'), ('applied', 'JJ'), ('technologies', 'NNS'), ('in', 'IN'), ('particular', 'JJ'), ('Deep', 'JJ'), ('Learning', 'NNP')]\n"
          ]
        }
      ]
    },
    {
      "cell_type": "code",
      "source": [
        "w = Word(\"technologies\")\n",
        "w.lemmatize()  # lemmatization"
      ],
      "metadata": {
        "colab": {
          "base_uri": "https://localhost:8080/",
          "height": 36
        },
        "id": "vo_10EHscrMF",
        "outputId": "6f487ceb-2e03-4724-889e-bb8427c69c09"
      },
      "execution_count": null,
      "outputs": [
        {
          "output_type": "execute_result",
          "data": {
            "text/plain": [
              "'technology'"
            ],
            "application/vnd.google.colaboratory.intrinsic+json": {
              "type": "string"
            }
          },
          "metadata": {},
          "execution_count": 50
        }
      ]
    },
    {
      "cell_type": "code",
      "source": [
        "%%capture\n",
        "!python -m spacy download en_core_web_sm"
      ],
      "metadata": {
        "id": "Svwutsgqe5s-"
      },
      "execution_count": null,
      "outputs": []
    },
    {
      "cell_type": "code",
      "source": [
        "import spacy\n",
        "\n",
        "nlp = spacy.load(\"en_core_web_sm\")\n",
        "doc = nlp(text)\n",
        "for token in doc:\n",
        "    print(f\"Token: {token.text}, POS Tag: {token.pos_}, Lemma: {token.lemma_}\")"
      ],
      "metadata": {
        "colab": {
          "base_uri": "https://localhost:8080/"
        },
        "id": "-6BewxpxgyUt",
        "outputId": "52b91fe1-8667-426f-e841-f43daadc696d"
      },
      "execution_count": null,
      "outputs": [
        {
          "output_type": "stream",
          "name": "stdout",
          "text": [
            "Token: \", POS Tag: PUNCT, Lemma: \"\n",
            "Token: Dialogue, POS Tag: PROPN, Lemma: Dialogue\n",
            "Token: \", POS Tag: PUNCT, Lemma: \"\n",
            "Token: is, POS Tag: AUX, Lemma: be\n",
            "Token: an, POS Tag: DET, Lemma: an\n",
            "Token: international, POS Tag: ADJ, Lemma: international\n",
            "Token: conference, POS Tag: NOUN, Lemma: conference\n",
            "Token: on, POS Tag: ADP, Lemma: on\n",
            "Token: computational, POS Tag: ADJ, Lemma: computational\n",
            "Token: linguistics, POS Tag: NOUN, Lemma: linguistic\n",
            "Token: with, POS Tag: ADP, Lemma: with\n",
            "Token: a, POS Tag: DET, Lemma: a\n",
            "Token: 40, POS Tag: NUM, Lemma: 40\n",
            "Token: -, POS Tag: PUNCT, Lemma: -\n",
            "Token: years, POS Tag: NOUN, Lemma: year\n",
            "Token: history, POS Tag: NOUN, Lemma: history\n",
            "Token: ., POS Tag: PUNCT, Lemma: .\n",
            "Token: \n",
            ", POS Tag: SPACE, Lemma: \n",
            "\n",
            "Token: Today, POS Tag: NOUN, Lemma: today\n",
            "Token: it, POS Tag: PRON, Lemma: it\n",
            "Token: is, POS Tag: AUX, Lemma: be\n",
            "Token: de, POS Tag: ADV, Lemma: de\n",
            "Token: facto, POS Tag: X, Lemma: facto\n",
            "Token: the, POS Tag: DET, Lemma: the\n",
            "Token: world, POS Tag: NOUN, Lemma: world\n",
            "Token: ’s, POS Tag: PART, Lemma: ’s\n",
            "Token: leading, POS Tag: VERB, Lemma: lead\n",
            "Token: international, POS Tag: ADJ, Lemma: international\n",
            "Token: forum, POS Tag: NOUN, Lemma: forum\n",
            "Token: on, POS Tag: ADP, Lemma: on\n",
            "Token: problems, POS Tag: NOUN, Lemma: problem\n",
            "Token: and, POS Tag: CCONJ, Lemma: and\n",
            "Token: methods, POS Tag: NOUN, Lemma: method\n",
            "Token: of, POS Tag: ADP, Lemma: of\n",
            "Token: computational, POS Tag: ADJ, Lemma: computational\n",
            "Token: \n",
            ", POS Tag: SPACE, Lemma: \n",
            "\n",
            "Token: analysis, POS Tag: NOUN, Lemma: analysis\n",
            "Token: of, POS Tag: ADP, Lemma: of\n",
            "Token: the, POS Tag: DET, Lemma: the\n",
            "Token: Russian, POS Tag: ADJ, Lemma: russian\n",
            "Token: language, POS Tag: NOUN, Lemma: language\n",
            "Token: in, POS Tag: ADP, Lemma: in\n",
            "Token: a, POS Tag: DET, Lemma: a\n",
            "Token: typological, POS Tag: ADJ, Lemma: typological\n",
            "Token: perspective, POS Tag: NOUN, Lemma: perspective\n",
            "Token: ., POS Tag: PUNCT, Lemma: .\n",
            "Token: The, POS Tag: DET, Lemma: the\n",
            "Token: Dialogue, POS Tag: PROPN, Lemma: Dialogue\n",
            "Token: community, POS Tag: NOUN, Lemma: community\n",
            "Token: (, POS Tag: PUNCT, Lemma: (\n",
            "Token: regular, POS Tag: ADJ, Lemma: regular\n",
            "Token: authors, POS Tag: NOUN, Lemma: author\n",
            "Token: ,, POS Tag: PUNCT, Lemma: ,\n",
            "Token: reviewers, POS Tag: NOUN, Lemma: reviewer\n",
            "Token: ), POS Tag: PUNCT, Lemma: )\n",
            "Token: \n",
            ", POS Tag: SPACE, Lemma: \n",
            "\n",
            "Token: includes, POS Tag: VERB, Lemma: include\n",
            "Token: more, POS Tag: ADJ, Lemma: more\n",
            "Token: than, POS Tag: ADP, Lemma: than\n",
            "Token: 200, POS Tag: NUM, Lemma: 200\n",
            "Token: researchers, POS Tag: NOUN, Lemma: researcher\n",
            "Token: working, POS Tag: VERB, Lemma: work\n",
            "Token: around, POS Tag: ADP, Lemma: around\n",
            "Token: the, POS Tag: DET, Lemma: the\n",
            "Token: world, POS Tag: NOUN, Lemma: world\n",
            "Token: ,, POS Tag: PUNCT, Lemma: ,\n",
            "Token: united, POS Tag: VERB, Lemma: unite\n",
            "Token: by, POS Tag: ADP, Lemma: by\n",
            "Token: the, POS Tag: DET, Lemma: the\n",
            "Token: idea, POS Tag: NOUN, Lemma: idea\n",
            "Token: of, POS Tag: ADP, Lemma: of\n",
            "Token: interaction, POS Tag: NOUN, Lemma: interaction\n",
            "Token: between, POS Tag: ADP, Lemma: between\n",
            "Token: theoretical, POS Tag: ADJ, Lemma: theoretical\n",
            "Token: \n",
            ", POS Tag: SPACE, Lemma: \n",
            "\n",
            "Token: linguistics, POS Tag: NOUN, Lemma: linguistic\n",
            "Token: and, POS Tag: CCONJ, Lemma: and\n",
            "Token: applied, POS Tag: VERB, Lemma: apply\n",
            "Token: technologies, POS Tag: NOUN, Lemma: technology\n",
            "Token: ,, POS Tag: PUNCT, Lemma: ,\n",
            "Token: in, POS Tag: ADP, Lemma: in\n",
            "Token: particular, POS Tag: ADJ, Lemma: particular\n",
            "Token: -, POS Tag: PUNCT, Lemma: -\n",
            "Token: Deep, POS Tag: PROPN, Lemma: Deep\n",
            "Token: Learning, POS Tag: PROPN, Lemma: Learning\n",
            "Token: ., POS Tag: PUNCT, Lemma: .\n",
            "Token: \n",
            ", POS Tag: SPACE, Lemma: \n",
            "\n"
          ]
        }
      ]
    },
    {
      "cell_type": "code",
      "source": [
        "import pymorphy2\n",
        "\n",
        "text = \"\"\"\n",
        "«Диалог» - международная конференция по компьютерной лингвистике с 40-летней историей.\n",
        "Является сегодня де-факто крупнейшим экстерриториальным форумом для обсуждения методов\n",
        "компьютерного анализа русского языка в типологической перспективе. Сообщество Диалога\n",
        "(постоянных авторов, рецензентов) включает более 200 исследователей, работающих по всему миру,\n",
        "объединенных идеей взаимодействия теоретической лингвистики и прикладных технологий, в частности\n",
        "– глубокого обучения.\n",
        "\"\"\"\n",
        "morph = pymorphy2.MorphAnalyzer()\n",
        "for word in [item.text for item in tokenize(text)]:\n",
        "    parsed = morph.parse(word)\n",
        "    print(f\"Word: {word}, POS: {parsed[0].tag.POS}, Lemma: {parsed[0].normal_form}\")"
      ],
      "metadata": {
        "colab": {
          "base_uri": "https://localhost:8080/"
        },
        "id": "mm20BOpXiTnp",
        "outputId": "73e72b6a-b983-40e1-fead-b1a9ec618125"
      },
      "execution_count": null,
      "outputs": [
        {
          "output_type": "stream",
          "name": "stdout",
          "text": [
            "Word: «, POS: None, Lemma: «\n",
            "Word: Диалог, POS: NOUN, Lemma: диалог\n",
            "Word: », POS: None, Lemma: »\n",
            "Word: -, POS: None, Lemma: -\n",
            "Word: международная, POS: ADJF, Lemma: международный\n",
            "Word: конференция, POS: NOUN, Lemma: конференция\n",
            "Word: по, POS: PREP, Lemma: по\n",
            "Word: компьютерной, POS: ADJF, Lemma: компьютерный\n",
            "Word: лингвистике, POS: NOUN, Lemma: лингвистика\n",
            "Word: с, POS: PREP, Lemma: с\n",
            "Word: 40-летней, POS: ADJF, Lemma: 40-летний\n",
            "Word: историей, POS: NOUN, Lemma: история\n",
            "Word: ., POS: None, Lemma: .\n",
            "Word: Является, POS: VERB, Lemma: являться\n",
            "Word: сегодня, POS: ADVB, Lemma: сегодня\n",
            "Word: де-факто, POS: ADVB, Lemma: де-факто\n",
            "Word: крупнейшим, POS: ADJF, Lemma: крупный\n",
            "Word: экстерриториальным, POS: ADJF, Lemma: экстерриториальный\n",
            "Word: форумом, POS: NOUN, Lemma: форум\n",
            "Word: для, POS: PREP, Lemma: для\n",
            "Word: обсуждения, POS: NOUN, Lemma: обсуждение\n",
            "Word: методов, POS: NOUN, Lemma: метод\n",
            "Word: компьютерного, POS: ADJF, Lemma: компьютерный\n",
            "Word: анализа, POS: NOUN, Lemma: анализ\n",
            "Word: русского, POS: ADJF, Lemma: русский\n",
            "Word: языка, POS: NOUN, Lemma: язык\n",
            "Word: в, POS: PREP, Lemma: в\n",
            "Word: типологической, POS: ADJF, Lemma: типологический\n",
            "Word: перспективе, POS: NOUN, Lemma: перспектива\n",
            "Word: ., POS: None, Lemma: .\n",
            "Word: Сообщество, POS: NOUN, Lemma: сообщество\n",
            "Word: Диалога, POS: NOUN, Lemma: диалог\n",
            "Word: (, POS: None, Lemma: (\n",
            "Word: постоянных, POS: ADJF, Lemma: постоянный\n",
            "Word: авторов, POS: NOUN, Lemma: автор\n",
            "Word: ,, POS: None, Lemma: ,\n",
            "Word: рецензентов, POS: NOUN, Lemma: рецензент\n",
            "Word: ), POS: None, Lemma: )\n",
            "Word: включает, POS: VERB, Lemma: включать\n",
            "Word: более, POS: ADVB, Lemma: более\n",
            "Word: 200, POS: None, Lemma: 200\n",
            "Word: исследователей, POS: NOUN, Lemma: исследователь\n",
            "Word: ,, POS: None, Lemma: ,\n",
            "Word: работающих, POS: PRTF, Lemma: работать\n",
            "Word: по, POS: PREP, Lemma: по\n",
            "Word: всему, POS: ADJF, Lemma: весь\n",
            "Word: миру, POS: NOUN, Lemma: мир\n",
            "Word: ,, POS: None, Lemma: ,\n",
            "Word: объединенных, POS: PRTF, Lemma: объединить\n",
            "Word: идеей, POS: NOUN, Lemma: идея\n",
            "Word: взаимодействия, POS: NOUN, Lemma: взаимодействие\n",
            "Word: теоретической, POS: ADJF, Lemma: теоретический\n",
            "Word: лингвистики, POS: NOUN, Lemma: лингвистика\n",
            "Word: и, POS: CONJ, Lemma: и\n",
            "Word: прикладных, POS: ADJF, Lemma: прикладной\n",
            "Word: технологий, POS: NOUN, Lemma: технология\n",
            "Word: ,, POS: None, Lemma: ,\n",
            "Word: в, POS: PREP, Lemma: в\n",
            "Word: частности, POS: NOUN, Lemma: частность\n",
            "Word: –, POS: None, Lemma: –\n",
            "Word: глубокого, POS: ADJF, Lemma: глубокий\n",
            "Word: обучения, POS: NOUN, Lemma: обучение\n",
            "Word: ., POS: None, Lemma: .\n"
          ]
        }
      ]
    },
    {
      "cell_type": "code",
      "source": [
        "from pymystem3 import Mystem\n",
        "\n",
        "mystem = Mystem()\n",
        "lemmas_info = mystem.analyze(text)\n",
        "\n",
        "for info in lemmas_info:\n",
        "    if 'analysis' in info and info['analysis']:\n",
        "        word = info['text']\n",
        "        pos = info['analysis'][0]['gr']\n",
        "        lemma = info['analysis'][0]['lex']\n",
        "        print(f\"Word: {word}, POS: {pos}, Lemma: {lemma}\")"
      ],
      "metadata": {
        "colab": {
          "base_uri": "https://localhost:8080/"
        },
        "id": "sTAc99_9iB3I",
        "outputId": "5281f42e-bc15-4c60-b603-9f6ff9fe2a1e"
      },
      "execution_count": null,
      "outputs": [
        {
          "output_type": "stream",
          "name": "stderr",
          "text": [
            "Installing mystem to /root/.local/bin/mystem from http://download.cdn.yandex.net/mystem/mystem-3.1-linux-64bit.tar.gz\n"
          ]
        },
        {
          "output_type": "stream",
          "name": "stdout",
          "text": [
            "Word: Диалог, POS: S,муж,неод=(вин,ед|им,ед), Lemma: диалог\n",
            "Word: международная, POS: A=им,ед,полн,жен, Lemma: международный\n",
            "Word: конференция, POS: S,жен,неод=им,ед, Lemma: конференция\n",
            "Word: по, POS: PR=, Lemma: по\n",
            "Word: компьютерной, POS: A=(пр,ед,полн,жен|дат,ед,полн,жен|род,ед,полн,жен|твор,ед,полн,жен), Lemma: компьютерный\n",
            "Word: лингвистике, POS: S,жен,неод=(пр,ед|дат,ед), Lemma: лингвистика\n",
            "Word: с, POS: PR=, Lemma: с\n",
            "Word: летней, POS: A=(пр,ед,полн,жен|дат,ед,полн,жен|род,ед,полн,жен|твор,ед,полн,жен), Lemma: летний\n",
            "Word: историей, POS: S,жен,неод=твор,ед, Lemma: история\n",
            "Word: Является, POS: V,нп=непрош,ед,изъяв,3-л,несов, Lemma: являться\n",
            "Word: сегодня, POS: ADV=, Lemma: сегодня\n",
            "Word: де-факто, POS: ADV=, Lemma: де-факто\n",
            "Word: крупнейшим, POS: A=(дат,мн,полн,прев|твор,ед,полн,прев,муж|твор,ед,полн,прев,сред), Lemma: крупный\n",
            "Word: экстерриториальным, POS: A=(дат,мн,полн|твор,ед,полн,муж|твор,ед,полн,сред), Lemma: экстерриториальный\n",
            "Word: форумом, POS: S,муж,неод=твор,ед, Lemma: форум\n",
            "Word: для, POS: PR=, Lemma: для\n",
            "Word: обсуждения, POS: S,сред,неод=(вин,мн|род,ед|им,мн), Lemma: обсуждение\n",
            "Word: методов, POS: S,муж,неод=род,мн, Lemma: метод\n",
            "Word: компьютерного, POS: A=(вин,ед,полн,муж,од|род,ед,полн,муж|род,ед,полн,сред), Lemma: компьютерный\n",
            "Word: анализа, POS: S,муж,неод=род,ед, Lemma: анализ\n",
            "Word: русского, POS: A=(вин,ед,полн,муж,од|род,ед,полн,муж|род,ед,полн,сред), Lemma: русский\n",
            "Word: языка, POS: S,муж,неод=род,ед, Lemma: язык\n",
            "Word: в, POS: PR=, Lemma: в\n",
            "Word: типологической, POS: A=(пр,ед,полн,жен|дат,ед,полн,жен|род,ед,полн,жен|твор,ед,полн,жен), Lemma: типологический\n",
            "Word: перспективе, POS: S,жен,неод=(пр,ед|дат,ед), Lemma: перспектива\n",
            "Word: Сообщество, POS: S,сред,неод=(вин,ед|им,ед), Lemma: сообщество\n",
            "Word: Диалога, POS: S,муж,неод=род,ед, Lemma: диалог\n",
            "Word: постоянных, POS: A=(пр,мн,полн|вин,мн,полн,од|род,мн,полн), Lemma: постоянный\n",
            "Word: авторов, POS: S,муж,од=(вин,мн|род,мн), Lemma: автор\n",
            "Word: рецензентов, POS: S,муж,од=(вин,мн|род,мн), Lemma: рецензент\n",
            "Word: включает, POS: V,пе=непрош,ед,изъяв,3-л,несов, Lemma: включать\n",
            "Word: более, POS: ADV=срав, Lemma: много\n",
            "Word: исследователей, POS: S,муж,од=(вин,мн|род,мн), Lemma: исследователь\n",
            "Word: работающих, POS: V,несов,нп=(непрош,пр,мн,прич,полн,действ|непрош,род,мн,прич,полн,действ|непрош,вин,мн,прич,полн,действ,од), Lemma: работать\n",
            "Word: по, POS: PR=, Lemma: по\n",
            "Word: всему, POS: APRO=(дат,ед,муж|дат,ед,сред), Lemma: весь\n",
            "Word: миру, POS: S,муж,неод=дат,ед, Lemma: мир\n",
            "Word: объединенных, POS: V,пе=(прош,пр,мн,прич,полн,сов,страд|прош,вин,мн,прич,полн,сов,страд,од|прош,род,мн,прич,полн,сов,страд), Lemma: объединять\n",
            "Word: идеей, POS: S,жен,неод=твор,ед, Lemma: идея\n",
            "Word: взаимодействия, POS: S,сред,неод=(вин,мн|род,ед|им,мн), Lemma: взаимодействие\n",
            "Word: теоретической, POS: A=(пр,ед,полн,жен|дат,ед,полн,жен|род,ед,полн,жен|твор,ед,полн,жен), Lemma: теоретический\n",
            "Word: лингвистики, POS: S,жен,неод=(вин,мн|род,ед|им,мн), Lemma: лингвистика\n",
            "Word: и, POS: CONJ=, Lemma: и\n",
            "Word: прикладных, POS: A=(пр,мн,полн|вин,мн,полн,од|род,мн,полн), Lemma: прикладной\n",
            "Word: технологий, POS: S,жен,неод=род,мн, Lemma: технология\n",
            "Word: в, POS: PR=, Lemma: в\n",
            "Word: частности, POS: S,жен,неод=(пр,ед|вин,мн|дат,ед|род,ед|им,мн), Lemma: частность\n",
            "Word: глубокого, POS: A=(вин,ед,полн,муж,од|род,ед,полн,муж|род,ед,полн,сред), Lemma: глубокий\n",
            "Word: обучения, POS: S,сред,неод=(вин,мн|род,ед|им,мн), Lemma: обучение\n"
          ]
        }
      ]
    },
    {
      "cell_type": "code",
      "source": [
        "print(mystem.lemmatize(text))  # если нужны только леммы"
      ],
      "metadata": {
        "colab": {
          "base_uri": "https://localhost:8080/"
        },
        "id": "AMEyx7LskHCy",
        "outputId": "220ab4e3-889c-491d-e0d1-6d1e3ab772d2"
      },
      "execution_count": null,
      "outputs": [
        {
          "output_type": "stream",
          "name": "stdout",
          "text": [
            "['\\n', '«', 'диалог', '» - ', 'международный', ' ', 'конференция', ' ', 'по', ' ', 'компьютерный', ' ', 'лингвистика', ' ', 'с', ' ', '40', '-', 'летний', ' ', 'история', '.', '\\n', 'являться', ' ', 'сегодня', ' ', 'де-факто', ' ', 'крупный', ' ', 'экстерриториальный', ' ', 'форум', ' ', 'для', ' ', 'обсуждение', ' ', 'метод', '\\n', 'компьютерный', ' ', 'анализ', ' ', 'русский', ' ', 'язык', ' ', 'в', ' ', 'типологический', ' ', 'перспектива', '. ', 'сообщество', ' ', 'диалог', '\\n', '(', 'постоянный', ' ', 'автор', ', ', 'рецензент', ') ', 'включать', ' ', 'много', ' ', '200', ' ', 'исследователь', ', ', 'работать', ' ', 'по', ' ', 'весь', ' ', 'мир', ',\\n', 'объединять', ' ', 'идея', ' ', 'взаимодействие', ' ', 'теоретический', ' ', 'лингвистика', ' ', 'и', ' ', 'прикладной', ' ', 'технология', ', ', 'в', ' ', 'частность', '\\n', '– ', 'глубокий', ' ', 'обучение', '.', '\\n']\n"
          ]
        }
      ]
    },
    {
      "cell_type": "code",
      "source": [
        "from natasha import Segmenter, MorphVocab, NewsEmbedding, NewsMorphTagger, Doc\n",
        "\n",
        "segmenter = Segmenter()\n",
        "morph_vocab = MorphVocab()\n",
        "emb = NewsEmbedding()\n",
        "morph_tagger = NewsMorphTagger(emb)\n",
        "\n",
        "doc = Doc(text)\n",
        "doc.segment(segmenter)"
      ],
      "metadata": {
        "id": "3E2JCcV3kfxd"
      },
      "execution_count": null,
      "outputs": []
    },
    {
      "cell_type": "code",
      "source": [
        "doc.tag_morph(morph_tagger)\n",
        "doc.sents[0].morph.print()"
      ],
      "metadata": {
        "colab": {
          "base_uri": "https://localhost:8080/"
        },
        "id": "5m3jTHlOmCTS",
        "outputId": "447b7de2-df41-4922-decd-08fe234a0ac1"
      },
      "execution_count": null,
      "outputs": [
        {
          "output_type": "stream",
          "name": "stdout",
          "text": [
            "                   « PUNCT\n",
            "              Диалог NOUN|Animacy=Inan|Case=Nom|Gender=Masc|Number=Sing\n",
            "                   » PUNCT\n",
            "                   - PUNCT\n",
            "       международная ADJ|Case=Nom|Degree=Pos|Gender=Fem|Number=Sing\n",
            "         конференция NOUN|Animacy=Inan|Case=Nom|Gender=Fem|Number=Sing\n",
            "                  по ADP\n",
            "        компьютерной ADJ|Case=Dat|Degree=Pos|Gender=Fem|Number=Sing\n",
            "         лингвистике NOUN|Animacy=Inan|Case=Dat|Gender=Fem|Number=Sing\n",
            "                   с ADP\n",
            "           40-летней ADJ|Case=Ins|Degree=Pos|Gender=Fem|Number=Sing\n",
            "            историей NOUN|Animacy=Inan|Case=Ins|Gender=Fem|Number=Sing\n",
            "                   . PUNCT\n"
          ]
        }
      ]
    },
    {
      "cell_type": "code",
      "source": [
        "for token in doc.tokens:\n",
        "    token.lemmatize(morph_vocab)\n",
        "{_.text: _.lemma for _ in doc.tokens}"
      ],
      "metadata": {
        "colab": {
          "base_uri": "https://localhost:8080/"
        },
        "id": "lNSiZmg-mHls",
        "outputId": "ca2c0e15-5c54-4bc8-ec2c-b619ba063e9a"
      },
      "execution_count": null,
      "outputs": [
        {
          "output_type": "execute_result",
          "data": {
            "text/plain": [
              "{'«': '«',\n",
              " 'Диалог': 'диалог',\n",
              " '»': '»',\n",
              " '-': '-',\n",
              " 'международная': 'международный',\n",
              " 'конференция': 'конференция',\n",
              " 'по': 'по',\n",
              " 'компьютерной': 'компьютерный',\n",
              " 'лингвистике': 'лингвистика',\n",
              " 'с': 'с',\n",
              " '40-летней': '40-летний',\n",
              " 'историей': 'история',\n",
              " '.': '.',\n",
              " 'Является': 'являться',\n",
              " 'сегодня': 'сегодня',\n",
              " 'де-факто': 'де-факто',\n",
              " 'крупнейшим': 'крупный',\n",
              " 'экстерриториальным': 'экстерриториальный',\n",
              " 'форумом': 'форум',\n",
              " 'для': 'для',\n",
              " 'обсуждения': 'обсуждение',\n",
              " 'методов': 'метод',\n",
              " 'компьютерного': 'компьютерный',\n",
              " 'анализа': 'анализ',\n",
              " 'русского': 'русский',\n",
              " 'языка': 'язык',\n",
              " 'в': 'в',\n",
              " 'типологической': 'типологический',\n",
              " 'перспективе': 'перспектива',\n",
              " 'Сообщество': 'сообщество',\n",
              " 'Диалога': 'диалог',\n",
              " '(': '(',\n",
              " 'постоянных': 'постоянный',\n",
              " 'авторов': 'автор',\n",
              " ',': ',',\n",
              " 'рецензентов': 'рецензент',\n",
              " ')': ')',\n",
              " 'включает': 'включать',\n",
              " 'более': 'более',\n",
              " '200': '200',\n",
              " 'исследователей': 'исследователь',\n",
              " 'работающих': 'работать',\n",
              " 'всему': 'весь',\n",
              " 'миру': 'мир',\n",
              " 'объединенных': 'объединенных',\n",
              " 'идеей': 'идея',\n",
              " 'взаимодействия': 'взаимодействие',\n",
              " 'теоретической': 'теоретический',\n",
              " 'лингвистики': 'лингвистика',\n",
              " 'и': 'и',\n",
              " 'прикладных': 'прикладной',\n",
              " 'технологий': 'технология',\n",
              " 'частности': 'частность',\n",
              " '–': '–',\n",
              " 'глубокого': 'глубокий',\n",
              " 'обучения': 'обучение'}"
            ]
          },
          "metadata": {},
          "execution_count": 58
        }
      ]
    },
    {
      "cell_type": "code",
      "source": [
        "# pymorphy2 уверен, что название нашего вуза - это прилагательное\n",
        "\n",
        "print(f\"Mystem: {mystem.lemmatize('ИТМО')[0]}\")\n",
        "print(f\"Pymorphy2: {morph.parse('ИТМО')[0].normal_form}\")"
      ],
      "metadata": {
        "colab": {
          "base_uri": "https://localhost:8080/"
        },
        "id": "a_uYL9uy-21m",
        "outputId": "bfea1596-da81-4023-fb4f-e7e0e55d0345"
      },
      "execution_count": null,
      "outputs": [
        {
          "output_type": "stream",
          "name": "stdout",
          "text": [
            "Mystem: итмо\n",
            "Pymorphy2: итмый\n"
          ]
        }
      ]
    },
    {
      "cell_type": "markdown",
      "source": [
        "Также кратко затронем задачу синтеза словоформ. Может пригодиться при составлении предложений и при лемматизации словосочетаний."
      ],
      "metadata": {
        "id": "qt26fP7IYJXO"
      }
    },
    {
      "cell_type": "code",
      "source": [
        "Word(\"criterion\").pluralize()  # антоним - singularize()"
      ],
      "metadata": {
        "colab": {
          "base_uri": "https://localhost:8080/",
          "height": 36
        },
        "id": "qmQzxEwWdk6H",
        "outputId": "771cda52-2ee4-4b54-b9db-4daeb347673a"
      },
      "execution_count": null,
      "outputs": [
        {
          "output_type": "execute_result",
          "data": {
            "text/plain": [
              "'criteria'"
            ],
            "application/vnd.google.colaboratory.intrinsic+json": {
              "type": "string"
            }
          },
          "metadata": {},
          "execution_count": 59
        }
      ]
    },
    {
      "cell_type": "code",
      "source": [
        "morph = pymorphy2.MorphAnalyzer()\n",
        "\n",
        "word = \"язык\"\n",
        "inflected = morph.parse(word)[0]\n",
        "print(f\"Именительный падеж: {inflected.normal_form}\")\n",
        "print(f\"Творительный падеж: {inflected.inflect({'ablt'}).word}\")  # про граммемы в pymorphy2 можно почитать тут https://pymorphy2.readthedocs.io/en/stable/user/grammemes.html"
      ],
      "metadata": {
        "colab": {
          "base_uri": "https://localhost:8080/"
        },
        "id": "ytv3D6dpbaFC",
        "outputId": "1c33b425-d83e-44d6-ef78-3bb379a4ea12"
      },
      "execution_count": null,
      "outputs": [
        {
          "output_type": "stream",
          "name": "stdout",
          "text": [
            "Именительный падеж: язык\n",
            "Творительный падеж: языком\n"
          ]
        }
      ]
    },
    {
      "cell_type": "markdown",
      "source": [
        "# Стоп-слова"
      ],
      "metadata": {
        "id": "yX2Qj35oTVhk"
      }
    },
    {
      "cell_type": "markdown",
      "source": [
        "Стоп-слова — это высокочастотные слова, которые не дают никакой информации о конкретном тексте. Они составляют верхушку частотного списка в любом языке. Набор стоп-слов не универсален, он будет зависеть от задачи, хотя некоторые слова (предлоги, союзы) можно считать стоп-словами по умолчанию."
      ],
      "metadata": {
        "id": "BsaufkiZyAza"
      }
    },
    {
      "cell_type": "markdown",
      "source": [
        "Доказательство того, что в стоп-слова чаще всего попадают предлоги и союзы:"
      ],
      "metadata": {
        "id": "7uLa2eaLy_ek"
      }
    },
    {
      "cell_type": "code",
      "source": [
        "from collections import Counter\n",
        "\n",
        "jumbled_preprocessed_vk_texts_tokenized = [item.text for item in tokenize(' '.join(vk_df.preprocessed))]\n",
        "cnt = Counter(jumbled_preprocessed_vk_texts_tokenized)\n",
        "print(cnt.most_common(20))"
      ],
      "metadata": {
        "colab": {
          "base_uri": "https://localhost:8080/"
        },
        "id": "v5OFr-cE0Fb8",
        "outputId": "5bab0bb9-b6fc-452a-bb22-e6ceb8188657"
      },
      "execution_count": null,
      "outputs": [
        {
          "output_type": "stream",
          "name": "stdout",
          "text": [
            "[('и', 25738), ('в', 22322), ('на', 11629), ('не', 9387), ('o', 7785), ('a', 7224), ('с', 7136), ('что', 6918), ('e', 6112), ('я', 5786), ('к', 4439), ('по', 4232), ('как', 4187), ('а', 3969), ('это', 3805), ('для', 3284), ('то', 3240), ('т', 3128), ('c', 3078), ('из', 2919)]\n"
          ]
        }
      ]
    },
    {
      "cell_type": "markdown",
      "source": [
        "Существуют готовые списки стоп-слов, которые легко дополнить своими."
      ],
      "metadata": {
        "id": "fDCeFrSs1gZy"
      }
    },
    {
      "cell_type": "code",
      "source": [
        "from nltk.corpus import stopwords\n",
        "\n",
        "nltk.download('punkt')\n",
        "nltk.download('stopwords')\n",
        "\n",
        "# Доступные языки: 'arabic', 'azerbaijani', 'danish', 'dutch', 'english', 'finnish',\n",
        "# 'french', 'german', 'greek', 'hungarian', 'indonesian', 'italian', 'kazakh', 'nepali',\n",
        "# 'norwegian', 'portuguese', 'romanian', 'russian', 'spanish', 'swedish', 'turkish'\n",
        "\n",
        "russian_stopwords = stopwords.words('russian') + [\n",
        "'всё', 'это', 'твой', 'свой', 'весь', 'вообще',\n",
        "'пусть', 'ещё', 'который', 'её', 'словно', 'пока',\n",
        "'сколько', 'сквозь', 'чей', 'вокруг', 'любой', 'слишком', 'почему',\n",
        "'среди', 'значит', 'ваш', 'тысяча', 'однажды', 'сегодня',\n",
        "'завтра', 'вчера', 'послезавтра', 'позавчера', 'нибыть', 'точно',\n",
        "'уметь', 'целый', 'полный', 'часть', 'делать',\n",
        "'готовый', 'хотя', 'как', 'столько', 'равно', 'оно', 'похожий',\n",
        "'скоро', 'разный', 'всякий', 'порой', 'часто', 'настоящий', 'вместо',\n",
        "'вовсе', 'иметь', 'вроде', 'лишь', 'также',\n",
        "'наверное', 'три', 'четыре', 'пять', 'шесть', 'семь', 'восемь',\n",
        "'девять', 'десять', 'пускай', 'мимо', 'частый', 'сей', 'привет',\n",
        "'наверно', 'туда', 'иль', 'возможно', 'вено', 'иной', 'едва',\n",
        "'поэтому', 'впереди', 'зря', 'вообще', 'меж', 'мол', 'нету', 'наш',\n",
        "'иначе', 'всякий', 'ради', 'оттого', 'нечего', 'скорее',\n",
        "'пред', 'сначала', 'вряд', 'случайно', 'коль', 'многий', 'кроме',\n",
        "'откуда', 'нынче', 'ибо', 'порою', 'вне', 'кой', 'еле', 'разом',\n",
        "'либо', 'зато', 'сорок', 'везде', 'таков', 'вон', 'покуда',\n",
        "'затем', 'особенно', 'несмотря', 'сотый', 'всюду',\n",
        "'возле', 'кстати', 'прям', 'ныне', 'бай', 'предельно',\n",
        "'чрез', 'некий', 'впредь', 'практически', 'лишь', 'каждый',\n",
        "'день', 'год', 'мочь', 'изза', 'из-за', 'трое', 'двое',\n",
        "'коли', 'найти', 'нужно', 'снова', 'первый', 'второй',\n",
        "'третий', 'вновь', 'казаться', 'мало', 'много', 'ссылка']"
      ],
      "metadata": {
        "colab": {
          "base_uri": "https://localhost:8080/"
        },
        "id": "JnLQjH3v1oz7",
        "outputId": "03ba736c-669a-424c-daec-be7e4d6d5832"
      },
      "execution_count": null,
      "outputs": [
        {
          "output_type": "stream",
          "name": "stderr",
          "text": [
            "[nltk_data] Downloading package punkt to /root/nltk_data...\n",
            "[nltk_data]   Package punkt is already up-to-date!\n",
            "[nltk_data] Downloading package stopwords to /root/nltk_data...\n",
            "[nltk_data]   Unzipping corpora/stopwords.zip.\n"
          ]
        }
      ]
    },
    {
      "cell_type": "markdown",
      "source": [
        "Исключение стоп-слов выглядит проще некуда. Одно списковое включение с условием. Обычно стоп-слова лучше выбрасывать после всей предшествующей предобработки (особенно, если она включает лемматизацию). Как вы думаете, почему?"
      ],
      "metadata": {
        "id": "bmaSSJuT1xnP"
      }
    },
    {
      "cell_type": "code",
      "source": [
        "text = vk_df.sample().preprocessed.tolist()[0]\n",
        "print(text)\n",
        "\n",
        "no_stops = ' '.join([word for item in tokenize(text) if (word:=item.text) not in russian_stopwords])\n",
        "print(no_stops)"
      ],
      "metadata": {
        "colab": {
          "base_uri": "https://localhost:8080/"
        },
        "id": "RpWbKxN612y2",
        "outputId": "90b71068-3b31-4184-d802-3ff8c8d39b0a"
      },
      "execution_count": null,
      "outputs": [
        {
          "output_type": "stream",
          "name": "stdout",
          "text": [
            "добро пожаловать в итмо у тебя есть возможность записаться на консультации с опытными психологами медико психолого социального центра университета итмо мы ответим на вопросы о психологии поможем поддержим объясним и направим выбери дату и время первой сессии в форме мы пришлём напоминание и расскажем в письме как подготовиться к первой встрече если хочешь записаться на повторную консультацию напиши нам в сообщения группы запись на первую консультацию vk cc cgbvcq контакты доб\n",
            "добро пожаловать итмо возможность записаться консультации опытными психологами медико психолого социального центра университета итмо ответим вопросы психологии поможем поддержим объясним направим выбери дату время первой сессии форме пришлём напоминание расскажем письме подготовиться первой встрече хочешь записаться повторную консультацию напиши нам сообщения группы запись первую консультацию vk cc cgbvcq контакты доб\n"
          ]
        }
      ]
    },
    {
      "cell_type": "markdown",
      "source": [
        "# Что ещё?"
      ],
      "metadata": {
        "id": "ek0xpdwfTXn4"
      }
    },
    {
      "cell_type": "markdown",
      "source": [
        "Также одним из шагов предобработки может быть исправление опечаток. Однако нужно учитывать, что spell-checker-ы работают довольно долго."
      ],
      "metadata": {
        "id": "AcJJPoTxm8Hs"
      }
    },
    {
      "cell_type": "markdown",
      "source": [
        "Есть несколько библиотек для исправления опечаток в русскоязычных текстах. Также можно использовать сторонние апи (Yandex Speller, например). Рассмотрим одну достаточно неплохо работающую библиотеку."
      ],
      "metadata": {
        "id": "fhZjNacJlIGZ"
      }
    },
    {
      "cell_type": "code",
      "source": [
        "%%capture\n",
        "# инфо про библиотку тут: https://habr.com/ru/post/346618/\n",
        "# а про установку тут: https://colab.research.google.com/drive/1aFk8-7nq3oAp402jjLGLpEb2Nzq210Eo#scrollTo=5ZSmLdaRX-FX\n",
        "\n",
        "!sudo apt-get install swig3.0\n",
        "!sudo pip install jamspell\n",
        "\n",
        "!wget https://github.com/bakwc/JamSpell-models/raw/master/ru.tar.gz\n",
        "!tar -xvf ru.tar.gz"
      ],
      "metadata": {
        "id": "AUSh2LyslEZJ"
      },
      "execution_count": null,
      "outputs": []
    },
    {
      "cell_type": "code",
      "source": [
        "import jamspell\n",
        "\n",
        "corrector = jamspell.TSpellCorrector()\n",
        "assert corrector.LoadLangModel('ru_small.bin')"
      ],
      "metadata": {
        "id": "62yFPCUHlqbs"
      },
      "execution_count": null,
      "outputs": []
    },
    {
      "cell_type": "code",
      "source": [
        "corrector.FixFragment(\"Испрвление опечаток инагда можит дать приимущество\")"
      ],
      "metadata": {
        "colab": {
          "base_uri": "https://localhost:8080/",
          "height": 36
        },
        "id": "T-yntnXxlyLI",
        "outputId": "5258eccb-9deb-4c83-df5c-b64dda519519"
      },
      "execution_count": null,
      "outputs": [
        {
          "output_type": "execute_result",
          "data": {
            "text/plain": [
              "'Исправление опечаток иногда может дать преимущество'"
            ],
            "application/vnd.google.colaboratory.intrinsic+json": {
              "type": "string"
            }
          },
          "metadata": {},
          "execution_count": 82
        }
      ]
    },
    {
      "cell_type": "markdown",
      "source": [
        "Еще один из возможных шагов предобработки - инвертирование текста, написанного транслитом или в неправильной раскладке клавиатуры.\n",
        "\n",
        "В качестве задания реализуйте функцию, конвертирующую латиницу в кириллицу, исходя из предположения, что текст был набран в неправильной раскладке. Протестируйте вашу реализацию на различных текстах."
      ],
      "metadata": {
        "id": "SHcw6YfumWxK"
      }
    },
    {
      "cell_type": "markdown",
      "source": [
        "# Задание"
      ],
      "metadata": {
        "id": "aOHz3o6xTOC0"
      }
    },
    {
      "cell_type": "markdown",
      "source": [
        "1. Возьмите два случайных текста на одну тему (на русском и английском) длиной не менее 1000 символов."
      ],
      "metadata": {
        "id": "n68HPpBmTEJd"
      }
    },
    {
      "cell_type": "code",
      "source": [],
      "metadata": {
        "id": "kPb56S9KWQtq"
      },
      "execution_count": null,
      "outputs": []
    },
    {
      "cell_type": "markdown",
      "source": [
        ":2. Намеренно испортите тексты - добавьте ссылки, html-тэги, эмодзи и опечатки."
      ],
      "metadata": {
        "id": "ZXPcZ2jYT7mZ"
      }
    },
    {
      "cell_type": "code",
      "source": [],
      "metadata": {
        "id": "A8CD_vbfWRNG"
      },
      "execution_count": null,
      "outputs": []
    },
    {
      "cell_type": "markdown",
      "source": [
        "3. Преобразуйте получившиеся тексты, используя рассмотренные в данном блокноте шаги предобработки (очистка, токенизация и/или сегментация, стемминг и/или лемматизация, удаление-стоп-слов)."
      ],
      "metadata": {
        "id": "auAHYMutT-jI"
      }
    },
    {
      "cell_type": "code",
      "source": [],
      "metadata": {
        "id": "syrc8TBQWR1A"
      },
      "execution_count": null,
      "outputs": []
    },
    {
      "cell_type": "markdown",
      "source": [
        "4. Сравните полученные тексты с исходными. Получается ли понять, о чем в преобразованных текстах идет речь?\n",
        "\n",
        "  Параметры, которые можно использовать для сравнения - длина текста, количество слов (используйте один и тот же токенизатор!), количество уникальных слов."
      ],
      "metadata": {
        "id": "ItPTfXlKUyT1"
      }
    },
    {
      "cell_type": "code",
      "source": [],
      "metadata": {
        "id": "V8AaF63ZWSfP"
      },
      "execution_count": null,
      "outputs": []
    }
  ]
}